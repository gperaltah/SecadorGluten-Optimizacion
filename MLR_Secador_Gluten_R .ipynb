{
 "cells": [
  {
   "cell_type": "markdown",
   "metadata": {},
   "source": [
    "# Implementación de algoritmo de regresión lineal multivariable (MLR) para predicción de la humedad de un secador de Maíz."
   ]
  },
  {
   "cell_type": "markdown",
   "metadata": {},
   "source": [
    "## <font color= blue> 1. Preparación de la base de datos.</font>"
   ]
  },
  {
   "cell_type": "markdown",
   "metadata": {},
   "source": [
    "Realizamos el mismo tratamiento a la base de datos que en los modelos de regresión lineal, es decir, eliminando las características seleccionadas en el análisis operativo, cambiando las variables categoricas o de estado a valores numericos y eliminando los outliers encontrados en la regresión lineal."
   ]
  },
  {
   "cell_type": "markdown",
   "metadata": {},
   "source": [
    "Primero importamos la librerias a utilizar:"
   ]
  },
  {
   "cell_type": "code",
   "execution_count": 6,
   "metadata": {},
   "outputs": [
    {
     "name": "stderr",
     "output_type": "stream",
     "text": [
      "Warning message:\n",
      "\"package 'readxl' was built under R version 3.6.3\""
     ]
    }
   ],
   "source": [
    "#Importar librerias\n",
    "library(\"readxl\")\n"
   ]
  },
  {
   "cell_type": "markdown",
   "metadata": {},
   "source": [
    "Se carga la base de datos y se obtiene información de la misma:"
   ]
  },
  {
   "cell_type": "code",
   "execution_count": 7,
   "metadata": {},
   "outputs": [
    {
     "name": "stdout",
     "output_type": "stream",
     "text": [
      "tibble [3,416 x 36] (S3: tbl_df/tbl/data.frame)\n",
      " $ Timestamp             : POSIXct[1:3416], format: \"2021-08-30 18:00:00\" \"2021-08-30 16:00:00\" ...\n",
      " $ Humedad               : num [1:3416] 11.7 11.9 11.3 12.4 10.6 ...\n",
      " $ Nivel_RVF_1           : num [1:3416] 80.1 79.9 79.8 81.1 80.2 ...\n",
      " $ RPM_RVF_1             : num [1:3416] 605 604 605 605 604 ...\n",
      " $ Nivel_RVF_2           : num [1:3416] 80.8 80.4 79.5 79.3 80.5 ...\n",
      " $ RPM_RVF_2             : num [1:3416] 1096 1096 1095 1095 1096 ...\n",
      " $ Nivel_RVF_3           : num [1:3416] 79.6 80.4 79.6 80.2 79.3 ...\n",
      " $ RPM_RVF_3             : num [1:3416] 1104 1103 1103 1103 1103 ...\n",
      " $ Nivel_RVF_4           : num [1:3416] 82.6 81.1 81.2 78 78 ...\n",
      " $ RPM_RVF_4             : num [1:3416] 1104 1106 1105 1104 1106 ...\n",
      " $ Nivel_RVF_5           : num [1:3416] 80.2 80.2 79.8 80.5 79.1 ...\n",
      " $ RPM_RVF_5             : num [1:3416] 945 945 945 945 945 ...\n",
      " $ Nivel_RVF_6           : num [1:3416] 80 80.4 79.9 80.8 79.7 ...\n",
      " $ RPM_RVF_6             : num [1:3416] 963 963 963 963 963 ...\n",
      " $ Triturador_1          : chr [1:3416] \"Active\" \"Active\" \"Active\" \"Active\" ...\n",
      " $ Triturador_2          : chr [1:3416] \"Active\" \"Active\" \"Active\" \"Active\" ...\n",
      " $ Triturador_1_A        : num [1:3416] 26.5 25.5 25.4 25.5 25.2 ...\n",
      " $ Triturador_2_A        : num [1:3416] 24.7 23.1 22.6 24.8 23.6 ...\n",
      " $ Triturador_1_Bypass   : chr [1:3416] \"Open\" \"Open\" \"Open\" \"Open\" ...\n",
      " $ Triturador_2_Bypass   : chr [1:3416] \"Closed\" \"Closed\" \"Closed\" \"Closed\" ...\n",
      " $ TE                    : num [1:3416] 385 387 376 361 365 ...\n",
      " $ TS                    : num [1:3416] 90.9 92.3 90.7 89.1 90.1 ...\n",
      " $ Draft                 : num [1:3416] 1.0341 1.0206 0.767 0.6614 0.0334 ...\n",
      " $ Flujo_gas             : num [1:3416] 178 180 175 159 163 ...\n",
      " $ Flujo_aire            : num [1:3416] 7.31 7.2 7.21 7.06 6.56 ...\n",
      " $ Damper_Reciclo        : num [1:3416] 100 100 100 100 100 100 100 100 100 100 ...\n",
      " $ Damper_atm            : num [1:3416] 0 0 0 0 0 0 0 0 0 0 ...\n",
      " $ Damper_scrubber       : num [1:3416] 100 100 100 100 100 100 100 100 100 100 ...\n",
      " $ Motor_Secador         : num [1:3416] 16.6 16.1 16.5 15.5 15.9 ...\n",
      " $ Motor_ventilador_humos: num [1:3416] 116 117 118 115 116 ...\n",
      " $ Motor_soplador_reciclo: num [1:3416] 24 23.4 23.5 23.9 23.9 ...\n",
      " $ Motor_gusano_descarga : num [1:3416] 2.92 2.84 2.85 2.82 2.86 ...\n",
      " $ Motor_rastra_descarga : num [1:3416] 3.28 3.15 3.31 3.18 3.15 ...\n",
      " $ Molino_salida_1       : num [1:3416] 78.5 61.1 56.8 58.3 64.3 ...\n",
      " $ Molino_salida_2       : num [1:3416] 0.356 0.354 0.352 0.349 0.347 ...\n",
      " $ Presion_filtro_bolsa  : num [1:3416] 1.65 1.61 1.78 1.67 1.95 ...\n"
     ]
    }
   ],
   "source": [
    "#Mandar llamar datos\n",
    "\n",
    "data <- read_excel(\"C:/Users/agaray/Google Drive/1.Maestría/5.TOG/1.IDI III/Dataset_Secador_gluten_Rev1.xlsx\",  sheet ='Dataset') #index_col = 'Timestamp')\n",
    "str(data)"
   ]
  },
  {
   "cell_type": "markdown",
   "metadata": {},
   "source": [
    "Cambiamos el estado de las variables tipo objeto:"
   ]
  },
  {
   "cell_type": "code",
   "execution_count": 8,
   "metadata": {},
   "outputs": [
    {
     "name": "stdout",
     "output_type": "stream",
     "text": [
      "tibble [3,416 x 36] (S3: tbl_df/tbl/data.frame)\n",
      " $ Timestamp             : POSIXct[1:3416], format: \"2021-08-30 18:00:00\" \"2021-08-30 16:00:00\" ...\n",
      " $ Humedad               : num [1:3416] 11.7 11.9 11.3 12.4 10.6 ...\n",
      " $ Nivel_RVF_1           : num [1:3416] 80.1 79.9 79.8 81.1 80.2 ...\n",
      " $ RPM_RVF_1             : num [1:3416] 605 604 605 605 604 ...\n",
      " $ Nivel_RVF_2           : num [1:3416] 80.8 80.4 79.5 79.3 80.5 ...\n",
      " $ RPM_RVF_2             : num [1:3416] 1096 1096 1095 1095 1096 ...\n",
      " $ Nivel_RVF_3           : num [1:3416] 79.6 80.4 79.6 80.2 79.3 ...\n",
      " $ RPM_RVF_3             : num [1:3416] 1104 1103 1103 1103 1103 ...\n",
      " $ Nivel_RVF_4           : num [1:3416] 82.6 81.1 81.2 78 78 ...\n",
      " $ RPM_RVF_4             : num [1:3416] 1104 1106 1105 1104 1106 ...\n",
      " $ Nivel_RVF_5           : num [1:3416] 80.2 80.2 79.8 80.5 79.1 ...\n",
      " $ RPM_RVF_5             : num [1:3416] 945 945 945 945 945 ...\n",
      " $ Nivel_RVF_6           : num [1:3416] 80 80.4 79.9 80.8 79.7 ...\n",
      " $ RPM_RVF_6             : num [1:3416] 963 963 963 963 963 ...\n",
      " $ Triturador_1          : num [1:3416] 0 0 0 0 0 0 0 0 0 0 ...\n",
      " $ Triturador_2          : num [1:3416] 0 0 0 0 0 0 0 0 0 0 ...\n",
      " $ Triturador_1_A        : num [1:3416] 26.5 25.5 25.4 25.5 25.2 ...\n",
      " $ Triturador_2_A        : num [1:3416] 24.7 23.1 22.6 24.8 23.6 ...\n",
      " $ Triturador_1_Bypass   : num [1:3416] 0 0 0 0 0 0 0 0 0 0 ...\n",
      " $ Triturador_2_Bypass   : num [1:3416] 0 0 0 0 0 0 0 0 0 0 ...\n",
      " $ TE                    : num [1:3416] 385 387 376 361 365 ...\n",
      " $ TS                    : num [1:3416] 90.9 92.3 90.7 89.1 90.1 ...\n",
      " $ Draft                 : num [1:3416] 1.0341 1.0206 0.767 0.6614 0.0334 ...\n",
      " $ Flujo_gas             : num [1:3416] 178 180 175 159 163 ...\n",
      " $ Flujo_aire            : num [1:3416] 7.31 7.2 7.21 7.06 6.56 ...\n",
      " $ Damper_Reciclo        : num [1:3416] 100 100 100 100 100 100 100 100 100 100 ...\n",
      " $ Damper_atm            : num [1:3416] 0 0 0 0 0 0 0 0 0 0 ...\n",
      " $ Damper_scrubber       : num [1:3416] 100 100 100 100 100 100 100 100 100 100 ...\n",
      " $ Motor_Secador         : num [1:3416] 16.6 16.1 16.5 15.5 15.9 ...\n",
      " $ Motor_ventilador_humos: num [1:3416] 116 117 118 115 116 ...\n",
      " $ Motor_soplador_reciclo: num [1:3416] 24 23.4 23.5 23.9 23.9 ...\n",
      " $ Motor_gusano_descarga : num [1:3416] 2.92 2.84 2.85 2.82 2.86 ...\n",
      " $ Motor_rastra_descarga : num [1:3416] 3.28 3.15 3.31 3.18 3.15 ...\n",
      " $ Molino_salida_1       : num [1:3416] 78.5 61.1 56.8 58.3 64.3 ...\n",
      " $ Molino_salida_2       : num [1:3416] 0.356 0.354 0.352 0.349 0.347 ...\n",
      " $ Presion_filtro_bolsa  : num [1:3416] 1.65 1.61 1.78 1.67 1.95 ...\n"
     ]
    }
   ],
   "source": [
    "#Modificar los estados de las varibles independientes \"Triturador_1\" y \"Triturador_2\".\n",
    "data$Triturador_1 <- as.numeric(data$Triturador_1[data$Triturador_1 == \"Active\"] <- 1)\n",
    "data$Triturador_1 <- as.numeric(data$Triturador_1[data$Triturador_1 == \"Inactive\"] <- 0)\n",
    "data$Triturador_2 <- as.numeric(data$Triturador_2[data$Triturador_2 == \"Active\"] <- 1)\n",
    "data$Triturador_2 <- as.numeric(data$Triturador_2[data$Triturador_2 == \"Inactive\"] <- 0)\n",
    "data$Triturador_1_Bypass <- as.numeric(data$Triturador_1_Bypass[data$Triturador_1_Bypass == \"Open\"] <- 1)\n",
    "data$Triturador_1_Bypass <- as.numeric(data$Triturador_1_Bypass[data$Triturador_1_Bypass == \"Closed\"] <- 0)\n",
    "data$Triturador_2_Bypass <- as.numeric(data$Triturador_2_Bypass[data$Triturador_2_Bypass == \"Open\"] <- 1)\n",
    "data$Triturador_2_Bypass <- as.numeric(data$Triturador_2_Bypass[data$Triturador_2_Bypass == \"Closed\"] <- 0)\n",
    "\n",
    "str(data)"
   ]
  },
  {
   "cell_type": "markdown",
   "metadata": {},
   "source": [
    "Quitamos del dataset las variables con datos vacíos:"
   ]
  },
  {
   "cell_type": "code",
   "execution_count": 9,
   "metadata": {},
   "outputs": [
    {
     "name": "stdout",
     "output_type": "stream",
     "text": [
      "tibble [3,416 x 34] (S3: tbl_df/tbl/data.frame)\n",
      " $ Timestamp             : POSIXct[1:3416], format: \"2021-08-30 18:00:00\" \"2021-08-30 16:00:00\" ...\n",
      " $ Humedad               : num [1:3416] 11.7 11.9 11.3 12.4 10.6 ...\n",
      " $ Nivel_RVF_1           : num [1:3416] 80.1 79.9 79.8 81.1 80.2 ...\n",
      " $ RPM_RVF_1             : num [1:3416] 605 604 605 605 604 ...\n",
      " $ Nivel_RVF_2           : num [1:3416] 80.8 80.4 79.5 79.3 80.5 ...\n",
      " $ RPM_RVF_2             : num [1:3416] 1096 1096 1095 1095 1096 ...\n",
      " $ Nivel_RVF_3           : num [1:3416] 79.6 80.4 79.6 80.2 79.3 ...\n",
      " $ RPM_RVF_3             : num [1:3416] 1104 1103 1103 1103 1103 ...\n",
      " $ Nivel_RVF_4           : num [1:3416] 82.6 81.1 81.2 78 78 ...\n",
      " $ RPM_RVF_4             : num [1:3416] 1104 1106 1105 1104 1106 ...\n",
      " $ Nivel_RVF_5           : num [1:3416] 80.2 80.2 79.8 80.5 79.1 ...\n",
      " $ RPM_RVF_5             : num [1:3416] 945 945 945 945 945 ...\n",
      " $ Nivel_RVF_6           : num [1:3416] 80 80.4 79.9 80.8 79.7 ...\n",
      " $ RPM_RVF_6             : num [1:3416] 963 963 963 963 963 ...\n",
      " $ Triturador_1          : num [1:3416] 0 0 0 0 0 0 0 0 0 0 ...\n",
      " $ Triturador_2          : num [1:3416] 0 0 0 0 0 0 0 0 0 0 ...\n",
      " $ Triturador_1_A        : num [1:3416] 26.5 25.5 25.4 25.5 25.2 ...\n",
      " $ Triturador_2_A        : num [1:3416] 24.7 23.1 22.6 24.8 23.6 ...\n",
      " $ Triturador_1_Bypass   : num [1:3416] 0 0 0 0 0 0 0 0 0 0 ...\n",
      " $ Triturador_2_Bypass   : num [1:3416] 0 0 0 0 0 0 0 0 0 0 ...\n",
      " $ TE                    : num [1:3416] 385 387 376 361 365 ...\n",
      " $ TS                    : num [1:3416] 90.9 92.3 90.7 89.1 90.1 ...\n",
      " $ Draft                 : num [1:3416] 1.0341 1.0206 0.767 0.6614 0.0334 ...\n",
      " $ Flujo_gas             : num [1:3416] 178 180 175 159 163 ...\n",
      " $ Damper_Reciclo        : num [1:3416] 100 100 100 100 100 100 100 100 100 100 ...\n",
      " $ Damper_atm            : num [1:3416] 0 0 0 0 0 0 0 0 0 0 ...\n",
      " $ Damper_scrubber       : num [1:3416] 100 100 100 100 100 100 100 100 100 100 ...\n",
      " $ Motor_Secador         : num [1:3416] 16.6 16.1 16.5 15.5 15.9 ...\n",
      " $ Motor_soplador_reciclo: num [1:3416] 24 23.4 23.5 23.9 23.9 ...\n",
      " $ Motor_gusano_descarga : num [1:3416] 2.92 2.84 2.85 2.82 2.86 ...\n",
      " $ Motor_rastra_descarga : num [1:3416] 3.28 3.15 3.31 3.18 3.15 ...\n",
      " $ Molino_salida_1       : num [1:3416] 78.5 61.1 56.8 58.3 64.3 ...\n",
      " $ Molino_salida_2       : num [1:3416] 0.356 0.354 0.352 0.349 0.347 ...\n",
      " $ Presion_filtro_bolsa  : num [1:3416] 1.65 1.61 1.78 1.67 1.95 ...\n"
     ]
    }
   ],
   "source": [
    "data <- subset(data, select = -c(Flujo_aire, Motor_ventilador_humos))\n",
    "str(data)"
   ]
  },
  {
   "cell_type": "markdown",
   "metadata": {},
   "source": [
    "Se eliminan las velocidades de los filtros rotativos:"
   ]
  },
  {
   "cell_type": "code",
   "execution_count": 10,
   "metadata": {},
   "outputs": [
    {
     "name": "stdout",
     "output_type": "stream",
     "text": [
      "tibble [3,416 x 28] (S3: tbl_df/tbl/data.frame)\n",
      " $ Timestamp             : POSIXct[1:3416], format: \"2021-08-30 18:00:00\" \"2021-08-30 16:00:00\" ...\n",
      " $ Humedad               : num [1:3416] 11.7 11.9 11.3 12.4 10.6 ...\n",
      " $ Nivel_RVF_1           : num [1:3416] 80.1 79.9 79.8 81.1 80.2 ...\n",
      " $ Nivel_RVF_2           : num [1:3416] 80.8 80.4 79.5 79.3 80.5 ...\n",
      " $ Nivel_RVF_3           : num [1:3416] 79.6 80.4 79.6 80.2 79.3 ...\n",
      " $ Nivel_RVF_4           : num [1:3416] 82.6 81.1 81.2 78 78 ...\n",
      " $ Nivel_RVF_5           : num [1:3416] 80.2 80.2 79.8 80.5 79.1 ...\n",
      " $ Nivel_RVF_6           : num [1:3416] 80 80.4 79.9 80.8 79.7 ...\n",
      " $ Triturador_1          : num [1:3416] 0 0 0 0 0 0 0 0 0 0 ...\n",
      " $ Triturador_2          : num [1:3416] 0 0 0 0 0 0 0 0 0 0 ...\n",
      " $ Triturador_1_A        : num [1:3416] 26.5 25.5 25.4 25.5 25.2 ...\n",
      " $ Triturador_2_A        : num [1:3416] 24.7 23.1 22.6 24.8 23.6 ...\n",
      " $ Triturador_1_Bypass   : num [1:3416] 0 0 0 0 0 0 0 0 0 0 ...\n",
      " $ Triturador_2_Bypass   : num [1:3416] 0 0 0 0 0 0 0 0 0 0 ...\n",
      " $ TE                    : num [1:3416] 385 387 376 361 365 ...\n",
      " $ TS                    : num [1:3416] 90.9 92.3 90.7 89.1 90.1 ...\n",
      " $ Draft                 : num [1:3416] 1.0341 1.0206 0.767 0.6614 0.0334 ...\n",
      " $ Flujo_gas             : num [1:3416] 178 180 175 159 163 ...\n",
      " $ Damper_Reciclo        : num [1:3416] 100 100 100 100 100 100 100 100 100 100 ...\n",
      " $ Damper_atm            : num [1:3416] 0 0 0 0 0 0 0 0 0 0 ...\n",
      " $ Damper_scrubber       : num [1:3416] 100 100 100 100 100 100 100 100 100 100 ...\n",
      " $ Motor_Secador         : num [1:3416] 16.6 16.1 16.5 15.5 15.9 ...\n",
      " $ Motor_soplador_reciclo: num [1:3416] 24 23.4 23.5 23.9 23.9 ...\n",
      " $ Motor_gusano_descarga : num [1:3416] 2.92 2.84 2.85 2.82 2.86 ...\n",
      " $ Motor_rastra_descarga : num [1:3416] 3.28 3.15 3.31 3.18 3.15 ...\n",
      " $ Molino_salida_1       : num [1:3416] 78.5 61.1 56.8 58.3 64.3 ...\n",
      " $ Molino_salida_2       : num [1:3416] 0.356 0.354 0.352 0.349 0.347 ...\n",
      " $ Presion_filtro_bolsa  : num [1:3416] 1.65 1.61 1.78 1.67 1.95 ...\n"
     ]
    }
   ],
   "source": [
    "data <- subset(data, select = -c(RPM_RVF_1,RPM_RVF_2,RPM_RVF_3,RPM_RVF_4,RPM_RVF_5,RPM_RVF_6))\n",
    "str(data)"
   ]
  },
  {
   "cell_type": "markdown",
   "metadata": {},
   "source": [
    "Finalmente, se elimina el flujo de gas por ser descrito a traves de la caracteristica TE:"
   ]
  },
  {
   "cell_type": "code",
   "execution_count": 11,
   "metadata": {},
   "outputs": [
    {
     "name": "stdout",
     "output_type": "stream",
     "text": [
      "tibble [3,416 x 27] (S3: tbl_df/tbl/data.frame)\n",
      " $ Timestamp             : POSIXct[1:3416], format: \"2021-08-30 18:00:00\" \"2021-08-30 16:00:00\" ...\n",
      " $ Humedad               : num [1:3416] 11.7 11.9 11.3 12.4 10.6 ...\n",
      " $ Nivel_RVF_1           : num [1:3416] 80.1 79.9 79.8 81.1 80.2 ...\n",
      " $ Nivel_RVF_2           : num [1:3416] 80.8 80.4 79.5 79.3 80.5 ...\n",
      " $ Nivel_RVF_3           : num [1:3416] 79.6 80.4 79.6 80.2 79.3 ...\n",
      " $ Nivel_RVF_4           : num [1:3416] 82.6 81.1 81.2 78 78 ...\n",
      " $ Nivel_RVF_5           : num [1:3416] 80.2 80.2 79.8 80.5 79.1 ...\n",
      " $ Nivel_RVF_6           : num [1:3416] 80 80.4 79.9 80.8 79.7 ...\n",
      " $ Triturador_1          : num [1:3416] 0 0 0 0 0 0 0 0 0 0 ...\n",
      " $ Triturador_2          : num [1:3416] 0 0 0 0 0 0 0 0 0 0 ...\n",
      " $ Triturador_1_A        : num [1:3416] 26.5 25.5 25.4 25.5 25.2 ...\n",
      " $ Triturador_2_A        : num [1:3416] 24.7 23.1 22.6 24.8 23.6 ...\n",
      " $ Triturador_1_Bypass   : num [1:3416] 0 0 0 0 0 0 0 0 0 0 ...\n",
      " $ Triturador_2_Bypass   : num [1:3416] 0 0 0 0 0 0 0 0 0 0 ...\n",
      " $ TE                    : num [1:3416] 385 387 376 361 365 ...\n",
      " $ TS                    : num [1:3416] 90.9 92.3 90.7 89.1 90.1 ...\n",
      " $ Draft                 : num [1:3416] 1.0341 1.0206 0.767 0.6614 0.0334 ...\n",
      " $ Damper_Reciclo        : num [1:3416] 100 100 100 100 100 100 100 100 100 100 ...\n",
      " $ Damper_atm            : num [1:3416] 0 0 0 0 0 0 0 0 0 0 ...\n",
      " $ Damper_scrubber       : num [1:3416] 100 100 100 100 100 100 100 100 100 100 ...\n",
      " $ Motor_Secador         : num [1:3416] 16.6 16.1 16.5 15.5 15.9 ...\n",
      " $ Motor_soplador_reciclo: num [1:3416] 24 23.4 23.5 23.9 23.9 ...\n",
      " $ Motor_gusano_descarga : num [1:3416] 2.92 2.84 2.85 2.82 2.86 ...\n",
      " $ Motor_rastra_descarga : num [1:3416] 3.28 3.15 3.31 3.18 3.15 ...\n",
      " $ Molino_salida_1       : num [1:3416] 78.5 61.1 56.8 58.3 64.3 ...\n",
      " $ Molino_salida_2       : num [1:3416] 0.356 0.354 0.352 0.349 0.347 ...\n",
      " $ Presion_filtro_bolsa  : num [1:3416] 1.65 1.61 1.78 1.67 1.95 ...\n"
     ]
    }
   ],
   "source": [
    "#Eliminar variables del Dataset original de acuerdo a análisis previos para Random Forest:\n",
    "data <- subset(data, select = -c(Flujo_gas))\n",
    "str(data)"
   ]
  },
  {
   "cell_type": "markdown",
   "metadata": {},
   "source": [
    "Asi, tenemos una salida **Humedad** con 25 características."
   ]
  },
  {
   "cell_type": "markdown",
   "metadata": {},
   "source": [
    "Continuamos eliminando los outliers del analisis de regresión lineal:"
   ]
  },
  {
   "cell_type": "code",
   "execution_count": 12,
   "metadata": {},
   "outputs": [
    {
     "name": "stdout",
     "output_type": "stream",
     "text": [
      "tibble [3,410 x 27] (S3: tbl_df/tbl/data.frame)\n",
      " $ Timestamp             : POSIXct[1:3410], format: \"2021-08-30 18:00:00\" \"2021-08-30 16:00:00\" ...\n",
      " $ Humedad               : num [1:3410] 11.7 11.9 11.3 12.4 10.6 ...\n",
      " $ Nivel_RVF_1           : num [1:3410] 80.1 79.9 79.8 81.1 80.2 ...\n",
      " $ Nivel_RVF_2           : num [1:3410] 80.8 80.4 79.5 79.3 80.5 ...\n",
      " $ Nivel_RVF_3           : num [1:3410] 79.6 80.4 79.6 80.2 79.3 ...\n",
      " $ Nivel_RVF_4           : num [1:3410] 82.6 81.1 81.2 78 78 ...\n",
      " $ Nivel_RVF_5           : num [1:3410] 80.2 80.2 79.8 80.5 79.1 ...\n",
      " $ Nivel_RVF_6           : num [1:3410] 80 80.4 79.9 80.8 79.7 ...\n",
      " $ Triturador_1          : num [1:3410] 0 0 0 0 0 0 0 0 0 0 ...\n",
      " $ Triturador_2          : num [1:3410] 0 0 0 0 0 0 0 0 0 0 ...\n",
      " $ Triturador_1_A        : num [1:3410] 26.5 25.5 25.4 25.5 25.2 ...\n",
      " $ Triturador_2_A        : num [1:3410] 24.7 23.1 22.6 24.8 23.6 ...\n",
      " $ Triturador_1_Bypass   : num [1:3410] 0 0 0 0 0 0 0 0 0 0 ...\n",
      " $ Triturador_2_Bypass   : num [1:3410] 0 0 0 0 0 0 0 0 0 0 ...\n",
      " $ TE                    : num [1:3410] 385 387 376 361 365 ...\n",
      " $ TS                    : num [1:3410] 90.9 92.3 90.7 89.1 90.1 ...\n",
      " $ Draft                 : num [1:3410] 1.0341 1.0206 0.767 0.6614 0.0334 ...\n",
      " $ Damper_Reciclo        : num [1:3410] 100 100 100 100 100 100 100 100 100 100 ...\n",
      " $ Damper_atm            : num [1:3410] 0 0 0 0 0 0 0 0 0 0 ...\n",
      " $ Damper_scrubber       : num [1:3410] 100 100 100 100 100 100 100 100 100 100 ...\n",
      " $ Motor_Secador         : num [1:3410] 16.6 16.1 16.5 15.5 15.9 ...\n",
      " $ Motor_soplador_reciclo: num [1:3410] 24 23.4 23.5 23.9 23.9 ...\n",
      " $ Motor_gusano_descarga : num [1:3410] 2.92 2.84 2.85 2.82 2.86 ...\n",
      " $ Motor_rastra_descarga : num [1:3410] 3.28 3.15 3.31 3.18 3.15 ...\n",
      " $ Molino_salida_1       : num [1:3410] 78.5 61.1 56.8 58.3 64.3 ...\n",
      " $ Molino_salida_2       : num [1:3410] 0.356 0.354 0.352 0.349 0.347 ...\n",
      " $ Presion_filtro_bolsa  : num [1:3410] 1.65 1.61 1.78 1.67 1.95 ...\n"
     ]
    }
   ],
   "source": [
    "data <- data[-c(2232, 2086, 537, 3173, 2961, 2232, 2818), ]\n",
    "str(data)"
   ]
  },
  {
   "cell_type": "markdown",
   "metadata": {},
   "source": [
    "Este es el dataset que utilizaremos en los algoritmos de MLR."
   ]
  },
  {
   "cell_type": "markdown",
   "metadata": {},
   "source": [
    "## <font color= blue> 2. Implementación de la regresión lineal multivariable (MLR).</font>"
   ]
  },
  {
   "cell_type": "markdown",
   "metadata": {},
   "source": [
    "### MLR sin datos normalizados sin eliminación de caracteristícas"
   ]
  },
  {
   "cell_type": "markdown",
   "metadata": {},
   "source": [
    "Creamos datos de entrenamiento y prueba:"
   ]
  },
  {
   "cell_type": "code",
   "execution_count": 13,
   "metadata": {},
   "outputs": [
    {
     "name": "stderr",
     "output_type": "stream",
     "text": [
      "Warning message:\n",
      "\"package 'caTools' was built under R version 3.6.3\""
     ]
    }
   ],
   "source": [
    "library(caTools)\n",
    "set.seed(42)\n",
    "data <- subset(data, select = -c(Timestamp))\n",
    "split <- sample.split(data$Humedad, SplitRatio = 0.8)\n",
    "train_dataLR <- subset(data, split == TRUE)\n",
    "test_dataLR <- subset(data, split == FALSE)"
   ]
  },
  {
   "cell_type": "markdown",
   "metadata": {},
   "source": [
    "Obtenemos las características (X) y la variable a predecir (y, salida) para uso en el algoritmo:"
   ]
  },
  {
   "cell_type": "code",
   "execution_count": 14,
   "metadata": {},
   "outputs": [
    {
     "name": "stdout",
     "output_type": "stream",
     "text": [
      "tibble [613 x 25] (S3: tbl_df/tbl/data.frame)\n",
      " $ Nivel_RVF_1           : num [1:613] 80.2 79.2 80 80.4 80.7 ...\n",
      " $ Nivel_RVF_2           : num [1:613] 80.5 80.4 80.5 80 81 ...\n",
      " $ Nivel_RVF_3           : num [1:613] 79.3 80.8 79.8 80.8 80.3 ...\n",
      " $ Nivel_RVF_4           : num [1:613] 78 77.7 82 81.6 77.6 ...\n",
      " $ Nivel_RVF_5           : num [1:613] 79.1 80.3 80 79.3 79.6 ...\n",
      " $ Nivel_RVF_6           : num [1:613] 79.7 80.2 80.1 80.1 80 ...\n",
      " $ Triturador_1          : num [1:613] 0 0 0 0 0 0 0 0 0 0 ...\n",
      " $ Triturador_2          : num [1:613] 0 0 0 0 0 0 0 0 0 0 ...\n",
      " $ Triturador_1_A        : num [1:613] 25.2 25.9 26.9 26.8 27.1 ...\n",
      " $ Triturador_2_A        : num [1:613] 23.6 22.7 24.1 22.7 21.6 ...\n",
      " $ Triturador_1_Bypass   : num [1:613] 0 0 0 0 0 0 0 0 0 0 ...\n",
      " $ Triturador_2_Bypass   : num [1:613] 0 0 0 0 0 0 0 0 0 0 ...\n",
      " $ TE                    : num [1:613] 365 368 373 321 335 ...\n",
      " $ TS                    : num [1:613] 90.1 92.3 89.7 82 85.3 ...\n",
      " $ Draft                 : num [1:613] 0.0334 -0.2005 -0.2492 0.3006 0.8026 ...\n",
      " $ Damper_Reciclo        : num [1:613] 100 100 100 100 100 100 100 100 100 100 ...\n",
      " $ Damper_atm            : num [1:613] 0 0 0 0 0 0 0 0 0 0 ...\n",
      " $ Damper_scrubber       : num [1:613] 100 100 100 100 100 100 100 100 100 100 ...\n",
      " $ Motor_Secador         : num [1:613] 15.9 16.4 16.7 15.9 16.5 ...\n",
      " $ Motor_soplador_reciclo: num [1:613] 23.9 24.3 23.3 23.3 23.5 ...\n",
      " $ Motor_gusano_descarga : num [1:613] 2.86 2.92 2.98 3.03 3 ...\n",
      " $ Motor_rastra_descarga : num [1:613] 3.15 3.15 3.21 3.25 3.19 ...\n",
      " $ Molino_salida_1       : num [1:613] 64.3 62.5 52.3 54.5 57.6 ...\n",
      " $ Molino_salida_2       : num [1:613] 0.347 0.344 0.343 0.345 0.348 ...\n",
      " $ Presion_filtro_bolsa  : num [1:613] 1.95 1.57 1.75 1.65 1.63 ...\n"
     ]
    }
   ],
   "source": [
    "#Variable a predecir y\n",
    "yLR_train <- train_dataLR['Humedad']\n",
    "yLR_test <- test_dataLR['Humedad']\n",
    "\n",
    "#Características X\n",
    "XLR_train <- train_dataLR[,2:26]\n",
    "XLR_test  <- test_dataLR[,2:26]\n",
    "\n",
    "str(XLR_test)"
   ]
  },
  {
   "cell_type": "markdown",
   "metadata": {},
   "source": [
    "Entrenamos el modelo usando la librería olsrr para algoritmo de MLR:"
   ]
  },
  {
   "cell_type": "code",
   "execution_count": 15,
   "metadata": {
    "scrolled": false
   },
   "outputs": [
    {
     "name": "stderr",
     "output_type": "stream",
     "text": [
      "Warning message:\n",
      "\"package 'olsrr' was built under R version 3.6.3\"\n",
      "Attaching package: 'olsrr'\n",
      "\n",
      "The following object is masked from 'package:MASS':\n",
      "\n",
      "    cement\n",
      "\n",
      "The following object is masked from 'package:datasets':\n",
      "\n",
      "    rivers\n",
      "\n",
      "Warning message in b * sx:\n",
      "\"longer object length is not a multiple of shorter object length\""
     ]
    },
    {
     "data": {
      "text/plain": [
       "                        Model Summary                          \n",
       "--------------------------------------------------------------\n",
       "R                       0.431       RMSE                2.026 \n",
       "R-Squared               0.185       Coef. Var          19.294 \n",
       "Adj. R-Squared          0.179       MSE                 4.105 \n",
       "Pred R-Squared          0.168       MAE                 1.573 \n",
       "--------------------------------------------------------------\n",
       " RMSE: Root Mean Square Error \n",
       " MSE: Mean Square Error \n",
       " MAE: Mean Absolute Error \n",
       "\n",
       "                                 ANOVA                                  \n",
       "-----------------------------------------------------------------------\n",
       "                 Sum of                                                \n",
       "                Squares          DF    Mean Square      F         Sig. \n",
       "-----------------------------------------------------------------------\n",
       "Regression     2592.974          21        123.475    30.079    0.0000 \n",
       "Residual      11391.290        2775          4.105                     \n",
       "Total         13984.264        2796                                    \n",
       "-----------------------------------------------------------------------\n",
       "\n",
       "                                        Parameter Estimates                                         \n",
       "---------------------------------------------------------------------------------------------------\n",
       "                 model      Beta    Std. Error    Std. Beta      t        Sig      lower     upper \n",
       "---------------------------------------------------------------------------------------------------\n",
       "           (Intercept)     4.789         1.145                  4.181    0.000     2.543     7.034 \n",
       "           Nivel_RVF_1     0.008         0.002        0.062     3.474    0.001     0.004     0.013 \n",
       "           Nivel_RVF_2    -0.001         0.002       -0.006    -0.366    0.714    -0.005     0.004 \n",
       "           Nivel_RVF_3     0.001         0.002        0.012     0.690    0.491    -0.003     0.006 \n",
       "           Nivel_RVF_4    -0.005         0.002       -0.040    -2.294    0.022    -0.009    -0.001 \n",
       "           Nivel_RVF_5     0.001         0.003        0.008     0.443    0.658    -0.005     0.008 \n",
       "           Nivel_RVF_6    -0.002         0.002       -0.016    -0.888    0.375    -0.007     0.003 \n",
       "          Triturador_1        NA         0.002        0.000     0.651    0.515        NA        NA \n",
       "          Triturador_2        NA         0.003        0.000    -3.450    0.001        NA        NA \n",
       "        Triturador_1_A     0.001         0.001        0.074     6.091    0.000    -0.002     0.005 \n",
       "        Triturador_2_A    -0.010         0.006       -0.319    -7.038    0.000    -0.016    -0.004 \n",
       "   Triturador_1_Bypass        NA         0.106        0.000     2.334    0.020        NA        NA \n",
       "   Triturador_2_Bypass        NA         0.003        0.000     1.313    0.189        NA        NA \n",
       "                    TE     0.007         0.017        1.214     2.823    0.005     0.005     0.010 \n",
       "                    TS    -0.043         0.002       -0.034    -2.959    0.003    -0.055    -0.031 \n",
       "                 Draft     0.247         0.030        0.038     7.127    0.000     0.040     0.455 \n",
       "        Damper_Reciclo     0.004         0.022       -0.713    -4.607    0.000    -0.002     0.010 \n",
       "            Damper_atm     0.049         0.382       -2.430    -5.991    0.000     0.015     0.084 \n",
       "       Damper_scrubber    -0.007         0.275       37.205    13.688    0.000    -0.011    -0.002 \n",
       "         Motor_Secador     0.212         0.002        0.012     6.928    0.000     0.154     0.271 \n",
       "Motor_soplador_reciclo    -0.100         0.003        0.002     0.783    0.434    -0.143    -0.058 \n",
       " Motor_gusano_descarga    -2.288         0.039       -0.010    -4.336    0.000    -3.037    -1.539 \n",
       " Motor_rastra_descarga     3.765            NA        0.001        NA       NA     3.225     4.304 \n",
       "       Molino_salida_1     0.017            NA       -0.007        NA       NA     0.012     0.022 \n",
       "       Molino_salida_2     0.002            NA        0.011        NA       NA    -0.003     0.007 \n",
       "  Presion_filtro_bolsa    -0.170            NA       -0.003        NA       NA    -0.248    -0.093 \n",
       "---------------------------------------------------------------------------------------------------"
      ]
     },
     "metadata": {},
     "output_type": "display_data"
    }
   ],
   "source": [
    "library(olsrr)\n",
    "\n",
    "LR <- lm(Humedad ~ ., data = train_dataLR)\n",
    "\n",
    "ols_regress(LR)"
   ]
  },
  {
   "cell_type": "markdown",
   "metadata": {},
   "source": [
    "De los coefcientes *Beta* observamos que las variables:\n",
    "\n",
    "- Triturador_1\n",
    "- Triturador_2\n",
    "- Triturador_1_Bypass\n",
    "- Triturador_2_Bypass\n",
    "\n",
    "Presentan un valor NA **debido a que las variables en cuestion estan linealmente relacionadas con las otras variables**, por lo que se procede a eliminarlas y repetir la regresión:"
   ]
  },
  {
   "cell_type": "code",
   "execution_count": 16,
   "metadata": {
    "scrolled": false
   },
   "outputs": [
    {
     "name": "stdout",
     "output_type": "stream",
     "text": [
      "tibble [2,797 x 22] (S3: tbl_df/tbl/data.frame)\n",
      " $ Humedad               : num [1:2797] 11.73 11.92 12.44 10.61 9.99 ...\n",
      " $ Nivel_RVF_1           : num [1:2797] 80.1 79.9 81.1 80.2 79.2 ...\n",
      " $ Nivel_RVF_2           : num [1:2797] 80.8 80.4 79.3 80.5 80.4 ...\n",
      " $ Nivel_RVF_3           : num [1:2797] 79.6 80.4 80.2 79.3 80.8 ...\n",
      " $ Nivel_RVF_4           : num [1:2797] 82.6 81.1 78 78 77.7 ...\n",
      " $ Nivel_RVF_5           : num [1:2797] 80.2 80.2 80.5 79.1 80.3 ...\n",
      " $ Nivel_RVF_6           : num [1:2797] 80 80.4 80.8 79.7 80.2 ...\n",
      " $ Triturador_1_A        : num [1:2797] 26.5 25.5 25.5 25.2 25.9 ...\n",
      " $ Triturador_2_A        : num [1:2797] 24.7 23.1 24.8 23.6 22.7 ...\n",
      " $ TE                    : num [1:2797] 385 387 361 365 368 ...\n",
      " $ TS                    : num [1:2797] 90.9 92.3 89.1 90.1 92.3 ...\n",
      " $ Draft                 : num [1:2797] 1.0341 1.0206 0.6614 0.0334 -0.2005 ...\n",
      " $ Damper_Reciclo        : num [1:2797] 100 100 100 100 100 100 100 100 100 100 ...\n",
      " $ Damper_atm            : num [1:2797] 0 0 0 0 0 0 0 0 0 0 ...\n",
      " $ Damper_scrubber       : num [1:2797] 100 100 100 100 100 100 100 100 100 100 ...\n",
      " $ Motor_Secador         : num [1:2797] 16.6 16.1 15.5 15.9 16.4 ...\n",
      " $ Motor_soplador_reciclo: num [1:2797] 24 23.4 23.9 23.9 24.3 ...\n",
      " $ Motor_gusano_descarga : num [1:2797] 2.92 2.84 2.82 2.86 2.92 ...\n",
      " $ Motor_rastra_descarga : num [1:2797] 3.28 3.15 3.18 3.15 3.15 ...\n",
      " $ Molino_salida_1       : num [1:2797] 78.5 61.1 58.3 64.3 62.5 ...\n",
      " $ Molino_salida_2       : num [1:2797] 0.356 0.354 0.349 0.347 0.344 ...\n",
      " $ Presion_filtro_bolsa  : num [1:2797] 1.65 1.61 1.67 1.95 1.57 ...\n"
     ]
    }
   ],
   "source": [
    "data2 <- subset(data, select = -c(Triturador_1, Triturador_2, Triturador_1_Bypass, Triturador_2_Bypass))\n",
    "split <- sample.split(data2$Humedad, SplitRatio = 0.8)\n",
    "train_data2LR <- subset(data2, split == TRUE)\n",
    "test_data2LR <- subset(data2, split == FALSE)\n",
    "\n",
    "str(train_data2LR)"
   ]
  },
  {
   "cell_type": "code",
   "execution_count": 17,
   "metadata": {},
   "outputs": [
    {
     "data": {
      "text/plain": [
       "                        Model Summary                          \n",
       "--------------------------------------------------------------\n",
       "R                       0.433       RMSE                2.023 \n",
       "R-Squared               0.188       Coef. Var          19.269 \n",
       "Adj. R-Squared          0.181       MSE                 4.094 \n",
       "Pred R-Squared          0.172       MAE                 1.569 \n",
       "--------------------------------------------------------------\n",
       " RMSE: Root Mean Square Error \n",
       " MSE: Mean Square Error \n",
       " MAE: Mean Absolute Error \n",
       "\n",
       "                                 ANOVA                                  \n",
       "-----------------------------------------------------------------------\n",
       "                 Sum of                                                \n",
       "                Squares          DF    Mean Square      F         Sig. \n",
       "-----------------------------------------------------------------------\n",
       "Regression     2622.482          21        124.880    30.501    0.0000 \n",
       "Residual      11361.782        2775          4.094                     \n",
       "Total         13984.264        2796                                    \n",
       "-----------------------------------------------------------------------\n",
       "\n",
       "                                        Parameter Estimates                                         \n",
       "---------------------------------------------------------------------------------------------------\n",
       "                 model      Beta    Std. Error    Std. Beta      t        Sig      lower     upper \n",
       "---------------------------------------------------------------------------------------------------\n",
       "           (Intercept)     2.090         1.332                  1.570    0.117    -0.521     4.702 \n",
       "           Nivel_RVF_1     0.006         0.002        0.043     2.412    0.016     0.001     0.011 \n",
       "           Nivel_RVF_2     0.001         0.002        0.005     0.271    0.786    -0.004     0.005 \n",
       "           Nivel_RVF_3     0.002         0.002        0.018     1.040    0.298    -0.002     0.006 \n",
       "           Nivel_RVF_4    -0.005         0.002       -0.038    -2.166    0.030    -0.009     0.000 \n",
       "           Nivel_RVF_5     0.001         0.003        0.003     0.170    0.865    -0.006     0.007 \n",
       "           Nivel_RVF_6    -0.001         0.002       -0.009    -0.525    0.599    -0.006     0.003 \n",
       "        Triturador_1_A     0.000         0.002       -0.002    -0.125    0.900    -0.004     0.003 \n",
       "        Triturador_2_A    -0.008         0.003       -0.062    -2.922    0.004    -0.014    -0.003 \n",
       "                    TE     0.007         0.001        0.161     5.565    0.000     0.004     0.009 \n",
       "                    TS    -0.039         0.006       -0.203    -6.463    0.000    -0.051    -0.027 \n",
       "                 Draft     0.253         0.105        0.046     2.403    0.016     0.047     0.460 \n",
       "        Damper_Reciclo     0.003         0.003        0.024     1.116    0.265    -0.003     0.009 \n",
       "            Damper_atm     0.067         0.018        0.070     3.659    0.000     0.031     0.103 \n",
       "       Damper_scrubber    -0.006         0.002       -0.063    -2.838    0.005    -0.011    -0.002 \n",
       "         Motor_Secador     0.200         0.030        0.143     6.693    0.000     0.142     0.259 \n",
       "Motor_soplador_reciclo    -0.100         0.022       -0.086    -4.543    0.000    -0.144    -0.057 \n",
       " Motor_gusano_descarga    -1.473         0.403       -0.076    -3.654    0.000    -2.263    -0.682 \n",
       " Motor_rastra_descarga     3.889         0.277        0.297    14.028    0.000     3.346     4.433 \n",
       "       Molino_salida_1     0.018         0.002        0.162     7.347    0.000     0.013     0.023 \n",
       "       Molino_salida_2     0.002         0.003        0.019     0.918    0.359    -0.003     0.008 \n",
       "  Presion_filtro_bolsa    -0.180         0.040       -0.100    -4.522    0.000    -0.258    -0.102 \n",
       "---------------------------------------------------------------------------------------------------"
      ]
     },
     "metadata": {},
     "output_type": "display_data"
    }
   ],
   "source": [
    "LR2 <- lm(Humedad ~ ., data = train_data2LR)\n",
    "\n",
    "ols_regress(LR2)"
   ]
  },
  {
   "cell_type": "markdown",
   "metadata": {},
   "source": [
    "Obtenemos la grafica de residuales vs valores ajustados para detectar no-linealidad o valores atipicos:"
   ]
  },
  {
   "cell_type": "code",
   "execution_count": 18,
   "metadata": {
    "scrolled": false
   },
   "outputs": [
    {
     "data": {
      "image/png": "[encoded data removed]",
      "text/plain": [
       "plot without title"
      ]
     },
     "metadata": {},
     "output_type": "display_data"
    }
   ],
   "source": [
    "ols_plot_resid_fit(LR2)"
   ]
  },
  {
   "cell_type": "markdown",
   "metadata": {},
   "source": [
    "Obtenemos una \"Residual Fit Spread\" y un QQ-plot para observar de mejor de mejor manera la normalidad de los residuales:"
   ]
  },
  {
   "cell_type": "code",
   "execution_count": 19,
   "metadata": {
    "scrolled": false
   },
   "outputs": [
    {
     "data": {
      "image/png": "[encoded data removed]",
      "text/plain": [
       "plot without title"
      ]
     },
     "metadata": {},
     "output_type": "display_data"
    }
   ],
   "source": [
    "ols_plot_resid_fit_spread(LR2)"
   ]
  },
  {
   "cell_type": "code",
   "execution_count": 20,
   "metadata": {},
   "outputs": [
    {
     "data": {
      "image/png": "[encoded data removed]",
      "text/plain": [
       "plot without title"
      ]
     },
     "metadata": {},
     "output_type": "display_data"
    }
   ],
   "source": [
    "ols_plot_resid_qq(LR2)"
   ]
  },
  {
   "cell_type": "markdown",
   "metadata": {},
   "source": [
    "De estas gráficas obtenemos **que el modelo no presenta comportamiento lineal**."
   ]
  },
  {
   "cell_type": "markdown",
   "metadata": {},
   "source": [
    "Seguimos con la prueba Breusch Pagan para detectar si el sistema presenta homocedasticidad:"
   ]
  },
  {
   "cell_type": "code",
   "execution_count": 21,
   "metadata": {},
   "outputs": [
    {
     "data": {
      "text/plain": [
       "\n",
       " Breusch Pagan Test for Heteroskedasticity\n",
       " -----------------------------------------\n",
       " Ho: the variance is constant            \n",
       " Ha: the variance is not constant        \n",
       "\n",
       "               Data                 \n",
       " -----------------------------------\n",
       " Response : Humedad \n",
       " Variables: fitted values of Humedad \n",
       "\n",
       "         Test Summary           \n",
       " -------------------------------\n",
       " DF            =    1 \n",
       " Chi2          =    39.75717 \n",
       " Prob > Chi2   =    2.875823e-10 "
      ]
     },
     "metadata": {},
     "output_type": "display_data"
    }
   ],
   "source": [
    "ols_test_breusch_pagan(LR2)"
   ]
  },
  {
   "cell_type": "markdown",
   "metadata": {},
   "source": [
    "Usamos el modelo para predecir con los datos de prueba:"
   ]
  },
  {
   "cell_type": "markdown",
   "metadata": {},
   "source": [
    "Al ser el p-value menor a 0.05 (8.710033e-16 -13<0.05) recahazamos la Ho (La varianza es constante) por lo que decimos **que el modelo presenta heterocedasticidad**."
   ]
  },
  {
   "cell_type": "markdown",
   "metadata": {},
   "source": [
    "Seguimos con la colinealidad:"
   ]
  },
  {
   "cell_type": "code",
   "execution_count": 22,
   "metadata": {
    "scrolled": true
   },
   "outputs": [
    {
     "data": {
      "text/plain": [
       "Tolerance and Variance Inflation Factor\n",
       "---------------------------------------\n",
       "                Variables Tolerance      VIF\n",
       "1             Nivel_RVF_1 0.9337645 1.070934\n",
       "2             Nivel_RVF_2 0.9530499 1.049263\n",
       "3             Nivel_RVF_3 0.9719477 1.028862\n",
       "4             Nivel_RVF_4 0.9567315 1.045225\n",
       "5             Nivel_RVF_5 0.9300604 1.075199\n",
       "6             Nivel_RVF_6 0.9358294 1.068571\n",
       "7          Triturador_1_A 0.8308149 1.203638\n",
       "8          Triturador_2_A 0.6505137 1.537247\n",
       "9                      TE 0.3494993 2.861236\n",
       "10                     TS 0.2964704 3.373018\n",
       "11                  Draft 0.8060750 1.240579\n",
       "12         Damper_Reciclo 0.6116558 1.634906\n",
       "13             Damper_atm 0.7998319 1.250263\n",
       "14        Damper_scrubber 0.5908173 1.692571\n",
       "15          Motor_Secador 0.6452484 1.549791\n",
       "16 Motor_soplador_reciclo 0.8151016 1.226841\n",
       "17  Motor_gusano_descarga 0.6683334 1.496259\n",
       "18  Motor_rastra_descarga 0.6539894 1.529077\n",
       "19        Molino_salida_1 0.6044763 1.654325\n",
       "20        Molino_salida_2 0.7181258 1.392514\n",
       "21   Presion_filtro_bolsa 0.6014608 1.662619\n",
       "\n",
       "\n",
       "Eigenvalue and Condition Index\n",
       "------------------------------\n",
       "     Eigenvalue Condition Index    intercept  Nivel_RVF_1  Nivel_RVF_2\n",
       "1  1.750333e+01        1.000000 2.676787e-06 1.348852e-04 1.524068e-04\n",
       "2  1.031792e+00        4.118739 9.025744e-08 2.447766e-06 7.260400e-06\n",
       "3  1.001454e+00        4.180661 1.764948e-08 6.063870e-07 2.151341e-06\n",
       "4  7.881846e-01        4.712446 3.108173e-06 3.281935e-04 1.210399e-04\n",
       "5  6.797972e-01        5.074237 2.326944e-08 2.661443e-05 7.615528e-06\n",
       "6  3.722284e-01        6.857340 6.357049e-06 5.272551e-04 2.013508e-04\n",
       "7  2.033132e-01        9.278495 1.326240e-07 1.054617e-03 1.645138e-03\n",
       "8  6.877644e-02       15.952933 4.517739e-06 2.236777e-02 2.215062e-02\n",
       "9  6.398532e-02       16.539418 1.247189e-08 1.616364e-02 3.087888e-02\n",
       "10 5.442734e-02       17.932955 1.795873e-07 7.329379e-02 1.242789e-01\n",
       "11 5.163420e-02       18.411606 7.768167e-06 3.068840e-02 7.741872e-02\n",
       "12 4.605364e-02       19.495232 3.212458e-06 3.852000e-02 5.346772e-01\n",
       "13 4.065242e-02       20.749957 2.941159e-07 6.591298e-01 9.109293e-02\n",
       "14 3.102066e-02       23.753899 8.437731e-04 8.600665e-02 9.780049e-02\n",
       "15 2.334920e-02       27.379430 1.116535e-04 2.587242e-02 3.655766e-03\n",
       "16 1.454271e-02       34.692666 1.362074e-03 1.775637e-02 1.076548e-02\n",
       "17 1.236899e-02       37.617782 2.522616e-03 2.371365e-03 7.839165e-05\n",
       "18 5.233759e-03       57.830048 2.340555e-03 1.316345e-04 6.264678e-04\n",
       "19 3.504127e-03       70.675754 7.382257e-03 1.492347e-02 2.170134e-03\n",
       "20 2.638898e-03       81.442124 1.655797e-02 8.475189e-03 5.296677e-04\n",
       "21 1.126038e-03      124.676313 8.507532e-02 2.588311e-04 9.031611e-04\n",
       "22 5.829395e-04      173.280081 8.837754e-01 1.966053e-03 8.362286e-04\n",
       "    Nivel_RVF_3  Nivel_RVF_4  Nivel_RVF_5  Nivel_RVF_6 Triturador_1_A\n",
       "1  1.721396e-04 1.635488e-04 7.836867e-05 1.383083e-04   6.872266e-04\n",
       "2  1.653565e-05 4.780182e-08 5.086034e-07 8.843315e-07   1.039275e-02\n",
       "3  2.611700e-06 5.587904e-09 1.275021e-07 8.299122e-07   5.109533e-04\n",
       "4  2.134510e-04 1.752308e-04 1.535750e-04 2.812228e-04   3.000486e-02\n",
       "5  3.063563e-06 5.794787e-06 1.683881e-06 1.310615e-05   1.448499e-02\n",
       "6  4.536974e-04 3.405543e-04 2.809989e-04 1.235641e-04   8.010985e-01\n",
       "7  3.873428e-04 6.594397e-04 6.718671e-04 1.218212e-03   1.483759e-03\n",
       "8  1.448942e-03 7.103088e-02 1.506177e-03 3.694372e-02   1.243543e-03\n",
       "9  1.833025e-01 2.507463e-02 2.340163e-03 7.807189e-04   3.021199e-02\n",
       "10 3.177235e-03 6.940402e-01 2.334130e-04 2.657710e-02   2.357635e-05\n",
       "11 7.519805e-01 2.119481e-02 2.147365e-03 1.851324e-02   8.561614e-03\n",
       "12 1.397323e-03 1.359041e-02 3.392700e-03 4.012328e-01   2.775021e-03\n",
       "13 7.134530e-04 1.763415e-03 2.289017e-03 3.147632e-01   6.638738e-03\n",
       "14 4.419322e-02 7.892589e-02 7.524493e-02 1.613391e-01   3.630092e-04\n",
       "15 1.747948e-04 1.692336e-02 8.225678e-01 6.184226e-04   9.398361e-04\n",
       "16 9.619672e-04 2.273083e-02 3.613644e-02 9.388346e-03   1.710748e-02\n",
       "17 4.587622e-04 3.052222e-02 2.018476e-02 5.173106e-05   3.636629e-05\n",
       "18 9.165597e-04 1.222158e-02 1.341898e-03 2.125977e-03   3.894409e-02\n",
       "19 3.060448e-03 8.511745e-03 7.559106e-03 1.963754e-02   1.162671e-02\n",
       "20 1.058695e-03 1.527626e-04 6.769283e-03 4.210522e-04   1.578823e-02\n",
       "21 1.534157e-04 1.896445e-03 9.187741e-05 5.664661e-03   9.203718e-05\n",
       "22 5.753316e-03 7.617987e-05 1.700794e-02 1.663032e-04   6.984707e-03\n",
       "   Triturador_2_A           TE           TS        Draft Damper_Reciclo\n",
       "1    4.983865e-04 1.853220e-05 1.180712e-05 5.241163e-04   5.305823e-05\n",
       "2    6.805327e-02 3.820125e-08 2.584573e-07 8.020294e-02   3.636436e-06\n",
       "3    2.822900e-03 4.934441e-08 2.472334e-07 8.638136e-05   1.664173e-06\n",
       "4    1.820754e-01 8.807559e-06 1.650165e-05 3.462572e-01   2.414960e-05\n",
       "5    1.679347e-01 9.336419e-07 3.895232e-06 3.496447e-01   7.075138e-06\n",
       "6    1.175368e-01 1.636689e-05 5.417284e-05 2.395549e-04   2.361644e-04\n",
       "7    3.060647e-01 3.662425e-05 6.865342e-05 1.065875e-01   8.717480e-05\n",
       "8    1.540560e-02 2.518533e-03 9.152523e-04 2.365409e-02   3.046620e-03\n",
       "9    1.839401e-03 7.621205e-04 4.733000e-06 2.375644e-03   4.203536e-02\n",
       "10   1.992707e-03 1.213775e-04 8.079962e-05 1.432830e-03   3.537851e-04\n",
       "11   5.834577e-04 5.615240e-04 1.485645e-04 2.308360e-06   6.002305e-03\n",
       "12   1.733380e-03 1.251287e-04 7.708150e-06 4.703676e-03   1.516074e-03\n",
       "13   2.096711e-03 9.874111e-04 1.822838e-04 2.883234e-03   2.140981e-04\n",
       "14   3.046507e-03 1.919007e-02 1.342152e-02 1.672568e-03   4.279599e-03\n",
       "15   5.922342e-04 1.991378e-02 9.704717e-03 8.883922e-04   9.040861e-04\n",
       "16   8.371716e-05 5.080243e-02 9.534608e-03 2.419391e-02   4.512342e-01\n",
       "17   3.229348e-02 7.521630e-02 2.497222e-02 1.640640e-02   4.437755e-01\n",
       "18   1.183507e-02 3.183462e-02 3.428480e-03 6.481922e-03   7.799671e-04\n",
       "19   6.060185e-02 2.090473e-01 1.534497e-01 2.319630e-02   4.337066e-05\n",
       "20   1.622771e-02 5.449329e-01 5.405077e-01 2.506920e-04   4.092544e-02\n",
       "21   4.641678e-03 4.389299e-02 2.230709e-01 8.281927e-03   6.961312e-04\n",
       "22   2.040328e-03 1.221531e-05 2.041531e-02 3.372248e-05   3.780475e-03\n",
       "     Damper_atm Damper_scrubber Motor_Secador Motor_soplador_reciclo\n",
       "1  4.612035e-06    9.827235e-05  1.744768e-05           1.473047e-05\n",
       "2  4.611540e-02    3.865446e-07  1.263448e-06           1.386223e-10\n",
       "3  7.376862e-01    3.253536e-06  3.787486e-07           7.040970e-07\n",
       "4  3.296822e-03    1.390774e-06  1.679000e-05           1.818105e-05\n",
       "5  1.224476e-02    4.086135e-06  3.281633e-08           1.350976e-06\n",
       "6  9.089569e-05    1.557062e-03  8.258446e-05           3.010621e-05\n",
       "7  1.769126e-06    6.531025e-06  1.122618e-05           7.612003e-06\n",
       "8  3.059481e-03    3.829472e-03  8.468357e-04           2.016515e-06\n",
       "9  3.520546e-03    2.506456e-01  8.578400e-05           4.842474e-05\n",
       "10 2.626098e-04    3.703444e-06  1.263252e-05           9.462878e-05\n",
       "11 2.832816e-06    4.751183e-02  9.173494e-05           1.446600e-05\n",
       "12 6.982916e-05    1.018493e-02  4.243245e-10           1.317168e-05\n",
       "13 4.451412e-04    1.426007e-03  3.958974e-05           4.515919e-05\n",
       "14 3.164775e-04    3.208448e-02  8.193767e-03           5.146284e-03\n",
       "15 1.513504e-03    3.636365e-04  4.626217e-03           1.226267e-03\n",
       "16 3.836802e-03    5.401550e-01  2.043291e-03           1.323900e-02\n",
       "17 1.651155e-03    9.575082e-02  1.083455e-02           5.519854e-02\n",
       "18 1.476079e-04    1.256844e-03  7.282961e-01           2.096764e-01\n",
       "19 1.810257e-04    1.070619e-02  8.292658e-02           3.727527e-01\n",
       "20 2.027647e-03    1.577863e-03  1.273179e-01           2.847345e-01\n",
       "21 1.447336e-02    2.809469e-03  1.059621e-04           1.765649e-02\n",
       "22 1.690515e-01    2.323745e-05  3.444937e-02           4.007921e-02\n",
       "   Motor_gusano_descarga Motor_rastra_descarga Molino_salida_1 Molino_salida_2\n",
       "1           3.396145e-06          6.157935e-06    1.551456e-04    2.427429e-04\n",
       "2           1.604314e-07          5.126696e-07    5.341680e-04    3.614241e-01\n",
       "3           1.196439e-07          1.920674e-07    2.866146e-05    3.933309e-02\n",
       "4           4.579023e-06          6.949048e-06    6.445988e-05    1.157335e-02\n",
       "5           3.263660e-08          4.781525e-08    1.312004e-03    2.893233e-01\n",
       "6           7.401981e-06          1.086263e-05    2.372203e-04    2.119231e-03\n",
       "7           5.485536e-07          1.212394e-08    3.234580e-04    2.200275e-02\n",
       "8           5.578866e-06          3.498756e-07    5.010482e-01    1.585060e-01\n",
       "9           5.491090e-07          1.393724e-06    1.089260e-04    5.039773e-03\n",
       "10          1.067728e-06          1.304543e-05    1.336645e-02    1.402161e-03\n",
       "11          1.830978e-05          3.142557e-05    3.067599e-02    4.960817e-03\n",
       "12          5.247240e-06          8.516674e-06    5.101699e-04    2.765536e-06\n",
       "13          1.354830e-06          3.750515e-06    4.954498e-04    1.530719e-05\n",
       "14          1.146852e-03          9.634245e-04    2.933155e-01    6.369559e-02\n",
       "15          3.026303e-04          6.198537e-05    4.040995e-02    1.086435e-02\n",
       "16          2.116240e-03          6.215222e-03    7.307728e-03    5.447534e-03\n",
       "17          4.422071e-03          1.549340e-02    9.913263e-04    7.542367e-05\n",
       "18          1.626082e-05          7.941236e-05    2.091872e-02    4.887004e-04\n",
       "19          1.798137e-02          1.561275e-01    1.645631e-03    1.094961e-03\n",
       "20          2.706130e-02          3.227807e-03    2.241815e-02    1.455782e-02\n",
       "21          3.049361e-01          7.987492e-01    6.410617e-02    6.388248e-03\n",
       "22          6.419689e-01          1.899882e-02    2.647127e-05    1.441989e-03\n",
       "   Presion_filtro_bolsa\n",
       "1          4.433033e-04\n",
       "2          5.194952e-03\n",
       "3          6.930321e-04\n",
       "4          2.801451e-02\n",
       "5          5.718420e-04\n",
       "6          2.671228e-03\n",
       "7          7.346458e-01\n",
       "8          2.372272e-02\n",
       "9          1.123279e-02\n",
       "10         4.012039e-03\n",
       "11         2.335168e-03\n",
       "12         7.647657e-04\n",
       "13         6.935866e-06\n",
       "14         1.464719e-04\n",
       "15         4.379877e-03\n",
       "16         1.257871e-02\n",
       "17         5.421742e-02\n",
       "18         1.457344e-02\n",
       "19         2.432129e-02\n",
       "20         4.854659e-02\n",
       "21         1.142280e-02\n",
       "22         1.550432e-02"
      ]
     },
     "metadata": {},
     "output_type": "display_data"
    }
   ],
   "source": [
    "ols_coll_diag(LR2)"
   ]
  },
  {
   "cell_type": "markdown",
   "metadata": {},
   "source": [
    "De los resultados obtenidos **no se observa colinealidad entre las variables**."
   ]
  },
  {
   "cell_type": "markdown",
   "metadata": {},
   "source": [
    "Pasamos a ver como predice el modelo con un grafico de observaciones vs predicciones:"
   ]
  },
  {
   "cell_type": "code",
   "execution_count": 23,
   "metadata": {
    "scrolled": false
   },
   "outputs": [
    {
     "data": {
      "image/png": "[encoded data removed]",
      "text/plain": [
       "plot without title"
      ]
     },
     "metadata": {},
     "output_type": "display_data"
    }
   ],
   "source": [
    "ols_plot_obs_fit(LR2)"
   ]
  },
  {
   "cell_type": "markdown",
   "metadata": {},
   "source": [
    "Obtenemos las predicciones con los datos de prueba:"
   ]
  },
  {
   "cell_type": "code",
   "execution_count": 24,
   "metadata": {
    "scrolled": true
   },
   "outputs": [],
   "source": [
    "yLR_predict <- predict(LR2, XLR_test, interval=\"predict\", level = 0.95)"
   ]
  },
  {
   "cell_type": "markdown",
   "metadata": {},
   "source": [
    "Obtenemos el MSE:"
   ]
  },
  {
   "cell_type": "code",
   "execution_count": 58,
   "metadata": {},
   "outputs": [
    {
     "data": {
      "text/html": [
       "3.88413684809271"
      ],
      "text/latex": [
       "3.88413684809271"
      ],
      "text/markdown": [
       "3.88413684809271"
      ],
      "text/plain": [
       "[1] 3.884137"
      ]
     },
     "metadata": {},
     "output_type": "display_data"
    }
   ],
   "source": [
    "library(MLmetrics)\n",
    "MSE(test_data2LR$Humedad,yLR_predict[,1])"
   ]
  },
  {
   "cell_type": "markdown",
   "metadata": {},
   "source": [
    "Obtenemos el MAPE como medida de precisión del modelo:"
   ]
  },
  {
   "cell_type": "code",
   "execution_count": 59,
   "metadata": {
    "scrolled": true
   },
   "outputs": [
    {
     "data": {
      "text/html": [
       "84.6237565725497"
      ],
      "text/latex": [
       "84.6237565725497"
      ],
      "text/markdown": [
       "84.6237565725497"
      ],
      "text/plain": [
       "[1] 84.62376"
      ]
     },
     "metadata": {},
     "output_type": "display_data"
    }
   ],
   "source": [
    "(1 - MAPE(yLR_predict[,1], test_data2LR$Humedad))*100"
   ]
  },
  {
   "cell_type": "markdown",
   "metadata": {},
   "source": [
    "### MLR con datos normalizados sin eliminación de caracteristícas"
   ]
  },
  {
   "cell_type": "markdown",
   "metadata": {},
   "source": [
    "Normalizamos los datos:"
   ]
  },
  {
   "cell_type": "code",
   "execution_count": 37,
   "metadata": {},
   "outputs": [],
   "source": [
    "train_dataLRN <- train_data2LR\n",
    "test_dataLRN <- test_data2LR\n",
    "\n"
   ]
  },
  {
   "cell_type": "code",
   "execution_count": 49,
   "metadata": {},
   "outputs": [
    {
     "name": "stdout",
     "output_type": "stream",
     "text": [
      "tibble [2,797 x 22] (S3: tbl_df/tbl/data.frame)\n",
      " $ Humedad               : num [1:2797] 0.627 0.639 0.671 0.558 0.52 ...\n",
      " $ Nivel_RVF_1           : num [1:2797] 0.772 0.77 0.782 0.773 0.764 ...\n",
      " $ Nivel_RVF_2           : num [1:2797] 0.927 0.922 0.91 0.924 0.923 ...\n",
      " $ Nivel_RVF_3           : num [1:2797] 0.796 0.804 0.802 0.793 0.808 ...\n",
      " $ Nivel_RVF_4           : num [1:2797] 0.826 0.811 0.78 0.78 0.777 ...\n",
      " $ Nivel_RVF_5           : num [1:2797] 0.798 0.798 0.802 0.788 0.799 ...\n",
      " $ Nivel_RVF_6           : num [1:2797] 0.787 0.791 0.794 0.783 0.788 ...\n",
      " $ Triturador_1_A        : num [1:2797] 0.0683 0.0657 0.0657 0.0649 0.0666 ...\n",
      " $ Triturador_2_A        : num [1:2797] 0.204 0.191 0.205 0.194 0.187 ...\n",
      " $ TE                    : num [1:2797] 0.591 0.596 0.54 0.549 0.555 ...\n",
      " $ TS                    : num [1:2797] 0.621 0.635 0.603 0.614 0.635 ...\n",
      " $ Draft                 : num [1:2797] 0.871 0.866 0.73 0.492 0.404 ...\n",
      " $ Damper_Reciclo        : num [1:2797] 1 1 1 1 1 1 1 1 1 1 ...\n",
      " $ Damper_atm            : num [1:2797] 0 0 0 0 0 0 0 0 0 0 ...\n",
      " $ Damper_scrubber       : num [1:2797] 1 1 1 1 1 1 1 1 1 1 ...\n",
      " $ Motor_Secador         : num [1:2797] 0.62 0.6 0.58 0.593 0.611 ...\n",
      " $ Motor_soplador_reciclo: num [1:2797] 0.71 0.694 0.709 0.71 0.719 ...\n",
      " $ Motor_gusano_descarga : num [1:2797] 0.92 0.893 0.888 0.9 0.917 ...\n",
      " $ Motor_rastra_descarga : num [1:2797] 0.716 0.686 0.694 0.686 0.687 ...\n",
      " $ Molino_salida_1       : num [1:2797] 0.465 0.362 0.346 0.381 0.371 ...\n",
      " $ Molino_salida_2       : num [1:2797] 0.000291 0.000276 0.000241 0.000221 0.000202 ...\n",
      " $ Presion_filtro_bolsa  : num [1:2797] 0.245 0.239 0.247 0.291 0.233 ...\n",
      "tibble [613 x 22] (S3: tbl_df/tbl/data.frame)\n",
      " $ Humedad               : num [1:613] 0.626 0.579 0.57 0.647 0.417 ...\n",
      " $ Nivel_RVF_1           : num [1:613] 0.806 0.805 0.814 0.794 0.801 ...\n",
      " $ Nivel_RVF_2           : num [1:613] 0.87 0.877 0.886 0.884 0.875 ...\n",
      " $ Nivel_RVF_3           : num [1:613] 0.852 0.859 0.86 0.856 0.852 ...\n",
      " $ Nivel_RVF_4           : num [1:613] 0.858 0.828 0.819 0.873 0.848 ...\n",
      " $ Nivel_RVF_5           : num [1:613] 0.765 0.769 0.763 0.769 0.766 ...\n",
      " $ Nivel_RVF_6           : num [1:613] 0.795 0.796 0.796 0.791 0.803 ...\n",
      " $ Triturador_1_A        : num [1:613] 0.123 0.128 0.131 0.134 0.251 ...\n",
      " $ Triturador_2_A        : num [1:613] 0.278 0.274 0.265 0.273 0 ...\n",
      " $ TE                    : num [1:613] 0.541 0.568 0.436 0.392 0.837 ...\n",
      " $ TS                    : num [1:613] 0.569 0.609 0.516 0.463 0.756 ...\n",
      " $ Draft                 : num [1:613] 0.769 0.309 0.785 0.523 0.793 ...\n",
      " $ Damper_Reciclo        : num [1:613] 1 1 1 1 1 1 1 1 1 1 ...\n",
      " $ Damper_atm            : num [1:613] 0 0 0 0 0 0 0 0 0 0 ...\n",
      " $ Damper_scrubber       : num [1:613] 1 1 1 1 1 1 1 1 1 1 ...\n",
      " $ Motor_Secador         : num [1:613] 0.684 0.692 0.684 0.668 0.719 ...\n",
      " $ Motor_soplador_reciclo: num [1:613] 0.723 0.721 0.721 0.702 0.785 ...\n",
      " $ Motor_gusano_descarga : num [1:613] 0.903 0.946 0.951 0.962 0.922 ...\n",
      " $ Motor_rastra_descarga : num [1:613] 0.842 0.811 0.813 0.849 0.809 ...\n",
      " $ Molino_salida_1       : num [1:613] 0.369 0.407 0.375 0.447 0.442 ...\n",
      " $ Molino_salida_2       : num [1:613] 0.000206 0.000141 0.000179 0.000182 0.000219 ...\n",
      " $ Presion_filtro_bolsa  : num [1:613] 0.321 0.329 0.293 0.309 0.266 ...\n"
     ]
    }
   ],
   "source": [
    "dataLRN_columns <- names(train_dataLRN)\n",
    "\n",
    "#Normalizando datos de entrenamiento\n",
    "for (col in dataLRN_columns){\n",
    "    train_dataLRN[col] <- (train_dataLRN[col] - min(train_dataLRN[col])) / (max(train_dataLRN[col]) - min(train_dataLRN[col]))\n",
    "}\n",
    "\n",
    "#Normalizando datos de prueba\n",
    "for (col in dataLRN_columns){\n",
    "    test_dataLRN[col] <- (test_dataLRN[col] - min(test_dataLRN[col])) / (max(test_dataLRN[col]) - min(test_dataLRN[col]))\n",
    "}\n",
    "\n",
    "str(train_dataLRN)\n",
    "str(test_dataLRN)"
   ]
  },
  {
   "cell_type": "code",
   "execution_count": 50,
   "metadata": {},
   "outputs": [
    {
     "data": {
      "text/plain": [
       "                        Model Summary                          \n",
       "--------------------------------------------------------------\n",
       "R                       0.433       RMSE                0.125 \n",
       "R-Squared               0.188       Coef. Var          22.656 \n",
       "Adj. R-Squared          0.181       MSE                 0.016 \n",
       "Pred R-Squared          0.172       MAE                 0.097 \n",
       "--------------------------------------------------------------\n",
       " RMSE: Root Mean Square Error \n",
       " MSE: Mean Square Error \n",
       " MAE: Mean Absolute Error \n",
       "\n",
       "                                ANOVA                                 \n",
       "---------------------------------------------------------------------\n",
       "               Sum of                                                \n",
       "              Squares          DF    Mean Square      F         Sig. \n",
       "---------------------------------------------------------------------\n",
       "Regression      9.993          21          0.476    30.501    0.0000 \n",
       "Residual       43.293        2775          0.016                     \n",
       "Total          53.286        2796                                    \n",
       "---------------------------------------------------------------------\n",
       "\n",
       "                                        Parameter Estimates                                         \n",
       "---------------------------------------------------------------------------------------------------\n",
       "                 model      Beta    Std. Error    Std. Beta      t        Sig      lower     upper \n",
       "---------------------------------------------------------------------------------------------------\n",
       "           (Intercept)    -0.015         0.080                 -0.191    0.849    -0.173     0.142 \n",
       "           Nivel_RVF_1     0.037         0.015        0.043     2.412    0.016     0.007     0.067 \n",
       "           Nivel_RVF_2     0.003         0.012        0.005     0.271    0.786    -0.021     0.028 \n",
       "           Nivel_RVF_3     0.013         0.013        0.018     1.040    0.298    -0.012     0.038 \n",
       "           Nivel_RVF_4    -0.028         0.013       -0.038    -2.166    0.030    -0.053    -0.003 \n",
       "           Nivel_RVF_5     0.003         0.019        0.003     0.170    0.865    -0.034     0.040 \n",
       "           Nivel_RVF_6    -0.008         0.015       -0.009    -0.525    0.599    -0.036     0.021 \n",
       "        Triturador_1_A    -0.005         0.043       -0.002    -0.125    0.900    -0.089     0.079 \n",
       "        Triturador_2_A    -0.062         0.021       -0.062    -2.922    0.004    -0.104    -0.021 \n",
       "                    TE     0.189         0.034        0.161     5.565    0.000     0.122     0.255 \n",
       "                    TS    -0.247         0.038       -0.203    -6.463    0.000    -0.322    -0.172 \n",
       "                 Draft     0.041         0.017        0.046     2.403    0.016     0.008     0.075 \n",
       "        Damper_Reciclo     0.021         0.019        0.024     1.116    0.265    -0.016     0.057 \n",
       "            Damper_atm     0.415         0.113        0.070     3.659    0.000     0.193     0.638 \n",
       "       Damper_scrubber    -0.039         0.014       -0.063    -2.838    0.005    -0.065    -0.012 \n",
       "         Motor_Secador     0.330         0.049        0.143     6.693    0.000     0.233     0.427 \n",
       "Motor_soplador_reciclo    -0.208         0.046       -0.086    -4.543    0.000    -0.298    -0.118 \n",
       " Motor_gusano_descarga    -0.288         0.079       -0.076    -3.654    0.000    -0.443    -0.134 \n",
       " Motor_rastra_descarga     1.106         0.079        0.297    14.028    0.000     0.952     1.261 \n",
       "       Molino_salida_1     0.190         0.026        0.162     7.347    0.000     0.139     0.240 \n",
       "       Molino_salida_2     0.019         0.021        0.019     0.918    0.359    -0.022     0.060 \n",
       "  Presion_filtro_bolsa    -0.071         0.016       -0.100    -4.522    0.000    -0.102    -0.040 \n",
       "---------------------------------------------------------------------------------------------------"
      ]
     },
     "metadata": {},
     "output_type": "display_data"
    }
   ],
   "source": [
    "LRN <- lm(Humedad ~ ., data = train_dataLRN)\n",
    "\n",
    "ols_regress(LRN)"
   ]
  },
  {
   "cell_type": "code",
   "execution_count": 51,
   "metadata": {},
   "outputs": [
    {
     "data": {
      "image/png": "[encoded data removed]",
      "text/plain": [
       "plot without title"
      ]
     },
     "metadata": {},
     "output_type": "display_data"
    }
   ],
   "source": [
    "ols_plot_resid_fit(LRN)"
   ]
  },
  {
   "cell_type": "code",
   "execution_count": 52,
   "metadata": {},
   "outputs": [
    {
     "data": {
      "image/png": "[encoded data removed]",
      "text/plain": [
       "plot without title"
      ]
     },
     "metadata": {},
     "output_type": "display_data"
    }
   ],
   "source": [
    "ols_plot_resid_fit_spread(LRN)"
   ]
  },
  {
   "cell_type": "code",
   "execution_count": 53,
   "metadata": {},
   "outputs": [
    {
     "data": {
      "image/png": "[encoded data removed]",
      "text/plain": [
       "plot without title"
      ]
     },
     "metadata": {},
     "output_type": "display_data"
    }
   ],
   "source": [
    "ols_plot_resid_qq(LRN)"
   ]
  },
  {
   "cell_type": "code",
   "execution_count": 54,
   "metadata": {},
   "outputs": [
    {
     "data": {
      "text/plain": [
       "\n",
       " Breusch Pagan Test for Heteroskedasticity\n",
       " -----------------------------------------\n",
       " Ho: the variance is constant            \n",
       " Ha: the variance is not constant        \n",
       "\n",
       "               Data                 \n",
       " -----------------------------------\n",
       " Response : Humedad \n",
       " Variables: fitted values of Humedad \n",
       "\n",
       "         Test Summary           \n",
       " -------------------------------\n",
       " DF            =    1 \n",
       " Chi2          =    39.75717 \n",
       " Prob > Chi2   =    2.875823e-10 "
      ]
     },
     "metadata": {},
     "output_type": "display_data"
    }
   ],
   "source": [
    "ols_test_breusch_pagan(LRN)"
   ]
  },
  {
   "cell_type": "code",
   "execution_count": 55,
   "metadata": {},
   "outputs": [
    {
     "data": {
      "text/plain": [
       "Tolerance and Variance Inflation Factor\n",
       "---------------------------------------\n",
       "                Variables Tolerance      VIF\n",
       "1             Nivel_RVF_1 0.9337645 1.070934\n",
       "2             Nivel_RVF_2 0.9530499 1.049263\n",
       "3             Nivel_RVF_3 0.9719477 1.028862\n",
       "4             Nivel_RVF_4 0.9567315 1.045225\n",
       "5             Nivel_RVF_5 0.9300604 1.075199\n",
       "6             Nivel_RVF_6 0.9358294 1.068571\n",
       "7          Triturador_1_A 0.8308149 1.203638\n",
       "8          Triturador_2_A 0.6505137 1.537247\n",
       "9                      TE 0.3494993 2.861236\n",
       "10                     TS 0.2964704 3.373018\n",
       "11                  Draft 0.8060750 1.240579\n",
       "12         Damper_Reciclo 0.6116558 1.634906\n",
       "13             Damper_atm 0.7998319 1.250263\n",
       "14        Damper_scrubber 0.5908173 1.692571\n",
       "15          Motor_Secador 0.6452484 1.549791\n",
       "16 Motor_soplador_reciclo 0.8151016 1.226841\n",
       "17  Motor_gusano_descarga 0.6683334 1.496259\n",
       "18  Motor_rastra_descarga 0.6539894 1.529077\n",
       "19        Molino_salida_1 0.6044763 1.654325\n",
       "20        Molino_salida_2 0.7181258 1.392514\n",
       "21   Presion_filtro_bolsa 0.6014608 1.662619\n",
       "\n",
       "\n",
       "Eigenvalue and Condition Index\n",
       "------------------------------\n",
       "     Eigenvalue Condition Index    intercept  Nivel_RVF_1  Nivel_RVF_2\n",
       "1  1.814087e+01        1.000000 2.615915e-06 1.265288e-04 1.419709e-04\n",
       "2  1.008128e+00        4.242004 1.544871e-09 4.259678e-06 3.743002e-07\n",
       "3  9.992164e-01        4.260879 4.856224e-08 7.590481e-06 2.180138e-06\n",
       "4  7.366679e-01        4.962416 1.363435e-06 9.435500e-05 3.709896e-05\n",
       "5  3.735168e-01        6.969056 6.111941e-06 4.989590e-04 1.845441e-04\n",
       "6  2.395730e-01        8.701820 2.313722e-06 1.893307e-03 1.645733e-03\n",
       "7  7.905412e-02       15.148400 2.904402e-05 3.606657e-02 1.245280e-02\n",
       "8  6.534021e-02       16.662446 2.399577e-07 2.052008e-02 2.310914e-02\n",
       "9  5.606035e-02       17.988756 1.998772e-06 5.144170e-02 6.052897e-03\n",
       "10 5.319697e-02       18.466541 1.134272e-06 2.077138e-02 2.231314e-01\n",
       "11 5.142765e-02       18.781518 1.512868e-05 1.558787e-02 8.835821e-03\n",
       "12 4.704347e-02       19.637190 2.637603e-07 4.195783e-03 4.078015e-01\n",
       "13 4.125855e-02       20.968727 4.155633e-07 6.549510e-01 1.946544e-01\n",
       "14 3.472954e-02       22.854911 3.139628e-04 2.432039e-02 8.838380e-02\n",
       "15 2.649848e-02       26.164870 2.389385e-04 1.139149e-01 4.052820e-03\n",
       "16 1.863773e-02       31.198410 3.685614e-03 2.824188e-02 2.036601e-02\n",
       "17 1.337735e-02       36.825098 3.808797e-04 7.718552e-04 3.060995e-03\n",
       "18 5.470843e-03       57.584008 2.058855e-03 6.157376e-04 3.996437e-03\n",
       "19 5.061530e-03       59.867087 6.246563e-04 1.563757e-03 4.884149e-04\n",
       "20 3.085641e-03       76.675447 2.176196e-02 2.187332e-02 1.053700e-04\n",
       "21 1.193823e-03      123.270467 1.030468e-01 4.302386e-04 7.676793e-04\n",
       "22 5.937361e-04      174.796322 8.678277e-01 2.108547e-03 7.286638e-04\n",
       "    Nivel_RVF_3  Nivel_RVF_4  Nivel_RVF_5  Nivel_RVF_6 Triturador_1_A\n",
       "1  1.603731e-04 1.523161e-04 7.645891e-05 1.371227e-04   0.0006391584\n",
       "2  2.218888e-06 6.620787e-06 2.937754e-06 1.164995e-05   0.0124430470\n",
       "3  1.026995e-06 4.118878e-06 3.553823e-06 2.323718e-06   0.0034801538\n",
       "4  1.378912e-04 5.683301e-05 6.823600e-05 9.943900e-05   0.0363963023\n",
       "5  4.154708e-04 3.071614e-04 2.807909e-04 1.108448e-04   0.8045773790\n",
       "6  6.043143e-04 8.546427e-04 9.353777e-04 2.040700e-03   0.0006284582\n",
       "7  1.562832e-03 4.684274e-02 3.502642e-03 4.334681e-02   0.0016325150\n",
       "8  1.661160e-01 5.367292e-03 2.508408e-03 2.167077e-03   0.0288314368\n",
       "9  1.088873e-03 5.555454e-01 1.107729e-04 2.940353e-02   0.0019542111\n",
       "10 2.051902e-01 8.240817e-02 1.036145e-05 3.503205e-02   0.0052391746\n",
       "11 5.568443e-01 1.083002e-01 3.900348e-03 3.634179e-02   0.0039573921\n",
       "12 8.789557e-03 1.257010e-02 3.178264e-04 5.036407e-01   0.0037611565\n",
       "13 1.658600e-03 2.699210e-03 5.202841e-03 1.509234e-01   0.0024826560\n",
       "14 2.928770e-02 7.425460e-03 9.485953e-03 1.292156e-01   0.0007044882\n",
       "15 7.141736e-03 9.771162e-02 6.805473e-01 2.194545e-02   0.0001842639\n",
       "16 8.379745e-03 5.179315e-02 2.594308e-01 1.241953e-02   0.0114636462\n",
       "17 1.448197e-04 3.296261e-03 1.676951e-03 2.323411e-03   0.0063034647\n",
       "18 5.577115e-03 2.055872e-02 1.579581e-03 1.805705e-02   0.0649017091\n",
       "19 6.115093e-04 7.760451e-04 3.643330e-05 3.432083e-03   0.0021341148\n",
       "20 1.313286e-04 2.060513e-03 1.324116e-02 4.906813e-03   0.0004414366\n",
       "21 1.796215e-04 9.280332e-04 3.526967e-04 4.389715e-03   0.0001921434\n",
       "22 5.974812e-03 3.354465e-04 1.672862e-02 5.292968e-05   0.0076516924\n",
       "   Triturador_2_A           TE           TS        Draft Damper_Reciclo\n",
       "1    4.631737e-04 3.106960e-05 2.032812e-05 1.589820e-04   4.941706e-05\n",
       "2    7.364409e-02 8.284747e-07 5.830292e-06 3.488994e-05   2.793873e-07\n",
       "3    2.107078e-02 5.835391e-10 2.790369e-07 3.837051e-05   1.351728e-06\n",
       "4    3.071970e-01 1.168185e-05 4.229114e-05 7.965283e-07   2.939963e-06\n",
       "5    1.081315e-01 1.671039e-05 1.200871e-04 3.075639e-04   2.218762e-04\n",
       "6    3.017435e-01 5.578145e-05 1.196393e-04 5.125092e-03   1.460283e-04\n",
       "7    3.699368e-02 1.066144e-02 4.893715e-03 8.766826e-02   3.815997e-03\n",
       "8    5.598862e-03 4.719265e-03 1.782559e-04 3.115766e-02   3.906193e-02\n",
       "9    5.082202e-03 6.146273e-04 2.754260e-04 2.239323e-01   3.846073e-03\n",
       "10   1.342234e-05 1.414829e-03 8.468523e-04 2.626685e-01   3.542136e-03\n",
       "11   1.513995e-03 9.568829e-04 6.278588e-05 1.421828e-01   2.150471e-03\n",
       "12   2.739509e-03 1.002382e-03 1.895766e-04 6.384733e-02   1.574076e-03\n",
       "13   7.468623e-03 3.217980e-03 5.130991e-04 7.342968e-02   2.218077e-04\n",
       "14   2.855571e-04 6.654486e-02 3.912861e-02 5.771744e-02   5.393778e-04\n",
       "15   1.172832e-03 3.003227e-02 9.117841e-03 6.546611e-03   6.776836e-05\n",
       "16   1.125141e-02 5.793565e-02 7.076697e-03 4.219815e-03   1.083503e-02\n",
       "17   1.666748e-02 2.441980e-03 5.746946e-03 5.812098e-04   8.825528e-01\n",
       "18   1.900840e-02 5.661948e-01 3.478573e-01 8.208545e-04   1.605976e-02\n",
       "19   7.228810e-02 1.687092e-01 3.202527e-01 3.243211e-02   4.229940e-03\n",
       "20   3.347861e-03 6.804213e-02 1.261652e-01 2.646969e-04   2.538444e-02\n",
       "21   2.487655e-03 1.734231e-02 1.326504e-01 6.345001e-04   1.948586e-03\n",
       "22   1.830387e-03 5.334814e-05 4.736117e-03 6.230503e-03   3.747911e-03\n",
       "     Damper_atm Damper_scrubber Motor_Secador Motor_soplador_reciclo\n",
       "1  4.188624e-06    9.147453e-05  1.635345e-05           1.378235e-05\n",
       "2  1.128135e-01    1.490298e-06  8.772610e-08           1.491652e-06\n",
       "3  6.810171e-01    1.712286e-06  2.707771e-07           6.572844e-09\n",
       "4  3.734554e-03    9.680419e-07  9.494547e-06           1.354060e-05\n",
       "5  1.037408e-04    1.491129e-03  7.895000e-05           2.693631e-05\n",
       "6  4.972155e-04    1.081636e-05  2.501911e-05           7.509830e-07\n",
       "7  8.484935e-04    3.349694e-03  2.865396e-04           5.777518e-05\n",
       "8  1.429276e-03    2.353098e-01  3.732279e-06           4.861648e-05\n",
       "9  2.070949e-03    1.112914e-02  4.211797e-04           2.179109e-05\n",
       "10 3.383768e-03    2.753720e-02  1.168459e-04           4.710192e-05\n",
       "11 1.827206e-03    1.833633e-02  3.178750e-04           4.571042e-05\n",
       "12 1.246596e-05    5.675522e-03  5.806497e-05           3.169207e-05\n",
       "13 1.393089e-03    1.135608e-03  7.958535e-05           2.214379e-05\n",
       "14 1.407036e-03    1.214221e-03  4.734283e-03           1.441329e-03\n",
       "15 2.930551e-04    2.398718e-02  9.707443e-05           1.425079e-03\n",
       "16 5.474581e-03    1.908541e-01  2.153111e-02           3.533152e-02\n",
       "17 2.836826e-05    4.625540e-01  5.351200e-03           1.140455e-02\n",
       "18 1.173212e-05    2.672767e-03  2.847124e-01           4.665477e-02\n",
       "19 1.266741e-04    8.878538e-05  3.973685e-01           2.463687e-01\n",
       "20 1.131718e-03    1.125790e-02  2.597070e-01           5.963165e-01\n",
       "21 2.142352e-02    3.209928e-03  1.322509e-04           2.437952e-02\n",
       "22 1.609678e-01    9.022051e-05  2.495221e-02           3.634671e-02\n",
       "   Motor_gusano_descarga Motor_rastra_descarga Molino_salida_1 Molino_salida_2\n",
       "1           3.178830e-06          5.683698e-06    1.445646e-04    0.0002045732\n",
       "2           1.047427e-07          5.490526e-08    4.970287e-04    0.3801875344\n",
       "3           2.810354e-08          1.141151e-07    1.100845e-04    0.0497542070\n",
       "4           1.982400e-06          2.978900e-06    1.006699e-03    0.2652627306\n",
       "5           6.795832e-06          9.648972e-06    2.051698e-04    0.0020993020\n",
       "6           4.524351e-06          3.414315e-06    1.003057e-03    0.0067647290\n",
       "7           4.071197e-05          5.674704e-05    2.731217e-01    0.0492237321\n",
       "8           1.179991e-07          1.486453e-07    3.204867e-03    0.0195748211\n",
       "9           5.085045e-06          1.285425e-05    2.282700e-02    0.0252758880\n",
       "10          3.613647e-06          6.135489e-05    8.127680e-02    0.0470277921\n",
       "11          4.062853e-05          1.187297e-04    1.175298e-01    0.0404595477\n",
       "12          7.789974e-07          1.342785e-05    1.157611e-02    0.0079923007\n",
       "13          2.299009e-07          5.436529e-06    8.633953e-05    0.0019970903\n",
       "14          4.755786e-04          1.388488e-04    3.729692e-01    0.0727934830\n",
       "15          1.995601e-04          8.386405e-04    2.479143e-03    0.0022184058\n",
       "16          5.686107e-03          1.177962e-02    1.885554e-03    0.0005503578\n",
       "17          7.065306e-04          2.218734e-03    2.365317e-03    0.0017968352\n",
       "18          8.520037e-04          1.808058e-02    1.857765e-04    0.0030401994\n",
       "19          2.435382e-04          9.747360e-03    3.032385e-02    0.0063909261\n",
       "20          3.992087e-02          1.034326e-01    7.491079e-03    0.0058621626\n",
       "21          2.543235e-01          8.451785e-01    6.961389e-02    0.0096881880\n",
       "22          6.974845e-01          8.294486e-03    9.694783e-05    0.0018351941\n",
       "   Presion_filtro_bolsa\n",
       "1          0.0004254202\n",
       "2          0.0107783669\n",
       "3          0.0020980343\n",
       "4          0.0220034086\n",
       "5          0.0039879297\n",
       "6          0.6386330608\n",
       "7          0.0701374032\n",
       "8          0.0284787806\n",
       "9          0.0202210498\n",
       "10         0.0004452389\n",
       "11         0.0115385697\n",
       "12         0.0004618663\n",
       "13         0.0029882328\n",
       "14         0.0212605069\n",
       "15         0.0001272407\n",
       "16         0.0411057002\n",
       "17         0.0144024431\n",
       "18         0.0827542042\n",
       "19         0.0081883062\n",
       "20         0.0085967166\n",
       "21         0.0040218506\n",
       "22         0.0073456694"
      ]
     },
     "metadata": {},
     "output_type": "display_data"
    }
   ],
   "source": [
    "ols_coll_diag(LRN)"
   ]
  },
  {
   "cell_type": "code",
   "execution_count": 56,
   "metadata": {},
   "outputs": [
    {
     "data": {
      "image/png": "[encoded data removed]",
      "text/plain": [
       "plot without title"
      ]
     },
     "metadata": {},
     "output_type": "display_data"
    }
   ],
   "source": [
    "ols_plot_obs_fit(LRN)"
   ]
  },
  {
   "cell_type": "code",
   "execution_count": 89,
   "metadata": {},
   "outputs": [],
   "source": [
    "yLRN_predict <- predict(LRN, XLRN_test, interval=\"predict\", level = 0.95)\n",
    "yLRN_pr <- yLRN_predict[,1]"
   ]
  },
  {
   "cell_type": "code",
   "execution_count": 90,
   "metadata": {},
   "outputs": [
    {
     "data": {
      "text/html": [
       "<dl class=dl-horizontal>\n",
       "\t<dt>1</dt>\n",
       "\t\t<dd>12.6035589958864</dd>\n",
       "\t<dt>2</dt>\n",
       "\t\t<dd>12.0039731372481</dd>\n",
       "\t<dt>3</dt>\n",
       "\t\t<dd>12.1406887556083</dd>\n",
       "\t<dt>4</dt>\n",
       "\t\t<dd>12.5278145891217</dd>\n",
       "\t<dt>5</dt>\n",
       "\t\t<dd>12.6255328017777</dd>\n",
       "\t<dt>6</dt>\n",
       "\t\t<dd>12.4589804043443</dd>\n",
       "</dl>\n"
      ],
      "text/latex": [
       "\\begin{description*}\n",
       "\\item[1] 12.6035589958864\n",
       "\\item[2] 12.0039731372481\n",
       "\\item[3] 12.1406887556083\n",
       "\\item[4] 12.5278145891217\n",
       "\\item[5] 12.6255328017777\n",
       "\\item[6] 12.4589804043443\n",
       "\\end{description*}\n"
      ],
      "text/markdown": [
       "1\n",
       ":   12.60355899588642\n",
       ":   12.00397313724813\n",
       ":   12.14068875560834\n",
       ":   12.52781458912175\n",
       ":   12.62553280177776\n",
       ":   12.4589804043443\n",
       "\n"
      ],
      "text/plain": [
       "       1        2        3        4        5        6 \n",
       "12.60356 12.00397 12.14069 12.52781 12.62553 12.45898 "
      ]
     },
     "metadata": {},
     "output_type": "display_data"
    }
   ],
   "source": [
    "#Regresando las predicciones al rango de operación\n",
    "yLRN_pr <- (yLRN_pr*(max(test_data2LR['Humedad']) - min(test_data2LR['Humedad']))) + min(test_data2LR['Humedad'])\n",
    "head(yLRN_pr)"
   ]
  },
  {
   "cell_type": "code",
   "execution_count": 92,
   "metadata": {},
   "outputs": [
    {
     "data": {
      "text/html": [
       "4.5253510691332"
      ],
      "text/latex": [
       "4.5253510691332"
      ],
      "text/markdown": [
       "4.5253510691332"
      ],
      "text/plain": [
       "[1] 4.525351"
      ]
     },
     "metadata": {},
     "output_type": "display_data"
    }
   ],
   "source": [
    "MSE(test_data2LR$Humedad,yLRN_pr)"
   ]
  },
  {
   "cell_type": "code",
   "execution_count": 93,
   "metadata": {},
   "outputs": [
    {
     "data": {
      "text/html": [
       "81.8537214201065"
      ],
      "text/latex": [
       "81.8537214201065"
      ],
      "text/markdown": [
       "81.8537214201065"
      ],
      "text/plain": [
       "[1] 81.85372"
      ]
     },
     "metadata": {},
     "output_type": "display_data"
    }
   ],
   "source": [
    "(1 - MAPE(yLRN_pr, test_data2LR$Humedad))*100"
   ]
  },
  {
   "cell_type": "markdown",
   "metadata": {},
   "source": [
    "### MLR con datos normalizados con eliminación de caracteristícas mediante metodo 'Stepwise Regression'."
   ]
  },
  {
   "cell_type": "code",
   "execution_count": 94,
   "metadata": {},
   "outputs": [
    {
     "data": {
      "text/plain": [
       "\n",
       "                                      Stepwise Selection Summary                                       \n",
       "------------------------------------------------------------------------------------------------------\n",
       "                                   Added/                   Adj.                                          \n",
       "Step           Variable           Removed     R-Square    R-Square      C(p)         AIC         RMSE     \n",
       "------------------------------------------------------------------------------------------------------\n",
       "   1    Motor_rastra_descarga     addition       0.096       0.096    294.9920    -3416.3174    0.1313    \n",
       "   2       Molino_salida_1        addition       0.127       0.126    191.5680    -3511.4753    0.1291    \n",
       "   3    Motor_soplador_reciclo    addition       0.138       0.137    153.9490    -3546.8783    0.1282    \n",
       "   4          Damper_atm          addition       0.146       0.145    128.7790    -3570.8207    0.1276    \n",
       "   5        Motor_Secador         addition       0.154       0.153    103.1460    -3595.4549    0.1271    \n",
       "   6       Damper_scrubber        addition       0.159       0.157     88.6610    -3609.4648    0.1267    \n",
       "   7    Motor_gusano_descarga     addition       0.164       0.162     75.3470    -3622.4209    0.1264    \n",
       "   8     Presion_filtro_bolsa     addition       0.169       0.166     60.7740    -3636.6963    0.1261    \n",
       "   9         Nivel_RVF_1          addition       0.170       0.168     56.6180    -3640.7669    0.1259    \n",
       "  10              TS              addition       0.172       0.169     52.5760    -3644.7373    0.1258    \n",
       "  11              TE              addition       0.180       0.177     26.3660    -3670.7824    0.1252    \n",
       "  12        Triturador_2_A        addition       0.183       0.180     18.2430    -3678.9146    0.1250    \n",
       "  13            Draft             addition       0.185       0.181     13.9070    -3683.2761    0.1249    \n",
       "  14         Nivel_RVF_4          addition       0.186       0.182     11.5400    -3685.6685    0.1248    \n",
       "------------------------------------------------------------------------------------------------------"
      ]
     },
     "metadata": {},
     "output_type": "display_data"
    }
   ],
   "source": [
    "# stepwise regression\n",
    "LRSR <- lm(Humedad ~ ., data = train_dataLRN)\n",
    "ols_step_both_p(LRSR)"
   ]
  },
  {
   "cell_type": "code",
   "execution_count": 96,
   "metadata": {
    "scrolled": false
   },
   "outputs": [
    {
     "data": {
      "text/plain": [
       "[[1]]\n",
       "NULL\n",
       "\n",
       "[[2]]\n",
       "NULL\n"
      ]
     },
     "metadata": {},
     "output_type": "display_data"
    },
    {
     "data": {
      "image/png": "[encoded data removed]",
      "text/plain": [
       "plot without title"
      ]
     },
     "metadata": {},
     "output_type": "display_data"
    },
    {
     "data": {
      "image/png": "[encoded data removed]",
      "text/plain": [
       "plot without title"
      ]
     },
     "metadata": {},
     "output_type": "display_data"
    }
   ],
   "source": [
    "plot(ols_step_both_p(LRSR))"
   ]
  },
  {
   "cell_type": "code",
   "execution_count": 97,
   "metadata": {},
   "outputs": [
    {
     "data": {
      "text/plain": [
       "                        Model Summary                          \n",
       "--------------------------------------------------------------\n",
       "R                       0.432       RMSE                0.125 \n",
       "R-Squared               0.186       Coef. Var          22.642 \n",
       "Adj. R-Squared          0.182       MSE                 0.016 \n",
       "Pred R-Squared          0.176       MAE                 0.097 \n",
       "--------------------------------------------------------------\n",
       " RMSE: Root Mean Square Error \n",
       " MSE: Mean Square Error \n",
       " MAE: Mean Absolute Error \n",
       "\n",
       "                                ANOVA                                 \n",
       "---------------------------------------------------------------------\n",
       "               Sum of                                                \n",
       "              Squares          DF    Mean Square      F         Sig. \n",
       "---------------------------------------------------------------------\n",
       "Regression      9.937          14          0.710    45.555    0.0000 \n",
       "Residual       43.348        2782          0.016                     \n",
       "Total          53.286        2796                                    \n",
       "---------------------------------------------------------------------\n",
       "\n",
       "                                        Parameter Estimates                                         \n",
       "---------------------------------------------------------------------------------------------------\n",
       "                 model      Beta    Std. Error    Std. Beta      t        Sig      lower     upper \n",
       "---------------------------------------------------------------------------------------------------\n",
       "           (Intercept)    -0.001         0.077                 -0.015    0.988    -0.153     0.151 \n",
       " Motor_rastra_descarga     1.116         0.078        0.299    14.253    0.000     0.962     1.269 \n",
       "       Molino_salida_1     0.180         0.023        0.153     7.941    0.000     0.136     0.225 \n",
       "Motor_soplador_reciclo    -0.207         0.045       -0.086    -4.590    0.000    -0.296    -0.119 \n",
       "            Damper_atm     0.409         0.113        0.069     3.614    0.000     0.187     0.630 \n",
       "         Motor_Secador     0.335         0.049        0.145     6.892    0.000     0.240     0.430 \n",
       "       Damper_scrubber    -0.030         0.011       -0.048    -2.686    0.007    -0.051    -0.008 \n",
       " Motor_gusano_descarga    -0.294         0.078       -0.078    -3.756    0.000    -0.448    -0.141 \n",
       "  Presion_filtro_bolsa    -0.073         0.015       -0.102    -4.744    0.000    -0.103    -0.043 \n",
       "           Nivel_RVF_1     0.039         0.015        0.045     2.596    0.009     0.010     0.069 \n",
       "                    TS    -0.244         0.038       -0.201    -6.479    0.000    -0.318    -0.170 \n",
       "                    TE     0.189         0.032        0.161     5.851    0.000     0.126     0.253 \n",
       "        Triturador_2_A    -0.060         0.021       -0.059    -2.870    0.004    -0.100    -0.019 \n",
       "                 Draft     0.045         0.017        0.049     2.649    0.008     0.012     0.078 \n",
       "           Nivel_RVF_4    -0.027         0.013       -0.036    -2.091    0.037    -0.052    -0.002 \n",
       "---------------------------------------------------------------------------------------------------"
      ]
     },
     "metadata": {},
     "output_type": "display_data"
    }
   ],
   "source": [
    "LRSR2 <- lm(Humedad ~ Motor_rastra_descarga + Molino_salida_1 + Motor_soplador_reciclo + Damper_atm + Motor_Secador + Damper_scrubber + Motor_gusano_descarga + Presion_filtro_bolsa + Nivel_RVF_1 + TS + TE + Triturador_2_A + Draft + Nivel_RVF_4, data = train_dataLRN)\n",
    "ols_regress(LRSR2)"
   ]
  },
  {
   "cell_type": "code",
   "execution_count": 98,
   "metadata": {},
   "outputs": [],
   "source": [
    "yLRNSR_predict <- predict(LRSR2, XLRN_test, interval=\"predict\", level = 0.95)\n",
    "yLRNSR_pr <- yLRNSR_predict[,1]"
   ]
  },
  {
   "cell_type": "code",
   "execution_count": 99,
   "metadata": {},
   "outputs": [
    {
     "data": {
      "text/html": [
       "<dl class=dl-horizontal>\n",
       "\t<dt>1</dt>\n",
       "\t\t<dd>12.6312158346444</dd>\n",
       "\t<dt>2</dt>\n",
       "\t\t<dd>12.0078044581775</dd>\n",
       "\t<dt>3</dt>\n",
       "\t\t<dd>12.1598193956163</dd>\n",
       "\t<dt>4</dt>\n",
       "\t\t<dd>12.5317423250159</dd>\n",
       "\t<dt>5</dt>\n",
       "\t\t<dd>12.6519642333475</dd>\n",
       "\t<dt>6</dt>\n",
       "\t\t<dd>12.4836297150101</dd>\n",
       "</dl>\n"
      ],
      "text/latex": [
       "\\begin{description*}\n",
       "\\item[1] 12.6312158346444\n",
       "\\item[2] 12.0078044581775\n",
       "\\item[3] 12.1598193956163\n",
       "\\item[4] 12.5317423250159\n",
       "\\item[5] 12.6519642333475\n",
       "\\item[6] 12.4836297150101\n",
       "\\end{description*}\n"
      ],
      "text/markdown": [
       "1\n",
       ":   12.63121583464442\n",
       ":   12.00780445817753\n",
       ":   12.15981939561634\n",
       ":   12.53174232501595\n",
       ":   12.65196423334756\n",
       ":   12.4836297150101\n",
       "\n"
      ],
      "text/plain": [
       "       1        2        3        4        5        6 \n",
       "12.63122 12.00780 12.15982 12.53174 12.65196 12.48363 "
      ]
     },
     "metadata": {},
     "output_type": "display_data"
    }
   ],
   "source": [
    "#Regresando las predicciones al rango de operación\n",
    "yLRNSR_pr <- (yLRNSR_pr*(max(test_data2LR['Humedad']) - min(test_data2LR['Humedad']))) + min(test_data2LR['Humedad'])\n",
    "head(yLRNSR_pr)"
   ]
  },
  {
   "cell_type": "code",
   "execution_count": 100,
   "metadata": {},
   "outputs": [
    {
     "data": {
      "text/html": [
       "4.52961958995937"
      ],
      "text/latex": [
       "4.52961958995937"
      ],
      "text/markdown": [
       "4.52961958995937"
      ],
      "text/plain": [
       "[1] 4.52962"
      ]
     },
     "metadata": {},
     "output_type": "display_data"
    }
   ],
   "source": [
    "MSE(test_data2LR$Humedad,yLRNSR_pr)"
   ]
  },
  {
   "cell_type": "code",
   "execution_count": 102,
   "metadata": {},
   "outputs": [
    {
     "data": {
      "text/html": [
       "81.8181369566187"
      ],
      "text/latex": [
       "81.8181369566187"
      ],
      "text/markdown": [
       "81.8181369566187"
      ],
      "text/plain": [
       "[1] 81.81814"
      ]
     },
     "metadata": {},
     "output_type": "display_data"
    }
   ],
   "source": [
    "(1 - MAPE(yLRNSR_pr, test_data2LR$Humedad))*100"
   ]
  },
  {
   "cell_type": "markdown",
   "metadata": {},
   "source": [
    "### MLR con datos normalizados con eliminación de caracteristícas mediante metodo 'Stepwise AIC Backward Regression'."
   ]
  },
  {
   "cell_type": "code",
   "execution_count": 103,
   "metadata": {},
   "outputs": [
    {
     "data": {
      "text/plain": [
       "\n",
       "\n",
       "                       Backward Elimination Summary                       \n",
       "------------------------------------------------------------------------\n",
       "Variable              AIC        RSS      Sum Sq     R-Sq      Adj. R-Sq \n",
       "------------------------------------------------------------------------\n",
       "Full Model         -3675.234    43.293     9.993    0.18753      0.18138 \n",
       "Triturador_1_A     -3677.218    43.293     9.992    0.18753      0.18167 \n",
       "Nivel_RVF_5        -3679.188    43.294     9.992    0.18752      0.18196 \n",
       "Nivel_RVF_2        -3681.111    43.295     9.991    0.18750      0.18223 \n",
       "Nivel_RVF_6        -3682.844    43.299     9.987    0.18742      0.18245 \n",
       "Molino_salida_2    -3684.003    43.312     9.974    0.18717      0.18250 \n",
       "Nivel_RVF_3        -3684.940    43.328     9.957    0.18686      0.18248 \n",
       "Damper_Reciclo     -3685.669    43.348     9.937    0.18649      0.18240 \n",
       "------------------------------------------------------------------------\n"
      ]
     },
     "metadata": {},
     "output_type": "display_data"
    }
   ],
   "source": [
    "# stepwise aic backward regression\n",
    "LRSABR <- lm(Humedad ~ ., data = train_dataLRN)\n",
    "ols_step_backward_aic(LRSABR)"
   ]
  },
  {
   "cell_type": "code",
   "execution_count": 104,
   "metadata": {},
   "outputs": [
    {
     "data": {
      "image/png": "[encoded data removed]",
      "text/plain": [
       "plot without title"
      ]
     },
     "metadata": {},
     "output_type": "display_data"
    }
   ],
   "source": [
    "plot(ols_step_backward_aic(LRSABR))"
   ]
  },
  {
   "cell_type": "markdown",
   "metadata": {},
   "source": [
    "Este grafico confirma las variables seleccionadas en el metodo \"Stepwise Regression\""
   ]
  },
  {
   "cell_type": "markdown",
   "metadata": {},
   "source": [
    "### MLR con datos normalizados con características de operación de secado."
   ]
  },
  {
   "cell_type": "markdown",
   "metadata": {},
   "source": [
    "Con base en la experiencía de operación del secador se seleccionan aquellas variables involucradas directamente con el equipo, las cuales son:\n",
    "\n",
    "- TE\n",
    "- TS\n",
    "- Draft\n",
    "- Motor_Secador\n",
    "- Damper_Reciclo"
   ]
  },
  {
   "cell_type": "code",
   "execution_count": 109,
   "metadata": {},
   "outputs": [
    {
     "data": {
      "text/plain": [
       "                        Model Summary                          \n",
       "--------------------------------------------------------------\n",
       "R                       0.254       RMSE                0.134 \n",
       "R-Squared               0.065       Coef. Var          24.239 \n",
       "Adj. R-Squared          0.063       MSE                 0.018 \n",
       "Pred R-Squared          0.059       MAE                 0.104 \n",
       "--------------------------------------------------------------\n",
       " RMSE: Root Mean Square Error \n",
       " MSE: Mean Square Error \n",
       " MAE: Mean Absolute Error \n",
       "\n",
       "                                ANOVA                                 \n",
       "---------------------------------------------------------------------\n",
       "               Sum of                                                \n",
       "              Squares          DF    Mean Square      F         Sig. \n",
       "---------------------------------------------------------------------\n",
       "Regression      3.444           5          0.689     38.57    0.0000 \n",
       "Residual       49.842        2791          0.018                     \n",
       "Total          53.286        2796                                    \n",
       "---------------------------------------------------------------------\n",
       "\n",
       "                                    Parameter Estimates                                     \n",
       "-------------------------------------------------------------------------------------------\n",
       "         model      Beta    Std. Error    Std. Beta      t        Sig      lower     upper \n",
       "-------------------------------------------------------------------------------------------\n",
       "   (Intercept)     0.295         0.032                  9.283    0.000     0.233     0.358 \n",
       "            TE     0.234         0.032        0.199     7.400    0.000     0.172     0.296 \n",
       "            TS    -0.309         0.033       -0.254    -9.239    0.000    -0.375    -0.244 \n",
       "         Draft     0.021         0.017        0.023     1.212    0.226    -0.013     0.054 \n",
       " Motor_Secador     0.511         0.047        0.221    10.887    0.000     0.419     0.603 \n",
       "Damper_Reciclo    -0.015         0.016       -0.017    -0.923    0.356    -0.046     0.017 \n",
       "-------------------------------------------------------------------------------------------"
      ]
     },
     "metadata": {},
     "output_type": "display_data"
    }
   ],
   "source": [
    "# Datos operacionales\n",
    "LROP <- lm(Humedad ~ TE + TS + Draft + Motor_Secador + Damper_Reciclo, data = train_dataLRN)\n",
    "ols_regress(LROP)"
   ]
  },
  {
   "cell_type": "code",
   "execution_count": 110,
   "metadata": {},
   "outputs": [],
   "source": [
    "yLROP_predict <- predict(LROP, XLRN_test, interval=\"predict\", level = 0.95)\n",
    "yLROP_pr <- yLROP_predict[,1]"
   ]
  },
  {
   "cell_type": "code",
   "execution_count": 111,
   "metadata": {},
   "outputs": [
    {
     "data": {
      "text/html": [
       "<dl class=dl-horizontal>\n",
       "\t<dt>1</dt>\n",
       "\t\t<dd>11.0359685366718</dd>\n",
       "\t<dt>2</dt>\n",
       "\t\t<dd>10.9209908466469</dd>\n",
       "\t<dt>3</dt>\n",
       "\t\t<dd>10.9578086206583</dd>\n",
       "\t<dt>4</dt>\n",
       "\t\t<dd>10.8785917764704</dd>\n",
       "\t<dt>5</dt>\n",
       "\t\t<dd>11.3382574213069</dd>\n",
       "\t<dt>6</dt>\n",
       "\t\t<dd>10.9076750353011</dd>\n",
       "</dl>\n"
      ],
      "text/latex": [
       "\\begin{description*}\n",
       "\\item[1] 11.0359685366718\n",
       "\\item[2] 10.9209908466469\n",
       "\\item[3] 10.9578086206583\n",
       "\\item[4] 10.8785917764704\n",
       "\\item[5] 11.3382574213069\n",
       "\\item[6] 10.9076750353011\n",
       "\\end{description*}\n"
      ],
      "text/markdown": [
       "1\n",
       ":   11.03596853667182\n",
       ":   10.92099084664693\n",
       ":   10.95780862065834\n",
       ":   10.87859177647045\n",
       ":   11.33825742130696\n",
       ":   10.9076750353011\n",
       "\n"
      ],
      "text/plain": [
       "       1        2        3        4        5        6 \n",
       "11.03597 10.92099 10.95781 10.87859 11.33826 10.90768 "
      ]
     },
     "metadata": {},
     "output_type": "display_data"
    }
   ],
   "source": [
    "#Regresando las predicciones al rango de operación\n",
    "yLROP_pr <- (yLROP_pr*(max(test_data2LR['Humedad']) - min(test_data2LR['Humedad']))) + min(test_data2LR['Humedad'])\n",
    "head(yLROP_pr)"
   ]
  },
  {
   "cell_type": "code",
   "execution_count": 112,
   "metadata": {},
   "outputs": [
    {
     "data": {
      "text/html": [
       "2.86671309282135"
      ],
      "text/latex": [
       "2.86671309282135"
      ],
      "text/markdown": [
       "2.86671309282135"
      ],
      "text/plain": [
       "[1] 2.866713"
      ]
     },
     "metadata": {},
     "output_type": "display_data"
    }
   ],
   "source": [
    "MSE(test_data2LR$Humedad,yLROP_pr)"
   ]
  },
  {
   "cell_type": "code",
   "execution_count": 114,
   "metadata": {
    "scrolled": true
   },
   "outputs": [
    {
     "data": {
      "text/html": [
       "85.9980281083069"
      ],
      "text/latex": [
       "85.9980281083069"
      ],
      "text/markdown": [
       "85.9980281083069"
      ],
      "text/plain": [
       "[1] 85.99803"
      ]
     },
     "metadata": {},
     "output_type": "display_data"
    }
   ],
   "source": [
    "(1 - MAPE(yLROP_pr, test_data2LR$Humedad))*100"
   ]
  }
 ],
 "metadata": {
  "kernelspec": {
   "display_name": "R",
   "language": "R",
   "name": "ir"
  },
  "language_info": {
   "codemirror_mode": "r",
   "file_extension": ".r",
   "mimetype": "text/x-r-source",
   "name": "R",
   "pygments_lexer": "r",
   "version": "3.6.1"
  }
 },
 "nbformat": 4,
 "nbformat_minor": 5
}
