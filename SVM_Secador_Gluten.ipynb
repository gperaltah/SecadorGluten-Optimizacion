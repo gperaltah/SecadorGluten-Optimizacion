{
 "cells": [
  {
   "cell_type": "markdown",
   "id": "angry-messenger",
   "metadata": {
    "id": "angry-messenger"
   },
   "source": [
    "# Implementación de algoritmo de regresión con bosques aleatorios (random forest regression) para predicción de la humedad de un secador de Maíz.\n",
    "\n",
    "Equipo👥:\n",
    "* Adrian Garay\n",
    "* Oscar Nava\n",
    "* Gonzalo Peralta\n",
    "* Miguel Solis\n",
    "\n",
    "Profesor🎓:\n",
    "* Dr. Juan Diego Sánchez Torres\n",
    "---\n"
   ]
  },
  {
   "cell_type": "markdown",
   "id": "popular-cleaning",
   "metadata": {
    "id": "popular-cleaning"
   },
   "source": [
    "## <font color= blue> 1. Preparación de la base de datos.</font>"
   ]
  },
  {
   "cell_type": "markdown",
   "id": "theoretical-shadow",
   "metadata": {
    "id": "theoretical-shadow"
   },
   "source": [
    "Realizamos el mismo tratamiento a la base de datos que en los modelos de regresión lineal, es decir, eliminando las características seleccionadas en el análisis operativo, cambiando las variables categoricas o de estado a valores numericos y eliminando los outliers encontrados en la regresión lineal."
   ]
  },
  {
   "cell_type": "markdown",
   "id": "protective-interim",
   "metadata": {
    "id": "protective-interim"
   },
   "source": [
    "Primero importamos la librerias a utilizar:"
   ]
  },
  {
   "cell_type": "code",
   "execution_count": 2,
   "id": "surrounded-helping",
   "metadata": {
    "id": "surrounded-helping"
   },
   "outputs": [],
   "source": [
    "#Importar librerias\n",
    "import numpy as np\n",
    "import pandas as pd\n",
    "import matplotlib.pyplot as plt\n",
    "from sklearn.model_selection import train_test_split\n",
    "from sklearn.metrics import mean_squared_error\n",
    "from sklearn import svm\n"
   ]
  },
  {
   "cell_type": "markdown",
   "id": "rental-newspaper",
   "metadata": {
    "id": "rental-newspaper"
   },
   "source": [
    "Se carga la base de datos y se obtiene información de la misma:"
   ]
  },
  {
   "cell_type": "code",
   "execution_count": 4,
   "id": "central-birmingham",
   "metadata": {
    "id": "central-birmingham",
    "outputId": "1bb68985-9b6a-4289-bcb0-43ec81ff49e2"
   },
   "outputs": [
    {
     "name": "stdout",
     "output_type": "stream",
     "text": [
      "<class 'pandas.core.frame.DataFrame'>\n",
      "RangeIndex: 3416 entries, 0 to 3415\n",
      "Data columns (total 36 columns):\n",
      " #   Column                  Non-Null Count  Dtype         \n",
      "---  ------                  --------------  -----         \n",
      " 0   Timestamp               3416 non-null   datetime64[ns]\n",
      " 1   Humedad                 3416 non-null   float64       \n",
      " 2   Nivel_RVF_1             3416 non-null   float64       \n",
      " 3   RPM_RVF_1               1133 non-null   float64       \n",
      " 4   Nivel_RVF_2             3416 non-null   float64       \n",
      " 5   RPM_RVF_2               1133 non-null   float64       \n",
      " 6   Nivel_RVF_3             3416 non-null   float64       \n",
      " 7   RPM_RVF_3               1133 non-null   float64       \n",
      " 8   Nivel_RVF_4             3416 non-null   float64       \n",
      " 9   RPM_RVF_4               1133 non-null   float64       \n",
      " 10  Nivel_RVF_5             3416 non-null   float64       \n",
      " 11  RPM_RVF_5               1133 non-null   float64       \n",
      " 12  Nivel_RVF_6             3416 non-null   float64       \n",
      " 13  RPM_RVF_6               1133 non-null   float64       \n",
      " 14  Triturador_1            3416 non-null   object        \n",
      " 15  Triturador_2            3416 non-null   object        \n",
      " 16  Triturador_1_A          3416 non-null   float64       \n",
      " 17  Triturador_2_A          3416 non-null   float64       \n",
      " 18  Triturador_1_Bypass     3416 non-null   object        \n",
      " 19  Triturador_2_Bypass     3416 non-null   object        \n",
      " 20  TE                      3416 non-null   float64       \n",
      " 21  TS                      3416 non-null   float64       \n",
      " 22  Draft                   3416 non-null   float64       \n",
      " 23  Flujo_gas               3416 non-null   float64       \n",
      " 24  Flujo_aire              617 non-null    float64       \n",
      " 25  Damper_Reciclo          3416 non-null   float64       \n",
      " 26  Damper_atm              3416 non-null   float64       \n",
      " 27  Damper_scrubber         3416 non-null   int64         \n",
      " 28  Motor_Secador           3416 non-null   float64       \n",
      " 29  Motor_ventilador_humos  617 non-null    float64       \n",
      " 30  Motor_soplador_reciclo  3416 non-null   float64       \n",
      " 31  Motor_gusano_descarga   3416 non-null   float64       \n",
      " 32  Motor_rastra_descarga   3416 non-null   float64       \n",
      " 33  Molino_salida_1         3416 non-null   float64       \n",
      " 34  Molino_salida_2         3416 non-null   float64       \n",
      " 35  Presion_filtro_bolsa    3416 non-null   float64       \n",
      "dtypes: datetime64[ns](1), float64(30), int64(1), object(4)\n",
      "memory usage: 960.9+ KB\n"
     ]
    }
   ],
   "source": [
    "#Mandar llamar datos\n",
    "ruta = \"/Users/agaray/Google Drive/1.Maestría/5.TOG/1.IDI III/\"\n",
    "#ruta = \"/Users/adrian.garay/Downloads/\"\n",
    "data = pd.read_excel(ruta + \"Dataset_Secador_gluten_Rev1.xlsx\",  sheet_name='Dataset') #index_col = 'Timestamp')\n",
    "data.info()"
   ]
  },
  {
   "cell_type": "code",
   "execution_count": 5,
   "id": "fatal-peripheral",
   "metadata": {
    "id": "fatal-peripheral",
    "outputId": "d3396326-ff81-48c6-dc3e-4dae6d49c20a"
   },
   "outputs": [
    {
     "data": {
      "text/html": [
       "<div>\n",
       "<style scoped>\n",
       "    .dataframe tbody tr th:only-of-type {\n",
       "        vertical-align: middle;\n",
       "    }\n",
       "\n",
       "    .dataframe tbody tr th {\n",
       "        vertical-align: top;\n",
       "    }\n",
       "\n",
       "    .dataframe thead th {\n",
       "        text-align: right;\n",
       "    }\n",
       "</style>\n",
       "<table border=\"1\" class=\"dataframe\">\n",
       "  <thead>\n",
       "    <tr style=\"text-align: right;\">\n",
       "      <th></th>\n",
       "      <th>Timestamp</th>\n",
       "      <th>Humedad</th>\n",
       "      <th>Nivel_RVF_1</th>\n",
       "      <th>RPM_RVF_1</th>\n",
       "      <th>Nivel_RVF_2</th>\n",
       "      <th>RPM_RVF_2</th>\n",
       "      <th>Nivel_RVF_3</th>\n",
       "      <th>RPM_RVF_3</th>\n",
       "      <th>Nivel_RVF_4</th>\n",
       "      <th>RPM_RVF_4</th>\n",
       "      <th>...</th>\n",
       "      <th>Damper_atm</th>\n",
       "      <th>Damper_scrubber</th>\n",
       "      <th>Motor_Secador</th>\n",
       "      <th>Motor_ventilador_humos</th>\n",
       "      <th>Motor_soplador_reciclo</th>\n",
       "      <th>Motor_gusano_descarga</th>\n",
       "      <th>Motor_rastra_descarga</th>\n",
       "      <th>Molino_salida_1</th>\n",
       "      <th>Molino_salida_2</th>\n",
       "      <th>Presion_filtro_bolsa</th>\n",
       "    </tr>\n",
       "  </thead>\n",
       "  <tbody>\n",
       "    <tr>\n",
       "      <th>0</th>\n",
       "      <td>2021-08-30 18:00:00</td>\n",
       "      <td>11.73</td>\n",
       "      <td>80.050659</td>\n",
       "      <td>605.364197</td>\n",
       "      <td>80.820549</td>\n",
       "      <td>1095.614136</td>\n",
       "      <td>79.571754</td>\n",
       "      <td>1103.628052</td>\n",
       "      <td>82.641441</td>\n",
       "      <td>1104.338379</td>\n",
       "      <td>...</td>\n",
       "      <td>0.0</td>\n",
       "      <td>100</td>\n",
       "      <td>16.591389</td>\n",
       "      <td>115.558098</td>\n",
       "      <td>23.957436</td>\n",
       "      <td>2.923200</td>\n",
       "      <td>3.284385</td>\n",
       "      <td>78.458809</td>\n",
       "      <td>0.355693</td>\n",
       "      <td>1.652562</td>\n",
       "    </tr>\n",
       "    <tr>\n",
       "      <th>1</th>\n",
       "      <td>2021-08-30 16:00:00</td>\n",
       "      <td>11.92</td>\n",
       "      <td>79.908173</td>\n",
       "      <td>604.416504</td>\n",
       "      <td>80.360100</td>\n",
       "      <td>1095.500122</td>\n",
       "      <td>80.362831</td>\n",
       "      <td>1103.250244</td>\n",
       "      <td>81.118835</td>\n",
       "      <td>1105.887573</td>\n",
       "      <td>...</td>\n",
       "      <td>0.0</td>\n",
       "      <td>100</td>\n",
       "      <td>16.063402</td>\n",
       "      <td>116.945450</td>\n",
       "      <td>23.388823</td>\n",
       "      <td>2.839568</td>\n",
       "      <td>3.146695</td>\n",
       "      <td>61.052021</td>\n",
       "      <td>0.353825</td>\n",
       "      <td>1.613900</td>\n",
       "    </tr>\n",
       "    <tr>\n",
       "      <th>2</th>\n",
       "      <td>2021-08-30 14:00:00</td>\n",
       "      <td>11.34</td>\n",
       "      <td>79.820709</td>\n",
       "      <td>605.360840</td>\n",
       "      <td>79.486443</td>\n",
       "      <td>1094.885498</td>\n",
       "      <td>79.600456</td>\n",
       "      <td>1102.720581</td>\n",
       "      <td>81.208038</td>\n",
       "      <td>1104.568359</td>\n",
       "      <td>...</td>\n",
       "      <td>0.0</td>\n",
       "      <td>100</td>\n",
       "      <td>16.465736</td>\n",
       "      <td>118.435463</td>\n",
       "      <td>23.524975</td>\n",
       "      <td>2.846484</td>\n",
       "      <td>3.305407</td>\n",
       "      <td>56.834660</td>\n",
       "      <td>0.351780</td>\n",
       "      <td>1.783668</td>\n",
       "    </tr>\n",
       "    <tr>\n",
       "      <th>3</th>\n",
       "      <td>2021-08-30 12:00:00</td>\n",
       "      <td>12.44</td>\n",
       "      <td>81.118042</td>\n",
       "      <td>605.027405</td>\n",
       "      <td>79.318466</td>\n",
       "      <td>1095.123413</td>\n",
       "      <td>80.230881</td>\n",
       "      <td>1103.237427</td>\n",
       "      <td>78.008667</td>\n",
       "      <td>1104.330566</td>\n",
       "      <td>...</td>\n",
       "      <td>0.0</td>\n",
       "      <td>100</td>\n",
       "      <td>15.525600</td>\n",
       "      <td>114.675354</td>\n",
       "      <td>23.901539</td>\n",
       "      <td>2.823379</td>\n",
       "      <td>3.183444</td>\n",
       "      <td>58.261257</td>\n",
       "      <td>0.349322</td>\n",
       "      <td>1.665779</td>\n",
       "    </tr>\n",
       "    <tr>\n",
       "      <th>4</th>\n",
       "      <td>2021-08-30 10:00:00</td>\n",
       "      <td>10.61</td>\n",
       "      <td>80.179375</td>\n",
       "      <td>603.886353</td>\n",
       "      <td>80.531776</td>\n",
       "      <td>1095.653687</td>\n",
       "      <td>79.327095</td>\n",
       "      <td>1103.027710</td>\n",
       "      <td>78.008530</td>\n",
       "      <td>1106.229614</td>\n",
       "      <td>...</td>\n",
       "      <td>0.0</td>\n",
       "      <td>100</td>\n",
       "      <td>15.887411</td>\n",
       "      <td>116.380211</td>\n",
       "      <td>23.936207</td>\n",
       "      <td>2.861648</td>\n",
       "      <td>3.148321</td>\n",
       "      <td>64.321579</td>\n",
       "      <td>0.346864</td>\n",
       "      <td>1.947744</td>\n",
       "    </tr>\n",
       "  </tbody>\n",
       "</table>\n",
       "<p>5 rows × 36 columns</p>\n",
       "</div>"
      ],
      "text/plain": [
       "            Timestamp  Humedad  Nivel_RVF_1   RPM_RVF_1  Nivel_RVF_2  \\\n",
       "0 2021-08-30 18:00:00    11.73    80.050659  605.364197    80.820549   \n",
       "1 2021-08-30 16:00:00    11.92    79.908173  604.416504    80.360100   \n",
       "2 2021-08-30 14:00:00    11.34    79.820709  605.360840    79.486443   \n",
       "3 2021-08-30 12:00:00    12.44    81.118042  605.027405    79.318466   \n",
       "4 2021-08-30 10:00:00    10.61    80.179375  603.886353    80.531776   \n",
       "\n",
       "     RPM_RVF_2  Nivel_RVF_3    RPM_RVF_3  Nivel_RVF_4    RPM_RVF_4  ...  \\\n",
       "0  1095.614136    79.571754  1103.628052    82.641441  1104.338379  ...   \n",
       "1  1095.500122    80.362831  1103.250244    81.118835  1105.887573  ...   \n",
       "2  1094.885498    79.600456  1102.720581    81.208038  1104.568359  ...   \n",
       "3  1095.123413    80.230881  1103.237427    78.008667  1104.330566  ...   \n",
       "4  1095.653687    79.327095  1103.027710    78.008530  1106.229614  ...   \n",
       "\n",
       "   Damper_atm  Damper_scrubber  Motor_Secador  Motor_ventilador_humos  \\\n",
       "0         0.0              100      16.591389              115.558098   \n",
       "1         0.0              100      16.063402              116.945450   \n",
       "2         0.0              100      16.465736              118.435463   \n",
       "3         0.0              100      15.525600              114.675354   \n",
       "4         0.0              100      15.887411              116.380211   \n",
       "\n",
       "  Motor_soplador_reciclo Motor_gusano_descarga  Motor_rastra_descarga  \\\n",
       "0              23.957436              2.923200               3.284385   \n",
       "1              23.388823              2.839568               3.146695   \n",
       "2              23.524975              2.846484               3.305407   \n",
       "3              23.901539              2.823379               3.183444   \n",
       "4              23.936207              2.861648               3.148321   \n",
       "\n",
       "   Molino_salida_1 Molino_salida_2 Presion_filtro_bolsa  \n",
       "0        78.458809        0.355693             1.652562  \n",
       "1        61.052021        0.353825             1.613900  \n",
       "2        56.834660        0.351780             1.783668  \n",
       "3        58.261257        0.349322             1.665779  \n",
       "4        64.321579        0.346864             1.947744  \n",
       "\n",
       "[5 rows x 36 columns]"
      ]
     },
     "execution_count": 5,
     "metadata": {},
     "output_type": "execute_result"
    }
   ],
   "source": [
    "data.head()"
   ]
  },
  {
   "cell_type": "markdown",
   "id": "discrete-qatar",
   "metadata": {
    "id": "discrete-qatar"
   },
   "source": [
    "A continuación cambiamos el estado de las variables tipo objeto. Esto para cambiar los valores a 1s y 0s:"
   ]
  },
  {
   "cell_type": "code",
   "execution_count": 6,
   "id": "elegant-minister",
   "metadata": {
    "id": "elegant-minister",
    "outputId": "27e72c1d-fd0b-4abb-f3c7-cc8b855dab75"
   },
   "outputs": [
    {
     "data": {
      "text/html": [
       "<div>\n",
       "<style scoped>\n",
       "    .dataframe tbody tr th:only-of-type {\n",
       "        vertical-align: middle;\n",
       "    }\n",
       "\n",
       "    .dataframe tbody tr th {\n",
       "        vertical-align: top;\n",
       "    }\n",
       "\n",
       "    .dataframe thead th {\n",
       "        text-align: right;\n",
       "    }\n",
       "</style>\n",
       "<table border=\"1\" class=\"dataframe\">\n",
       "  <thead>\n",
       "    <tr style=\"text-align: right;\">\n",
       "      <th></th>\n",
       "      <th>Triturador_1</th>\n",
       "      <th>Triturador_2</th>\n",
       "      <th>Triturador_1_Bypass</th>\n",
       "      <th>Triturador_2_Bypass</th>\n",
       "    </tr>\n",
       "  </thead>\n",
       "  <tbody>\n",
       "    <tr>\n",
       "      <th>0</th>\n",
       "      <td>1</td>\n",
       "      <td>1</td>\n",
       "      <td>1</td>\n",
       "      <td>0</td>\n",
       "    </tr>\n",
       "    <tr>\n",
       "      <th>1</th>\n",
       "      <td>1</td>\n",
       "      <td>1</td>\n",
       "      <td>1</td>\n",
       "      <td>0</td>\n",
       "    </tr>\n",
       "    <tr>\n",
       "      <th>2</th>\n",
       "      <td>1</td>\n",
       "      <td>1</td>\n",
       "      <td>1</td>\n",
       "      <td>0</td>\n",
       "    </tr>\n",
       "    <tr>\n",
       "      <th>3</th>\n",
       "      <td>1</td>\n",
       "      <td>1</td>\n",
       "      <td>1</td>\n",
       "      <td>0</td>\n",
       "    </tr>\n",
       "    <tr>\n",
       "      <th>4</th>\n",
       "      <td>1</td>\n",
       "      <td>1</td>\n",
       "      <td>1</td>\n",
       "      <td>0</td>\n",
       "    </tr>\n",
       "  </tbody>\n",
       "</table>\n",
       "</div>"
      ],
      "text/plain": [
       "   Triturador_1  Triturador_2  Triturador_1_Bypass  Triturador_2_Bypass\n",
       "0             1             1                    1                    0\n",
       "1             1             1                    1                    0\n",
       "2             1             1                    1                    0\n",
       "3             1             1                    1                    0\n",
       "4             1             1                    1                    0"
      ]
     },
     "execution_count": 6,
     "metadata": {},
     "output_type": "execute_result"
    }
   ],
   "source": [
    "#Modificar los estados de las varibles independientes \"Triturador_1\" y \"Triturador_2\".\n",
    "data[['Triturador_1','Triturador_2', 'Triturador_1_Bypass', 'Triturador_2_Bypass']] = data[['Triturador_1','Triturador_2', 'Triturador_1_Bypass', 'Triturador_2_Bypass']].replace(['Active'],1).replace(['Inactive'],0).replace(['Open'],1).replace(['Closed'],0)\n",
    "data[['Triturador_1','Triturador_2', 'Triturador_1_Bypass', 'Triturador_2_Bypass']].head()"
   ]
  },
  {
   "cell_type": "markdown",
   "id": "modified-radical",
   "metadata": {
    "id": "modified-radical"
   },
   "source": [
    "Quitamos del dataset las variables con datos vacíos:"
   ]
  },
  {
   "cell_type": "code",
   "execution_count": 7,
   "id": "gothic-algorithm",
   "metadata": {
    "id": "gothic-algorithm",
    "outputId": "a8338795-2e14-4f22-a027-b41a61ff5576"
   },
   "outputs": [
    {
     "name": "stdout",
     "output_type": "stream",
     "text": [
      "<class 'pandas.core.frame.DataFrame'>\n",
      "RangeIndex: 3416 entries, 0 to 3415\n",
      "Data columns (total 34 columns):\n",
      " #   Column                  Non-Null Count  Dtype         \n",
      "---  ------                  --------------  -----         \n",
      " 0   Timestamp               3416 non-null   datetime64[ns]\n",
      " 1   Humedad                 3416 non-null   float64       \n",
      " 2   Nivel_RVF_1             3416 non-null   float64       \n",
      " 3   RPM_RVF_1               1133 non-null   float64       \n",
      " 4   Nivel_RVF_2             3416 non-null   float64       \n",
      " 5   RPM_RVF_2               1133 non-null   float64       \n",
      " 6   Nivel_RVF_3             3416 non-null   float64       \n",
      " 7   RPM_RVF_3               1133 non-null   float64       \n",
      " 8   Nivel_RVF_4             3416 non-null   float64       \n",
      " 9   RPM_RVF_4               1133 non-null   float64       \n",
      " 10  Nivel_RVF_5             3416 non-null   float64       \n",
      " 11  RPM_RVF_5               1133 non-null   float64       \n",
      " 12  Nivel_RVF_6             3416 non-null   float64       \n",
      " 13  RPM_RVF_6               1133 non-null   float64       \n",
      " 14  Triturador_1            3416 non-null   int64         \n",
      " 15  Triturador_2            3416 non-null   int64         \n",
      " 16  Triturador_1_A          3416 non-null   float64       \n",
      " 17  Triturador_2_A          3416 non-null   float64       \n",
      " 18  Triturador_1_Bypass     3416 non-null   int64         \n",
      " 19  Triturador_2_Bypass     3416 non-null   int64         \n",
      " 20  TE                      3416 non-null   float64       \n",
      " 21  TS                      3416 non-null   float64       \n",
      " 22  Draft                   3416 non-null   float64       \n",
      " 23  Flujo_gas               3416 non-null   float64       \n",
      " 24  Damper_Reciclo          3416 non-null   float64       \n",
      " 25  Damper_atm              3416 non-null   float64       \n",
      " 26  Damper_scrubber         3416 non-null   int64         \n",
      " 27  Motor_Secador           3416 non-null   float64       \n",
      " 28  Motor_soplador_reciclo  3416 non-null   float64       \n",
      " 29  Motor_gusano_descarga   3416 non-null   float64       \n",
      " 30  Motor_rastra_descarga   3416 non-null   float64       \n",
      " 31  Molino_salida_1         3416 non-null   float64       \n",
      " 32  Molino_salida_2         3416 non-null   float64       \n",
      " 33  Presion_filtro_bolsa    3416 non-null   float64       \n",
      "dtypes: datetime64[ns](1), float64(28), int64(5)\n",
      "memory usage: 907.5 KB\n"
     ]
    }
   ],
   "source": [
    "#Eliminar variables del Dataset original de acuerdo a análisis previos para Random Forest:\n",
    "dataSVM = data.copy()\n",
    "dataSVM = dataSVM.drop(['Motor_ventilador_humos'],axis = 1).drop(['Flujo_aire'],axis = 1) \n",
    "dataSVM.info()"
   ]
  },
  {
   "cell_type": "markdown",
   "id": "stock-uniform",
   "metadata": {
    "id": "stock-uniform"
   },
   "source": [
    "Se eliminan las velocidades de los filtros rotativos:"
   ]
  },
  {
   "cell_type": "code",
   "execution_count": 8,
   "id": "arbitrary-packet",
   "metadata": {
    "id": "arbitrary-packet",
    "outputId": "089e9c50-82c9-4ee0-af98-d40341e9a93b"
   },
   "outputs": [
    {
     "name": "stdout",
     "output_type": "stream",
     "text": [
      "<class 'pandas.core.frame.DataFrame'>\n",
      "RangeIndex: 3416 entries, 0 to 3415\n",
      "Data columns (total 28 columns):\n",
      " #   Column                  Non-Null Count  Dtype         \n",
      "---  ------                  --------------  -----         \n",
      " 0   Timestamp               3416 non-null   datetime64[ns]\n",
      " 1   Humedad                 3416 non-null   float64       \n",
      " 2   Nivel_RVF_1             3416 non-null   float64       \n",
      " 3   Nivel_RVF_2             3416 non-null   float64       \n",
      " 4   Nivel_RVF_3             3416 non-null   float64       \n",
      " 5   Nivel_RVF_4             3416 non-null   float64       \n",
      " 6   Nivel_RVF_5             3416 non-null   float64       \n",
      " 7   Nivel_RVF_6             3416 non-null   float64       \n",
      " 8   Triturador_1            3416 non-null   int64         \n",
      " 9   Triturador_2            3416 non-null   int64         \n",
      " 10  Triturador_1_A          3416 non-null   float64       \n",
      " 11  Triturador_2_A          3416 non-null   float64       \n",
      " 12  Triturador_1_Bypass     3416 non-null   int64         \n",
      " 13  Triturador_2_Bypass     3416 non-null   int64         \n",
      " 14  TE                      3416 non-null   float64       \n",
      " 15  TS                      3416 non-null   float64       \n",
      " 16  Draft                   3416 non-null   float64       \n",
      " 17  Flujo_gas               3416 non-null   float64       \n",
      " 18  Damper_Reciclo          3416 non-null   float64       \n",
      " 19  Damper_atm              3416 non-null   float64       \n",
      " 20  Damper_scrubber         3416 non-null   int64         \n",
      " 21  Motor_Secador           3416 non-null   float64       \n",
      " 22  Motor_soplador_reciclo  3416 non-null   float64       \n",
      " 23  Motor_gusano_descarga   3416 non-null   float64       \n",
      " 24  Motor_rastra_descarga   3416 non-null   float64       \n",
      " 25  Molino_salida_1         3416 non-null   float64       \n",
      " 26  Molino_salida_2         3416 non-null   float64       \n",
      " 27  Presion_filtro_bolsa    3416 non-null   float64       \n",
      "dtypes: datetime64[ns](1), float64(22), int64(5)\n",
      "memory usage: 747.4 KB\n"
     ]
    }
   ],
   "source": [
    "#Eliminar variables del Dataset original de acuerdo a análisis previos para Random Forest:\n",
    "dataSVM = dataSVM.drop(['RPM_RVF_1','RPM_RVF_2','RPM_RVF_3','RPM_RVF_4','RPM_RVF_5','RPM_RVF_6'],axis = 1)\n",
    "dataSVM.info()"
   ]
  },
  {
   "cell_type": "markdown",
   "id": "needed-understanding",
   "metadata": {
    "id": "needed-understanding"
   },
   "source": [
    "Finalmente, se elimina el flujo de gas por ser descrito a traves de la caracteristica TE:"
   ]
  },
  {
   "cell_type": "code",
   "execution_count": 9,
   "id": "aboriginal-international",
   "metadata": {
    "id": "aboriginal-international",
    "outputId": "4d3224c9-da8a-4623-b737-8cb31abc850e"
   },
   "outputs": [
    {
     "name": "stdout",
     "output_type": "stream",
     "text": [
      "<class 'pandas.core.frame.DataFrame'>\n",
      "RangeIndex: 3416 entries, 0 to 3415\n",
      "Data columns (total 27 columns):\n",
      " #   Column                  Non-Null Count  Dtype         \n",
      "---  ------                  --------------  -----         \n",
      " 0   Timestamp               3416 non-null   datetime64[ns]\n",
      " 1   Humedad                 3416 non-null   float64       \n",
      " 2   Nivel_RVF_1             3416 non-null   float64       \n",
      " 3   Nivel_RVF_2             3416 non-null   float64       \n",
      " 4   Nivel_RVF_3             3416 non-null   float64       \n",
      " 5   Nivel_RVF_4             3416 non-null   float64       \n",
      " 6   Nivel_RVF_5             3416 non-null   float64       \n",
      " 7   Nivel_RVF_6             3416 non-null   float64       \n",
      " 8   Triturador_1            3416 non-null   int64         \n",
      " 9   Triturador_2            3416 non-null   int64         \n",
      " 10  Triturador_1_A          3416 non-null   float64       \n",
      " 11  Triturador_2_A          3416 non-null   float64       \n",
      " 12  Triturador_1_Bypass     3416 non-null   int64         \n",
      " 13  Triturador_2_Bypass     3416 non-null   int64         \n",
      " 14  TE                      3416 non-null   float64       \n",
      " 15  TS                      3416 non-null   float64       \n",
      " 16  Draft                   3416 non-null   float64       \n",
      " 17  Damper_Reciclo          3416 non-null   float64       \n",
      " 18  Damper_atm              3416 non-null   float64       \n",
      " 19  Damper_scrubber         3416 non-null   int64         \n",
      " 20  Motor_Secador           3416 non-null   float64       \n",
      " 21  Motor_soplador_reciclo  3416 non-null   float64       \n",
      " 22  Motor_gusano_descarga   3416 non-null   float64       \n",
      " 23  Motor_rastra_descarga   3416 non-null   float64       \n",
      " 24  Molino_salida_1         3416 non-null   float64       \n",
      " 25  Molino_salida_2         3416 non-null   float64       \n",
      " 26  Presion_filtro_bolsa    3416 non-null   float64       \n",
      "dtypes: datetime64[ns](1), float64(21), int64(5)\n",
      "memory usage: 720.7 KB\n"
     ]
    }
   ],
   "source": [
    "#Eliminar variables del Dataset original de acuerdo a análisis previos para Random Forest:\n",
    "dataSVM = dataSVM.drop(['Flujo_gas'],axis = 1)\n",
    "dataSVM.info()"
   ]
  },
  {
   "cell_type": "markdown",
   "id": "opponent-patent",
   "metadata": {
    "id": "opponent-patent"
   },
   "source": [
    "Asi, tenemos una salida **Humedad** con 24 características."
   ]
  },
  {
   "cell_type": "markdown",
   "id": "included-haven",
   "metadata": {
    "id": "included-haven"
   },
   "source": [
    "Continuamos eliminando los outliers del analisis de regresión lineal:"
   ]
  },
  {
   "cell_type": "code",
   "execution_count": 10,
   "id": "solid-highway",
   "metadata": {
    "id": "solid-highway",
    "outputId": "074c5a7a-adb0-40f2-9bcb-7dd327cab73b"
   },
   "outputs": [
    {
     "name": "stdout",
     "output_type": "stream",
     "text": [
      "<class 'pandas.core.frame.DataFrame'>\n",
      "Int64Index: 3410 entries, 0 to 3415\n",
      "Data columns (total 27 columns):\n",
      " #   Column                  Non-Null Count  Dtype         \n",
      "---  ------                  --------------  -----         \n",
      " 0   Timestamp               3410 non-null   datetime64[ns]\n",
      " 1   Humedad                 3410 non-null   float64       \n",
      " 2   Nivel_RVF_1             3410 non-null   float64       \n",
      " 3   Nivel_RVF_2             3410 non-null   float64       \n",
      " 4   Nivel_RVF_3             3410 non-null   float64       \n",
      " 5   Nivel_RVF_4             3410 non-null   float64       \n",
      " 6   Nivel_RVF_5             3410 non-null   float64       \n",
      " 7   Nivel_RVF_6             3410 non-null   float64       \n",
      " 8   Triturador_1            3410 non-null   int64         \n",
      " 9   Triturador_2            3410 non-null   int64         \n",
      " 10  Triturador_1_A          3410 non-null   float64       \n",
      " 11  Triturador_2_A          3410 non-null   float64       \n",
      " 12  Triturador_1_Bypass     3410 non-null   int64         \n",
      " 13  Triturador_2_Bypass     3410 non-null   int64         \n",
      " 14  TE                      3410 non-null   float64       \n",
      " 15  TS                      3410 non-null   float64       \n",
      " 16  Draft                   3410 non-null   float64       \n",
      " 17  Damper_Reciclo          3410 non-null   float64       \n",
      " 18  Damper_atm              3410 non-null   float64       \n",
      " 19  Damper_scrubber         3410 non-null   int64         \n",
      " 20  Motor_Secador           3410 non-null   float64       \n",
      " 21  Motor_soplador_reciclo  3410 non-null   float64       \n",
      " 22  Motor_gusano_descarga   3410 non-null   float64       \n",
      " 23  Motor_rastra_descarga   3410 non-null   float64       \n",
      " 24  Molino_salida_1         3410 non-null   float64       \n",
      " 25  Molino_salida_2         3410 non-null   float64       \n",
      " 26  Presion_filtro_bolsa    3410 non-null   float64       \n",
      "dtypes: datetime64[ns](1), float64(21), int64(5)\n",
      "memory usage: 745.9 KB\n"
     ]
    }
   ],
   "source": [
    "#Eliminar outliers del Dataset original de acuerdo a análisis previos para Random Forest:\n",
    "dataSVM = dataSVM.drop([ 2232, 2086, 537, 3173, 2961, 2232, 2818],axis=0)\n",
    "dataSVM.info()"
   ]
  },
  {
   "cell_type": "markdown",
   "id": "pointed-factor",
   "metadata": {
    "id": "pointed-factor"
   },
   "source": [
    "Este es el dataset que utilizaremos en el algoritmo Support vector machine."
   ]
  },
  {
   "cell_type": "markdown",
   "id": "aquatic-colonial",
   "metadata": {
    "id": "aquatic-colonial"
   },
   "source": [
    "## <font color= blue> 2. Implementación de la regresión con maquinas de soporte vector (Support Vector Machine).</font>"
   ]
  },
  {
   "cell_type": "markdown",
   "id": "hindu-faith",
   "metadata": {
    "id": "hindu-faith"
   },
   "source": [
    "### Support vector machine sin datos normalizados"
   ]
  },
  {
   "cell_type": "markdown",
   "id": "cloudy-opening",
   "metadata": {
    "id": "cloudy-opening"
   },
   "source": [
    "Primero comenzamos graficando la humedad para compararla posteriormente con la predicción obtenida con el modelo:"
   ]
  },
  {
   "cell_type": "code",
   "execution_count": 11,
   "id": "latin-technique",
   "metadata": {
    "id": "latin-technique",
    "outputId": "0805c658-348f-4e69-95e4-569a36226a28"
   },
   "outputs": [
    {
     "data": {
      "text/plain": [
       "Text(0.5, 1.0, 'Humedad del Gluten de Maíz')"
      ]
     },
     "execution_count": 11,
     "metadata": {},
     "output_type": "execute_result"
    },
    {
     "data": {
      "image/png": "[encoded data removed]",
      "text/plain": [
       "<Figure size 1152x360 with 1 Axes>"
      ]
     },
     "metadata": {},
     "output_type": "display_data"
    }
   ],
   "source": [
    "# Plot the actual values\n",
    "plt.style.use('fivethirtyeight')\n",
    "plt.figure(figsize=(16,5))\n",
    "plt.scatter(dataSVM['Timestamp'], dataSVM['Humedad'], color ='r')\n",
    "plt.plot(dataSVM['Timestamp'], dataSVM['Humedad'], linestyle='solid',color='b', label = 'Humedad')\n",
    "plt.axhline(y=10.5, xmin=0, xmax=1, color='g', linestyle='-', label = 'Objetivo = 10.5%')\n",
    "plt.axhline(y=10, xmin=0, xmax=1, color='r', linestyle='--', label = 'Limite inferior = 10.0%')\n",
    "plt.axhline(y=13, xmin=0, xmax=1, color='r', linestyle='--', label = 'Limite superior = 13.0%')\n",
    "plt.xticks(rotation = '60')\n",
    "plt.legend()\n",
    "plt.xlabel('Fecha'); plt.ylabel('Humedad (%)'); plt.title('Humedad del Gluten de Maíz')"
   ]
  },
  {
   "cell_type": "markdown",
   "id": "polished-material",
   "metadata": {
    "id": "polished-material"
   },
   "source": [
    "Obtenemos las características (X) y la variable a predecir (y, salida) como arreglos de numpy para uso en el algoritmo:"
   ]
  },
  {
   "cell_type": "code",
   "execution_count": 12,
   "id": "practical-stand",
   "metadata": {
    "id": "practical-stand"
   },
   "outputs": [],
   "source": [
    "#Variable a predecir y\n",
    "ySVM = dataSVM['Humedad']#np.array(dataRF['Humedad'])\n",
    "\n",
    "#Características X\n",
    "XSVM = dataSVM.iloc[:,2:]#np.array(dataRF.iloc[:,2:])\n",
    "\n",
    "#Lista con nombre de las caracteristicas para uso en gráficas\n",
    "caracteristicas = list(dataSVM.iloc[:,2:].columns)"
   ]
  },
  {
   "cell_type": "markdown",
   "id": "chubby-study",
   "metadata": {
    "id": "chubby-study"
   },
   "source": [
    "Creamos datos de entrenamiento y prueba:"
   ]
  },
  {
   "cell_type": "code",
   "execution_count": 13,
   "id": "mounted-suggestion",
   "metadata": {
    "id": "mounted-suggestion"
   },
   "outputs": [],
   "source": [
    "XSVM_train, XSVM_test, ySVM_train, ySVM_test = train_test_split(XSVM,ySVM, test_size = 0.2, random_state = 42)"
   ]
  },
  {
   "cell_type": "markdown",
   "id": "acknowledged-stocks",
   "metadata": {
    "id": "acknowledged-stocks"
   },
   "source": [
    "Entrenamos el modelo usando la librería Scikit-learn para algoritmo Random Forest Regression:"
   ]
  },
  {
   "cell_type": "code",
   "execution_count": 14,
   "id": "careful-blast",
   "metadata": {
    "id": "careful-blast",
    "outputId": "113baddf-c792-4726-c4df-cc8e44654d40"
   },
   "outputs": [
    {
     "data": {
      "text/plain": [
       "SVR()"
      ]
     },
     "execution_count": 14,
     "metadata": {},
     "output_type": "execute_result"
    }
   ],
   "source": [
    "#Instanciamos el modelo con 1000 arboles de decisión\n",
    "SVM = svm.SVR(kernel='rbf')\n",
    "#Entrenamos el modelo\n",
    "SVM.fit(XSVM_train, ySVM_train)"
   ]
  },
  {
   "cell_type": "markdown",
   "id": "valued-space",
   "metadata": {
    "id": "valued-space"
   },
   "source": [
    "Usamos el modelo para predecir la Humedad con los datos de prueba:"
   ]
  },
  {
   "cell_type": "code",
   "execution_count": 15,
   "id": "dominican-superintendent",
   "metadata": {
    "id": "dominican-superintendent"
   },
   "outputs": [],
   "source": [
    "ySVM_predict = SVM.predict(XSVM_test)"
   ]
  },
  {
   "cell_type": "markdown",
   "id": "designed-retrieval",
   "metadata": {
    "id": "designed-retrieval"
   },
   "source": [
    "Comparamos el modelo con los de regresión lineal a traves del error cuadratico medio:"
   ]
  },
  {
   "cell_type": "code",
   "execution_count": 16,
   "id": "peaceful-value",
   "metadata": {
    "id": "peaceful-value",
    "outputId": "4a023b1e-8b5f-484b-e6b7-a2e2fd5df3a1"
   },
   "outputs": [
    {
     "data": {
      "text/plain": [
       "4.214698137658437"
      ]
     },
     "execution_count": 16,
     "metadata": {},
     "output_type": "execute_result"
    }
   ],
   "source": [
    "mean_squared_error(ySVM_test, ySVM_predict)  #Error minimo cuadrado cerca de 3.55."
   ]
  },
  {
   "cell_type": "markdown",
   "id": "buried-duration",
   "metadata": {
    "id": "buried-duration"
   },
   "source": [
    "Finalmente, para evaluar el algoritmo calculamos la precisión del modelo (accuracy):"
   ]
  },
  {
   "cell_type": "code",
   "execution_count": 17,
   "id": "prescription-match",
   "metadata": {
    "id": "prescription-match",
    "outputId": "9819afda-2840-482b-80d2-9657c31ea85d",
    "scrolled": true
   },
   "outputs": [
    {
     "name": "stdout",
     "output_type": "stream",
     "text": [
      "Accuracy: 82.22 %.\n"
     ]
    }
   ],
   "source": [
    "# Calculate mean absolute percentage error (MAPE)\n",
    "mapeSVM = 100 * (abs(ySVM_predict - ySVM_test.values) / ySVM_test.values)\n",
    "# Calculate and display accuracy\n",
    "accSVM = 100 - np.mean(mapeSVM)\n",
    "print('Accuracy:', round(accSVM, 2), '%.')"
   ]
  },
  {
   "cell_type": "markdown",
   "id": "naked-diagnosis",
   "metadata": {
    "id": "naked-diagnosis"
   },
   "source": [
    "El cual es un resultado aceptable como indicación, pero no para efectos de control. Esto sumado a que el PLC no es capaz de ejecutar este algoritmo."
   ]
  },
  {
   "cell_type": "markdown",
   "id": "formed-guinea",
   "metadata": {
    "id": "formed-guinea"
   },
   "source": [
    "Vemos este resultado de manera grafica:"
   ]
  },
  {
   "cell_type": "code",
   "execution_count": 18,
   "id": "greatest-champagne",
   "metadata": {
    "id": "greatest-champagne",
    "outputId": "97b3f9dc-7db2-41d1-b737-6db129456e75"
   },
   "outputs": [
    {
     "data": {
      "text/plain": [
       "Text(0.5, 1.0, 'Valores medidos vs. predicciones')"
      ]
     },
     "execution_count": 18,
     "metadata": {},
     "output_type": "execute_result"
    },
    {
     "data": {
      "image/png": "[encoded data removed]",
      "text/plain": [
       "<Figure size 1152x360 with 1 Axes>"
      ]
     },
     "metadata": {},
     "output_type": "display_data"
    }
   ],
   "source": [
    "# Dataframe with predictions and dates\n",
    "predictions_data = XSVM_test.join(dataSVM['Timestamp']).assign(y_predict = ySVM_predict)\n",
    "# Plot the actual values\n",
    "plt.style.use('fivethirtyeight')\n",
    "plt.figure(figsize=(16,5))\n",
    "plt.plot(dataSVM['Timestamp'], dataSVM['Humedad'], 'b-', label = 'actual')\n",
    "# Plot the predicted values\n",
    "plt.plot(predictions_data['Timestamp'], predictions_data['y_predict'], 'ro', label = 'prediction')\n",
    "plt.xticks(rotation = '60')\n",
    "plt.legend()\n",
    "# Graph labels\n",
    "plt.xlabel('Fecha'); plt.ylabel('Humedad (%)'); plt.title('Valores medidos vs. predicciones')"
   ]
  },
  {
   "cell_type": "markdown",
   "id": "equal-velvet",
   "metadata": {
    "id": "equal-velvet"
   },
   "source": [
    "Para descartar que los rangos de las caracteristicas tengan influencia, se van a normalizar los datos."
   ]
  },
  {
   "cell_type": "markdown",
   "id": "living-happening",
   "metadata": {
    "id": "living-happening"
   },
   "source": [
    "### SVM con datos normalizados"
   ]
  },
  {
   "cell_type": "markdown",
   "id": "particular-regulation",
   "metadata": {
    "id": "particular-regulation"
   },
   "source": [
    "Normalizamos los datos de prueba y entrenamiento:"
   ]
  },
  {
   "cell_type": "code",
   "execution_count": 19,
   "id": "mexican-serbia",
   "metadata": {
    "id": "mexican-serbia"
   },
   "outputs": [],
   "source": [
    "XSVMN_train = XSVM_train.copy()\n",
    "XSVMN_test = XSVM_test.copy()\n",
    "ySVMN_train = ySVM_train.copy()\n",
    "ySVMN_test = ySVM_test.copy()"
   ]
  },
  {
   "cell_type": "code",
   "execution_count": 20,
   "id": "reverse-lexington",
   "metadata": {
    "id": "reverse-lexington"
   },
   "outputs": [],
   "source": [
    "#Normalizar las caracteristicas.\n",
    "XSVMN_train_columns = XSVMN_train.columns\n",
    "for i in XSVMN_train_columns:\n",
    "    XSVMN_train.loc[:,(i)] = (XSVMN_train.loc[:,(i)] - XSVMN_train.loc[:,(i)].min()) / (XSVMN_train.loc[:,(i)].max() - XSVMN_train.loc[:,(i)].min())\n",
    "\n",
    "for i in XSVMN_train_columns:\n",
    "    XSVMN_test.loc[:,(i)] = (XSVMN_test.loc[:,(i)] - XSVMN_test.loc[:,(i)].min()) / (XSVMN_test.loc[:,(i)].max() - XSVMN_test.loc[:,(i)].min())"
   ]
  },
  {
   "cell_type": "code",
   "execution_count": 21,
   "id": "hollow-sculpture",
   "metadata": {
    "id": "hollow-sculpture"
   },
   "outputs": [],
   "source": [
    "#Normalizar la salida.\n",
    "ySVMN_train = (ySVMN_train - ySVMN_train.min()) / (ySVMN_train.max() - ySVMN_train.min())\n",
    "ySVMN_test = (ySVMN_test - ySVMN_test.min()) / (ySVMN_test.max() - ySVMN_test.min())"
   ]
  },
  {
   "cell_type": "code",
   "execution_count": 22,
   "id": "statistical-chase",
   "metadata": {
    "id": "statistical-chase",
    "outputId": "8e87ddc6-c29b-430b-f195-251b506c0d8a"
   },
   "outputs": [
    {
     "data": {
      "text/html": [
       "<div>\n",
       "<style scoped>\n",
       "    .dataframe tbody tr th:only-of-type {\n",
       "        vertical-align: middle;\n",
       "    }\n",
       "\n",
       "    .dataframe tbody tr th {\n",
       "        vertical-align: top;\n",
       "    }\n",
       "\n",
       "    .dataframe thead th {\n",
       "        text-align: right;\n",
       "    }\n",
       "</style>\n",
       "<table border=\"1\" class=\"dataframe\">\n",
       "  <thead>\n",
       "    <tr style=\"text-align: right;\">\n",
       "      <th></th>\n",
       "      <th>Timestamp</th>\n",
       "      <th>Humedad</th>\n",
       "    </tr>\n",
       "  </thead>\n",
       "  <tbody>\n",
       "    <tr>\n",
       "      <th>0</th>\n",
       "      <td>2021-08-30 18:00:00</td>\n",
       "      <td>0.627160</td>\n",
       "    </tr>\n",
       "    <tr>\n",
       "      <th>1</th>\n",
       "      <td>2021-08-30 16:00:00</td>\n",
       "      <td>0.638889</td>\n",
       "    </tr>\n",
       "    <tr>\n",
       "      <th>2</th>\n",
       "      <td>2021-08-30 14:00:00</td>\n",
       "      <td>0.603086</td>\n",
       "    </tr>\n",
       "    <tr>\n",
       "      <th>3</th>\n",
       "      <td>2021-08-30 12:00:00</td>\n",
       "      <td>0.670988</td>\n",
       "    </tr>\n",
       "    <tr>\n",
       "      <th>4</th>\n",
       "      <td>2021-08-30 10:00:00</td>\n",
       "      <td>0.558025</td>\n",
       "    </tr>\n",
       "    <tr>\n",
       "      <th>...</th>\n",
       "      <td>...</td>\n",
       "      <td>...</td>\n",
       "    </tr>\n",
       "    <tr>\n",
       "      <th>3411</th>\n",
       "      <td>2020-07-08 17:15:00</td>\n",
       "      <td>0.585802</td>\n",
       "    </tr>\n",
       "    <tr>\n",
       "      <th>3412</th>\n",
       "      <td>2020-07-08 10:34:00</td>\n",
       "      <td>0.595062</td>\n",
       "    </tr>\n",
       "    <tr>\n",
       "      <th>3413</th>\n",
       "      <td>2020-07-08 09:44:00</td>\n",
       "      <td>0.826543</td>\n",
       "    </tr>\n",
       "    <tr>\n",
       "      <th>3414</th>\n",
       "      <td>2020-07-07 19:18:00</td>\n",
       "      <td>0.809876</td>\n",
       "    </tr>\n",
       "    <tr>\n",
       "      <th>3415</th>\n",
       "      <td>2020-07-07 16:32:00</td>\n",
       "      <td>0.622839</td>\n",
       "    </tr>\n",
       "  </tbody>\n",
       "</table>\n",
       "<p>3416 rows × 2 columns</p>\n",
       "</div>"
      ],
      "text/plain": [
       "               Timestamp   Humedad\n",
       "0    2021-08-30 18:00:00  0.627160\n",
       "1    2021-08-30 16:00:00  0.638889\n",
       "2    2021-08-30 14:00:00  0.603086\n",
       "3    2021-08-30 12:00:00  0.670988\n",
       "4    2021-08-30 10:00:00  0.558025\n",
       "...                  ...       ...\n",
       "3411 2020-07-08 17:15:00  0.585802\n",
       "3412 2020-07-08 10:34:00  0.595062\n",
       "3413 2020-07-08 09:44:00  0.826543\n",
       "3414 2020-07-07 19:18:00  0.809876\n",
       "3415 2020-07-07 16:32:00  0.622839\n",
       "\n",
       "[3416 rows x 2 columns]"
      ]
     },
     "execution_count": 22,
     "metadata": {},
     "output_type": "execute_result"
    }
   ],
   "source": [
    "#Para grafica normalizar humedad.\n",
    "dataplotN = data.copy()\n",
    "dataplotN = dataplotN.iloc[:,0:2]\n",
    "dataplotN['Humedad'] = (dataplotN['Humedad'] - dataplotN['Humedad'].min()) / (dataplotN['Humedad'].max() - dataplotN['Humedad'].min())\n",
    "dataplotN"
   ]
  },
  {
   "cell_type": "markdown",
   "id": "mounted-fluid",
   "metadata": {
    "id": "mounted-fluid"
   },
   "source": [
    "Entrenamos el modelo:"
   ]
  },
  {
   "cell_type": "code",
   "execution_count": 23,
   "id": "worse-pantyhose",
   "metadata": {
    "id": "worse-pantyhose",
    "outputId": "4baf6757-721c-43bc-e040-bf7ada8e4fe8"
   },
   "outputs": [
    {
     "data": {
      "text/plain": [
       "SVR()"
      ]
     },
     "execution_count": 23,
     "metadata": {},
     "output_type": "execute_result"
    }
   ],
   "source": [
    "#Instanciamos el modelo con 1000 arboles de decisión\n",
    "SVMN = svm.SVR(kernel='rbf')\n",
    "#Entrenamos el modelo\n",
    "SVMN.fit(XSVMN_train, ySVMN_train)"
   ]
  },
  {
   "cell_type": "markdown",
   "id": "welcome-asthma",
   "metadata": {
    "id": "welcome-asthma"
   },
   "source": [
    "Usamos el modelo para predecir:"
   ]
  },
  {
   "cell_type": "code",
   "execution_count": 24,
   "id": "wanted-validation",
   "metadata": {
    "id": "wanted-validation"
   },
   "outputs": [],
   "source": [
    "ySVMN_predict = SVMN.predict(XSVMN_test)"
   ]
  },
  {
   "cell_type": "markdown",
   "id": "greatest-oliver",
   "metadata": {},
   "source": [
    "Regresamos los datos al rango de operación:"
   ]
  },
  {
   "cell_type": "code",
   "execution_count": 32,
   "id": "differential-farming",
   "metadata": {
    "scrolled": true
   },
   "outputs": [
    {
     "data": {
      "text/plain": [
       "array([10.32236688, 11.69130872, 10.31612896, 13.04030848, 11.39532142,\n",
       "       11.59795087, 11.65557279, 12.05235256, 10.67367711, 13.54334355,\n",
       "       10.42657267, 10.5271238 , 11.69112639, 12.28562423, 12.73599367,\n",
       "       11.29942819, 11.78852649, 12.24868754, 11.97142963, 11.03784088,\n",
       "       11.10778898, 10.72113552, 13.82106752, 12.63757849, 13.62672477,\n",
       "       13.14050703, 13.07830907, 13.49971585, 12.63653363, 10.71169266,\n",
       "       13.50456924, 11.67156959, 10.76407441, 10.83198181, 10.88364985,\n",
       "       12.96260635, 11.18663531, 10.23211881, 10.59443819, 10.8845864 ,\n",
       "       12.29403416, 10.69484666, 12.4371624 , 11.64850805, 11.95404135,\n",
       "       12.06341623,  9.79213389, 12.19647144, 12.01691795, 12.10996531,\n",
       "       13.48954966, 12.1186856 , 12.26048963, 12.64817668, 12.46448802,\n",
       "       11.61726769, 14.52053843, 12.65009072, 12.08195001, 12.78268021,\n",
       "       12.76795772, 11.77645309,  9.91515328, 11.54849965, 10.54850908,\n",
       "       11.45959064, 11.5447954 , 11.35001008, 10.80955216, 10.20405651,\n",
       "       11.22975408, 11.35060493, 13.81558887, 10.86044105, 11.72073611,\n",
       "       11.94843336, 13.6246708 , 10.29227161, 11.8636125 , 12.46442632,\n",
       "       10.03830372, 12.49894604, 10.78731944, 12.19539468, 12.5829962 ,\n",
       "       11.36234694, 12.12758546, 11.10594243, 10.47102132, 12.79574661,\n",
       "       11.28703559, 11.29026297, 10.9303948 , 12.4245067 , 13.76360642,\n",
       "       13.69337617, 11.81307506, 12.32611759, 10.96824306, 10.99989817,\n",
       "       12.52149286, 10.99905031, 10.11954372, 11.16661765, 11.5527959 ,\n",
       "       10.53319243, 12.79240078, 13.32390306, 10.59818045, 11.70593383,\n",
       "       10.88613481, 10.6147081 , 13.33842062, 11.33276215, 10.958186  ,\n",
       "       11.20321021, 13.14099435, 15.12800957, 10.49716884, 11.09888638,\n",
       "       11.16256461, 10.6040252 , 12.05077187, 10.29656762, 13.4073624 ,\n",
       "       12.63225144, 12.10637784, 12.98991213, 12.72212807, 11.57406853,\n",
       "       11.72993299, 12.94352508,  9.79303944, 12.15006335, 12.60039485,\n",
       "       12.45305104, 12.18427905, 11.62684537, 12.21067123, 10.9538271 ,\n",
       "       11.57596618, 12.49135591, 12.18769277, 13.55619974, 12.25684867,\n",
       "       11.06428737, 12.81715347, 10.70985791, 11.36885364, 11.0339608 ,\n",
       "       11.64782587, 12.549589  , 11.6842143 , 12.62462222, 11.23079001,\n",
       "       11.19164968, 11.69441264, 10.68864199, 12.4406956 , 12.98477347,\n",
       "       11.62895978, 11.24468025,  9.444283  , 14.03179041, 11.4802617 ,\n",
       "       12.8091112 , 12.20855422, 10.92356847,  8.67518763, 12.72329891,\n",
       "       13.19154209, 10.94646645, 10.45759352, 10.56325165, 13.39222622,\n",
       "       10.03349549, 10.51342031, 12.22914693, 11.84769846, 12.30613998,\n",
       "       13.96137178, 12.57175927, 11.07198938, 12.37311175, 10.61470519,\n",
       "       11.76310965, 11.6503869 , 12.48621205, 11.85540778, 10.34449655,\n",
       "       12.44829155, 12.60736045, 12.86190058, 12.38151885, 10.85956424,\n",
       "       12.84052212, 10.78456464, 11.4692589 , 11.06029132, 12.3643589 ,\n",
       "       12.97796999, 13.28387697, 10.45615714, 10.45558773, 13.61904236,\n",
       "       10.78984555, 12.66268126, 12.57960429, 11.50204492, 12.01190816,\n",
       "       10.56260686, 10.28443584, 10.8907225 , 12.36158118, 12.51834306,\n",
       "       13.04817977, 14.36964461, 11.03646482, 12.37030864, 10.76725172,\n",
       "       11.48998887, 13.09181407, 13.18298926, 11.41713817, 10.80706338,\n",
       "       12.43888559, 13.25809062, 12.58193429, 10.9408221 , 13.26726587,\n",
       "       10.18924511, 11.02014907, 11.33664784, 11.5504864 , 12.60430261,\n",
       "       13.18339977, 12.79873648, 11.49563894, 11.89811965, 11.72400156,\n",
       "       12.91957417, 12.91288442, 10.9951384 , 10.93393175, 11.93948777,\n",
       "       12.1614504 , 11.40153448, 12.84650449, 13.57082975, 10.67837482,\n",
       "       13.63818357, 11.12277415, 11.84459313, 10.85690766, 12.30850266,\n",
       "       11.67561069, 12.75226942, 10.6542228 , 11.85928932, 11.17908663,\n",
       "       11.4931024 , 12.36494279, 12.47185753, 12.48269162, 11.11376235,\n",
       "       12.89395581, 11.55912153, 13.2521139 , 12.48472672, 12.38035078,\n",
       "       12.34753514, 11.95764457, 10.08134259, 13.22209802, 13.45322212,\n",
       "       10.47977385, 12.15828518, 11.50259924, 10.48249414, 11.7535311 ,\n",
       "       12.30772163, 13.00358625, 12.6472505 , 11.71961918, 13.58063797,\n",
       "       11.37985801, 11.06389969, 12.01886536, 12.17127512, 13.74950759,\n",
       "       13.20440409, 12.43658938, 11.32363718, 10.43701867, 10.39843617,\n",
       "       10.89728143, 11.36227285, 12.65797135, 11.24085058, 10.52598082,\n",
       "       11.77767135, 11.6222611 , 10.91810981, 11.76740962, 11.03429973,\n",
       "       11.79589837, 12.38925319, 12.83797581, 11.36509963, 10.62862392,\n",
       "       11.23552773,  8.907823  , 10.34433329, 12.18950769, 11.81476484,\n",
       "       11.92062634, 12.78028782, 11.78616557, 12.55535934, 12.05681938,\n",
       "       11.02819078, 10.5984693 , 12.75109611, 11.44318123, 13.1245771 ,\n",
       "       12.74953102, 13.109043  , 13.03995096, 12.47855644, 12.36371021,\n",
       "       11.22081001, 11.14002812, 13.02582506, 12.45057248, 11.39893164,\n",
       "       12.26990658, 11.0605519 , 11.10529645, 12.92066441, 11.03358876,\n",
       "       13.12337709, 11.65361905, 12.31307512, 10.79364538, 10.71360811,\n",
       "       12.46382883, 12.62609205, 14.32286807, 13.60014335, 11.18471738,\n",
       "       14.15056544, 11.16461164, 10.07870091, 12.15615606, 11.23980599,\n",
       "       11.3505149 , 13.1972022 , 10.86199887, 10.24792382, 10.77614643,\n",
       "       13.0849333 , 10.64997776, 12.89654652, 12.72331268, 10.63601277,\n",
       "       10.83176292, 10.66442466, 12.33674951, 12.00895064, 12.06859257,\n",
       "       13.06443603, 11.84861183, 11.6055982 , 11.62092355, 11.32846238,\n",
       "       10.68035664, 11.13167413, 13.17489938, 10.85123301, 12.94650267,\n",
       "       11.51561948, 12.10118102, 12.89804256, 11.07370533, 12.5065674 ,\n",
       "       10.97543809, 12.19976036, 12.55163851, 14.40699994, 11.86793262,\n",
       "       12.86247887, 13.49021854, 13.4799927 , 13.15492341, 13.32816629,\n",
       "       11.83543425, 10.48240151, 12.77166955, 10.85337421, 12.28134273,\n",
       "       12.34068505, 13.95280578, 12.46892859, 10.98516463, 10.99062846,\n",
       "       11.54346062, 12.11145184, 12.15172531, 11.67003479, 11.45789068,\n",
       "       12.14919565, 10.54388338, 12.70305444, 11.58784991, 11.44105815,\n",
       "       10.39992992, 10.79966343, 11.38159783, 13.51588518, 10.20210638,\n",
       "       12.92469465, 12.03463554, 11.96847594, 12.65834627, 12.76193999,\n",
       "       11.75343897, 12.27635821, 13.14660777, 10.78313949,  9.45663913,\n",
       "       12.89204355, 12.43615429, 12.9186941 , 12.66920507, 10.30709964,\n",
       "       11.32783901, 10.57422025, 11.31258176, 12.06778194, 11.58447994,\n",
       "       11.06091694, 12.3787849 , 12.16399542, 11.4629256 , 10.42353552,\n",
       "       10.74272752, 13.07680836, 11.03293901, 13.22744755, 10.35518893,\n",
       "       12.13815968, 10.66008343, 12.32588631, 13.36513867, 12.08926749,\n",
       "       13.55896131, 11.84322669, 12.06384949, 11.75874443, 12.09733129,\n",
       "       13.50674098, 12.21575887, 10.11396874, 11.3572231 , 11.49327106,\n",
       "        9.86619652, 11.20847452, 11.05388609, 11.37286733, 10.40931629,\n",
       "       12.21242164, 11.20727611, 11.62763595, 12.19446982, 12.54311426,\n",
       "       11.73852441, 10.90057711, 11.67222657, 14.13565461, 10.90465181,\n",
       "       11.17730966, 11.90227981, 10.82581354, 13.59066842, 13.27325985,\n",
       "       12.70160056, 11.18594052, 11.54065618, 11.10837109, 10.15552844,\n",
       "       11.02300661, 11.75557165, 12.92691368, 10.10011674, 12.00099671,\n",
       "       12.85003627, 12.16914431, 11.40466932, 13.08841565, 12.2593023 ,\n",
       "       12.34336951, 12.96450973, 13.30768705,  9.75876795, 10.83685192,\n",
       "       10.96549533, 12.47363663, 11.84810231, 11.54467173, 12.76135343,\n",
       "       11.54978118, 11.89419286, 10.97572862, 11.67243547, 12.59717543,\n",
       "       10.96532707, 10.60385387, 11.75732131, 12.69119465, 12.03633461,\n",
       "       12.39414797, 13.72154312, 11.09586255, 11.28989506,  9.53018461,\n",
       "       12.65149117, 11.34860096, 11.60458414, 11.78452018, 12.12730752,\n",
       "       12.97588874, 13.09955634, 11.51022329, 11.86507249, 12.8286523 ,\n",
       "       13.19698879, 11.77640175, 12.54587023, 11.6843801 , 11.60505627,\n",
       "        7.61213645, 11.26351193, 11.8873073 , 12.18660316, 11.8862845 ,\n",
       "       12.04496517, 10.70555988, 13.09243168, 11.87997871, 10.36478501,\n",
       "       12.36564788, 12.95939318, 12.72289741,  9.80099785, 11.71286837,\n",
       "       12.33413056, 11.45834209, 12.13106689, 11.90440542, 11.80718544,\n",
       "       11.61679376, 12.54988094, 12.34030199, 13.77899553, 11.23386969,\n",
       "       11.17340265, 12.58755721, 11.57538873, 10.75979177, 13.31593109,\n",
       "       11.91580768, 13.19147052, 10.80260472, 11.19171045, 11.39709854,\n",
       "       12.7432727 , 11.8160729 , 11.54800255, 13.45968047, 13.13664399,\n",
       "       11.0733485 , 12.78947828, 11.67041215, 13.18225293, 11.47895491,\n",
       "       11.46691614, 13.06872543, 12.78668596, 12.07282534, 10.88830076,\n",
       "       11.55360798, 15.11887561, 12.32956742, 12.52195978, 13.98695083,\n",
       "       11.95922632, 11.81777395, 13.66927308, 11.47585291, 12.27257575,\n",
       "       11.979086  , 10.9344118 , 11.76352373, 12.00046103, 12.24487946,\n",
       "       12.79416785, 10.71713743, 11.19074207, 11.34733109, 11.9485852 ,\n",
       "       12.19768928, 10.09632745, 12.11444358, 13.43486185, 10.73340502,\n",
       "       11.87766302, 11.63499122, 11.72933585, 12.98741978, 13.07474304,\n",
       "       11.97392424, 13.61335888, 10.74539846, 12.34643647, 12.95672543,\n",
       "       12.38423321, 10.94244615, 11.70937953, 12.48752333, 12.20481681,\n",
       "        9.54762126, 12.55054209, 11.85074057, 11.00437336, 11.55078666,\n",
       "       13.30872289, 11.36316469, 11.73864198, 11.64902892, 10.96829912,\n",
       "       11.76753869, 12.85453711, 10.97562112, 13.00241674, 11.04077963,\n",
       "       12.45233874, 12.24992117, 11.56341481, 10.90362462, 12.07727795,\n",
       "       11.66900291, 12.31298439, 14.16470348, 11.42233867, 12.91208083,\n",
       "       10.75576596, 12.01351571, 10.87352067, 12.32266366, 11.1703597 ,\n",
       "       12.31906155, 10.77267127, 12.11043143, 13.29286465, 12.33868131,\n",
       "       11.94507925, 14.41279059, 12.1431759 , 13.37686715, 12.81882405,\n",
       "       12.0126339 , 11.53860666, 11.56113761, 11.82716172, 12.50744993,\n",
       "       11.07969801, 11.97619892, 12.74760778, 11.97907582, 10.98246166,\n",
       "       13.13140037, 12.45870413])"
      ]
     },
     "execution_count": 32,
     "metadata": {},
     "output_type": "execute_result"
    }
   ],
   "source": [
    "#Regresando las predicciones al rango de operación\n",
    "ySVMN_pr = (ySVMN_predict*(max(ySVM_test) - min(ySVM_test))) + min(ySVM_test)\n",
    "ySVMN_pr"
   ]
  },
  {
   "cell_type": "markdown",
   "id": "under-retrieval",
   "metadata": {
    "id": "under-retrieval"
   },
   "source": [
    "Comparamos el modelo a traves del error cuadratico medio:"
   ]
  },
  {
   "cell_type": "code",
   "execution_count": 34,
   "id": "boolean-suggestion",
   "metadata": {
    "id": "boolean-suggestion",
    "outputId": "8cdb71a2-ca82-4f03-8376-26ee6bb12dec"
   },
   "outputs": [
    {
     "data": {
      "text/plain": [
       "6.22452278293262"
      ]
     },
     "execution_count": 34,
     "metadata": {},
     "output_type": "execute_result"
    }
   ],
   "source": [
    "mean_squared_error(ySVM_test, ySVMN_pr)"
   ]
  },
  {
   "cell_type": "markdown",
   "id": "polar-literature",
   "metadata": {
    "id": "polar-literature"
   },
   "source": [
    "Obtenemos la precisión:"
   ]
  },
  {
   "cell_type": "code",
   "execution_count": 35,
   "id": "silent-consideration",
   "metadata": {
    "id": "silent-consideration",
    "outputId": "95e7cb0e-0c76-47ed-d43a-a50c1d5aa3d8"
   },
   "outputs": [
    {
     "name": "stdout",
     "output_type": "stream",
     "text": [
      "Accuracy: 77.2 %.\n"
     ]
    }
   ],
   "source": [
    "# Calculate mean absolute percentage error (MAPE)\n",
    "mapeSVMN = 100 * (abs(ySVMN_pr - ySVM_test.values) / ySVM_test.values)\n",
    "# Calculate and display accuracy\n",
    "accSVMN = 100 - np.mean(mapeSVMN)\n",
    "print('Accuracy:', round(accSVMN, 2), '%.')"
   ]
  },
  {
   "cell_type": "markdown",
   "id": "developing-india",
   "metadata": {
    "id": "developing-india"
   },
   "source": [
    "Graficamos resultado:"
   ]
  },
  {
   "cell_type": "code",
   "execution_count": 36,
   "id": "accepting-integral",
   "metadata": {
    "id": "accepting-integral",
    "outputId": "0495dbaf-62fe-4b83-96ae-6dbdd292324d"
   },
   "outputs": [
    {
     "data": {
      "text/plain": [
       "Text(0.5, 1.0, 'Valores medidos vs. predicciones')"
      ]
     },
     "execution_count": 36,
     "metadata": {},
     "output_type": "execute_result"
    },
    {
     "data": {
      "image/png": "[encoded data removed]",
      "text/plain": [
       "<Figure size 1152x360 with 1 Axes>"
      ]
     },
     "metadata": {},
     "output_type": "display_data"
    }
   ],
   "source": [
    "# Dataframe with predictions and dates\n",
    "predictions_dataN = XSVM_test.join(dataSVM['Timestamp']).assign(y_predict = ySVMN_pr)\n",
    "# Plot the actual values\n",
    "plt.style.use('fivethirtyeight')\n",
    "plt.figure(figsize=(16,5))\n",
    "plt.plot(dataSVM['Timestamp'], dataSVM['Humedad'], 'b-', label = 'actual')\n",
    "# Plot the predicted values\n",
    "plt.plot(predictions_dataN['Timestamp'], predictions_dataN['y_predict'], 'ro', label = 'prediction')\n",
    "plt.xticks(rotation = '60')\n",
    "plt.legend()\n",
    "# Graph labels\n",
    "plt.xlabel('Fecha'); plt.ylabel('Humedad (%)'); plt.title('Valores medidos vs. predicciones')"
   ]
  },
  {
   "cell_type": "markdown",
   "id": "c3b6b881",
   "metadata": {
    "id": "c3b6b881"
   },
   "source": [
    "### SVM con logaritmo aplicado a la salida."
   ]
  },
  {
   "cell_type": "markdown",
   "id": "05c69c8a",
   "metadata": {
    "id": "05c69c8a"
   },
   "source": [
    "Aplicamos el logaritmo a la salida:"
   ]
  },
  {
   "cell_type": "code",
   "execution_count": null,
   "id": "8ab47812",
   "metadata": {
    "id": "8ab47812"
   },
   "outputs": [],
   "source": [
    "lnySVM_train = np.log(ySVM_train.copy())\n",
    "lnySVM_test = np.log(ySVM_test.copy())"
   ]
  },
  {
   "cell_type": "markdown",
   "id": "5089b035",
   "metadata": {
    "id": "5089b035"
   },
   "source": [
    "Creamos copia de los datos de caracteristicas:"
   ]
  },
  {
   "cell_type": "code",
   "execution_count": null,
   "id": "184aaa6b",
   "metadata": {
    "id": "184aaa6b"
   },
   "outputs": [],
   "source": [
    "XSVMln_train = XSVMN_train.copy()\n",
    "XSVMln_test = XSVMN_test.copy()"
   ]
  },
  {
   "cell_type": "markdown",
   "id": "efc67e64",
   "metadata": {
    "id": "efc67e64"
   },
   "source": [
    "Entrenamos el modelo:"
   ]
  },
  {
   "cell_type": "code",
   "execution_count": null,
   "id": "84fa3120",
   "metadata": {
    "id": "84fa3120",
    "outputId": "44957a18-173f-4030-ab79-f149dece554d"
   },
   "outputs": [
    {
     "data": {
      "text/plain": [
       "SVR()"
      ]
     },
     "execution_count": 58,
     "metadata": {},
     "output_type": "execute_result"
    }
   ],
   "source": [
    "#Instanciamos el modelo con 1000 arboles de decisión\n",
    "SVMln = svm.SVR(kernel='rbf')\n",
    "#Entrenamos el modelo\n",
    "SVMln.fit(XSVMln_train, lnySVM_train)"
   ]
  },
  {
   "cell_type": "markdown",
   "id": "a489dc67",
   "metadata": {
    "id": "a489dc67"
   },
   "source": [
    "Usamos el modelo para predecir:"
   ]
  },
  {
   "cell_type": "code",
   "execution_count": null,
   "id": "d305fe7b",
   "metadata": {
    "id": "d305fe7b"
   },
   "outputs": [],
   "source": [
    "lnySVM_predict = SVMln.predict(XSVMln_test)"
   ]
  },
  {
   "cell_type": "code",
   "execution_count": null,
   "id": "6d38aa9a",
   "metadata": {
    "id": "6d38aa9a"
   },
   "outputs": [],
   "source": [
    "expySVM_predict = np.exp(lnySVM_predict)"
   ]
  },
  {
   "cell_type": "markdown",
   "id": "79d37869",
   "metadata": {
    "id": "79d37869"
   },
   "source": [
    "Comparamos el modelo a traves del error cuadratico medio:"
   ]
  },
  {
   "cell_type": "code",
   "execution_count": null,
   "id": "1a074f8b",
   "metadata": {
    "id": "1a074f8b",
    "outputId": "c6f16267-838d-4a00-9912-74ec5455e815"
   },
   "outputs": [
    {
     "data": {
      "text/plain": [
       "8.520803806624789"
      ]
     },
     "execution_count": 61,
     "metadata": {},
     "output_type": "execute_result"
    }
   ],
   "source": [
    "mean_squared_error(ySVM_test, expySVM_predict)  #Error minimo cuadrado cerca de 0.02237."
   ]
  },
  {
   "cell_type": "code",
   "execution_count": null,
   "id": "a03a2154",
   "metadata": {
    "id": "a03a2154",
    "outputId": "3e3c73d5-1f2c-4425-d289-f825e41b7aeb"
   },
   "outputs": [
    {
     "name": "stdout",
     "output_type": "stream",
     "text": [
      "Accuracy: 73.02 %.\n"
     ]
    }
   ],
   "source": [
    "# Calculate mean absolute percentage error (MAPE)\n",
    "mapeSVMln = 100 * (abs(expySVM_predict - ySVM_test.values) / ySVM_test.values)\n",
    "# Calculate and display accuracy\n",
    "accSVMln = 100 - np.mean(mapeSVMln)\n",
    "print('Accuracy:', round(accSVMln, 2), '%.')"
   ]
  },
  {
   "cell_type": "code",
   "execution_count": null,
   "id": "50247c8a",
   "metadata": {
    "id": "50247c8a",
    "outputId": "17fcb2b3-7141-455d-ebdd-2b205cad0877"
   },
   "outputs": [
    {
     "data": {
      "text/plain": [
       "Text(0.5, 1.0, 'Valores medidos vs. predicciones')"
      ]
     },
     "execution_count": 63,
     "metadata": {},
     "output_type": "execute_result"
    },
    {
     "data": {
      "image/png": "[encoded data removed]",
      "text/plain": [
       "<Figure size 1152x360 with 1 Axes>"
      ]
     },
     "metadata": {},
     "output_type": "display_data"
    }
   ],
   "source": [
    "# Dataframe with predictions and dates\n",
    "predictions_dataN = XSVMln_test.join(dataSVM['Timestamp']).assign(y_predict = expySVM_predict)\n",
    "# Plot the actual values\n",
    "plt.style.use('fivethirtyeight')\n",
    "plt.figure(figsize=(16,5))\n",
    "plt.plot(dataSVM['Timestamp'], dataSVM['Humedad'], 'b-', label = 'actual')\n",
    "# Plot the predicted values\n",
    "plt.plot(predictions_data['Timestamp'], predictions_data['y_predict'], 'ro', label = 'prediction')\n",
    "plt.xticks(rotation = '60')\n",
    "plt.legend()\n",
    "# Graph labels\n",
    "plt.xlabel('Fecha'); plt.ylabel('Humedad (%)'); plt.title('Valores medidos vs. predicciones')"
   ]
  },
  {
   "cell_type": "markdown",
   "id": "a2b79e4a",
   "metadata": {
    "id": "a2b79e4a"
   },
   "source": [
    "### Symbolic Transformer para caracteristicas"
   ]
  },
  {
   "cell_type": "markdown",
   "id": "hExlfdJyP6WP",
   "metadata": {
    "id": "hExlfdJyP6WP"
   },
   "source": [
    "Un symbolic transformer es un transformer supervisado que comienza construyendo una población fórmulas aleatorias naive para representar una relación."
   ]
  },
  {
   "cell_type": "code",
   "execution_count": 42,
   "id": "44ab4d8f",
   "metadata": {
    "id": "44ab4d8f"
   },
   "outputs": [],
   "source": [
    "from gplearn.genetic import SymbolicTransformer"
   ]
  },
  {
   "cell_type": "markdown",
   "id": "xGx0d42ZX_Gg",
   "metadata": {
    "id": "xGx0d42ZX_Gg"
   },
   "source": [
    "Corremos el SymbolicTransfomer."
   ]
  },
  {
   "cell_type": "code",
   "execution_count": 43,
   "id": "45691be1",
   "metadata": {
    "id": "45691be1",
    "outputId": "87577fc2-7f51-4c63-a70b-67bca940edad"
   },
   "outputs": [
    {
     "name": "stdout",
     "output_type": "stream",
     "text": [
      "    |   Population Average    |             Best Individual              |\n",
      "---- ------------------------- ------------------------------------------ ----------\n",
      " Gen   Length          Fitness   Length          Fitness      OOB Fitness  Time Left\n",
      "   0    10.37        0.0493865        3         0.343844         0.230883      2.10m\n",
      "   1     6.78         0.177814        5         0.363737         0.323742     30.61s\n",
      "   2     3.40         0.303733       12         0.377626         0.242741     27.77s\n",
      "   3     4.29          0.30778        9         0.385104         0.342561     26.39s\n",
      "   4     7.59         0.291752       17         0.395717         0.326108     30.09s\n",
      "   5     9.27         0.310973       14         0.406494         0.301026     25.27s\n",
      "   6    11.76         0.329991       23         0.410122         0.373445     22.97s\n",
      "   7    13.76         0.336051       23         0.412915         0.350935     20.58s\n",
      "   8    16.37         0.338763       36          0.41817         0.296603     21.73s\n",
      "   9    19.52         0.347159       26         0.419085         0.265368     18.62s\n",
      "  10    21.44         0.350017       40         0.421911         0.239601     18.96s\n",
      "  11    21.46         0.346838       24         0.421663         0.265353     15.90s\n",
      "  12    22.07         0.343776       31           0.4197         0.305575     15.17s\n",
      "  13    21.99          0.34273       20         0.420996         0.275273     12.64s\n",
      "  14    22.34         0.342967       37         0.422328         0.234017      9.79s\n",
      "  15    22.21         0.341399       18         0.425388         0.275658      8.69s\n",
      "  16    21.53         0.337556       23         0.426531         0.222816      6.54s\n",
      "  17    20.96         0.339998       39         0.423995         0.235141      4.22s\n",
      "  18    21.11         0.339203       18         0.422896         0.209763      2.06s\n",
      "  19    20.95         0.336045       16         0.428902         0.256432      0.00s\n"
     ]
    },
    {
     "data": {
      "text/plain": [
       "SymbolicTransformer(function_set=['add', 'sub', 'mul', 'div', 'sqrt', 'log',\n",
       "                                  'abs', 'neg', 'inv', 'max', 'min'],\n",
       "                    max_samples=0.9, n_jobs=3, parsimony_coefficient=0.0005,\n",
       "                    population_size=2000, random_state=0, verbose=1)"
      ]
     },
     "execution_count": 43,
     "metadata": {},
     "output_type": "execute_result"
    }
   ],
   "source": [
    "function_set = ['add', 'sub', 'mul', 'div',\n",
    "                'sqrt', 'log', 'abs', 'neg', 'inv',\n",
    "                'max', 'min']\n",
    "gp = SymbolicTransformer(generations=20, population_size=2000,\n",
    "                         hall_of_fame=100, n_components=10,\n",
    "                         function_set=function_set,\n",
    "                         parsimony_coefficient=0.0005,\n",
    "                         max_samples=0.9, verbose=1,\n",
    "                         random_state=0, n_jobs=3)\n",
    "gp.fit(XSVMN_train, ySVMN_train)"
   ]
  },
  {
   "cell_type": "code",
   "execution_count": 44,
   "id": "b7d228b7",
   "metadata": {
    "id": "b7d228b7",
    "outputId": "7ec5d2fd-b45d-400e-b1e6-afde4dc24d79"
   },
   "outputs": [
    {
     "name": "stdout",
     "output_type": "stream",
     "text": [
      "<class 'pandas.core.frame.DataFrame'>\n",
      "Int64Index: 3410 entries, 0 to 3415\n",
      "Data columns (total 25 columns):\n",
      " #   Column                  Non-Null Count  Dtype  \n",
      "---  ------                  --------------  -----  \n",
      " 0   Nivel_RVF_1             3410 non-null   float64\n",
      " 1   Nivel_RVF_2             3410 non-null   float64\n",
      " 2   Nivel_RVF_3             3410 non-null   float64\n",
      " 3   Nivel_RVF_4             3410 non-null   float64\n",
      " 4   Nivel_RVF_5             3410 non-null   float64\n",
      " 5   Nivel_RVF_6             3410 non-null   float64\n",
      " 6   Triturador_1            3410 non-null   float64\n",
      " 7   Triturador_2            3410 non-null   float64\n",
      " 8   Triturador_1_A          3410 non-null   float64\n",
      " 9   Triturador_2_A          3410 non-null   float64\n",
      " 10  Triturador_1_Bypass     3410 non-null   float64\n",
      " 11  Triturador_2_Bypass     3410 non-null   float64\n",
      " 12  TE                      3410 non-null   float64\n",
      " 13  TS                      3410 non-null   float64\n",
      " 14  Draft                   3410 non-null   float64\n",
      " 15  Damper_Reciclo          3410 non-null   float64\n",
      " 16  Damper_atm              3410 non-null   float64\n",
      " 17  Damper_scrubber         3410 non-null   float64\n",
      " 18  Motor_Secador           3410 non-null   float64\n",
      " 19  Motor_soplador_reciclo  3410 non-null   float64\n",
      " 20  Motor_gusano_descarga   3410 non-null   float64\n",
      " 21  Motor_rastra_descarga   3410 non-null   float64\n",
      " 22  Molino_salida_1         3410 non-null   float64\n",
      " 23  Molino_salida_2         3410 non-null   float64\n",
      " 24  Presion_filtro_bolsa    3410 non-null   float64\n",
      "dtypes: float64(25)\n",
      "memory usage: 821.7 KB\n"
     ]
    }
   ],
   "source": [
    "#Normalizar X\n",
    "XSVMN = dataSVM.iloc[:,2:]\n",
    "\n",
    "\n",
    "\n",
    "XSVMN_columns = XSVMN.columns\n",
    "for i in XSVMN_columns:\n",
    "    XSVMN.loc[:,(i)] = (XSVMN.loc[:,(i)] - XSVMN.loc[:,(i)].min()) / (XSVMN.loc[:,(i)].max() - XSVMN.loc[:,(i)].min())\n",
    "\n",
    "    \n",
    "XSVMN.info()"
   ]
  },
  {
   "cell_type": "code",
   "execution_count": 45,
   "id": "c8a0af06",
   "metadata": {
    "id": "c8a0af06",
    "outputId": "e7349614-b2b6-4031-8418-a0002e6460b9"
   },
   "outputs": [
    {
     "data": {
      "text/html": [
       "<div>\n",
       "<style scoped>\n",
       "    .dataframe tbody tr th:only-of-type {\n",
       "        vertical-align: middle;\n",
       "    }\n",
       "\n",
       "    .dataframe tbody tr th {\n",
       "        vertical-align: top;\n",
       "    }\n",
       "\n",
       "    .dataframe thead th {\n",
       "        text-align: right;\n",
       "    }\n",
       "</style>\n",
       "<table border=\"1\" class=\"dataframe\">\n",
       "  <thead>\n",
       "    <tr style=\"text-align: right;\">\n",
       "      <th></th>\n",
       "      <th>0</th>\n",
       "      <th>1</th>\n",
       "      <th>2</th>\n",
       "      <th>3</th>\n",
       "      <th>4</th>\n",
       "      <th>5</th>\n",
       "      <th>6</th>\n",
       "      <th>7</th>\n",
       "      <th>8</th>\n",
       "      <th>9</th>\n",
       "      <th>...</th>\n",
       "      <th>25</th>\n",
       "      <th>26</th>\n",
       "      <th>27</th>\n",
       "      <th>28</th>\n",
       "      <th>29</th>\n",
       "      <th>30</th>\n",
       "      <th>31</th>\n",
       "      <th>32</th>\n",
       "      <th>33</th>\n",
       "      <th>34</th>\n",
       "    </tr>\n",
       "  </thead>\n",
       "  <tbody>\n",
       "    <tr>\n",
       "      <th>2588</th>\n",
       "      <td>0.816888</td>\n",
       "      <td>0.876044</td>\n",
       "      <td>0.698050</td>\n",
       "      <td>0.921756</td>\n",
       "      <td>0.765392</td>\n",
       "      <td>0.783251</td>\n",
       "      <td>1.0</td>\n",
       "      <td>0.0</td>\n",
       "      <td>0.083395</td>\n",
       "      <td>0.000000</td>\n",
       "      <td>...</td>\n",
       "      <td>1.614151</td>\n",
       "      <td>1.508643</td>\n",
       "      <td>0.484027</td>\n",
       "      <td>0.619521</td>\n",
       "      <td>0.640764</td>\n",
       "      <td>1.223728</td>\n",
       "      <td>1.614151</td>\n",
       "      <td>0.895820</td>\n",
       "      <td>1.709162</td>\n",
       "      <td>1.358143</td>\n",
       "    </tr>\n",
       "    <tr>\n",
       "      <th>2031</th>\n",
       "      <td>0.728777</td>\n",
       "      <td>0.822335</td>\n",
       "      <td>0.754233</td>\n",
       "      <td>0.753358</td>\n",
       "      <td>0.733012</td>\n",
       "      <td>0.754451</td>\n",
       "      <td>1.0</td>\n",
       "      <td>0.0</td>\n",
       "      <td>0.087533</td>\n",
       "      <td>0.000000</td>\n",
       "      <td>...</td>\n",
       "      <td>1.922084</td>\n",
       "      <td>2.060005</td>\n",
       "      <td>1.188777</td>\n",
       "      <td>0.520269</td>\n",
       "      <td>0.540892</td>\n",
       "      <td>1.650309</td>\n",
       "      <td>1.922084</td>\n",
       "      <td>1.432067</td>\n",
       "      <td>1.457345</td>\n",
       "      <td>1.776348</td>\n",
       "    </tr>\n",
       "    <tr>\n",
       "      <th>2081</th>\n",
       "      <td>0.724026</td>\n",
       "      <td>0.828609</td>\n",
       "      <td>0.750112</td>\n",
       "      <td>0.754885</td>\n",
       "      <td>0.729147</td>\n",
       "      <td>0.746786</td>\n",
       "      <td>1.0</td>\n",
       "      <td>0.0</td>\n",
       "      <td>0.087937</td>\n",
       "      <td>0.000000</td>\n",
       "      <td>...</td>\n",
       "      <td>1.550249</td>\n",
       "      <td>1.587638</td>\n",
       "      <td>0.594590</td>\n",
       "      <td>0.645058</td>\n",
       "      <td>0.664874</td>\n",
       "      <td>1.195243</td>\n",
       "      <td>1.550249</td>\n",
       "      <td>0.902331</td>\n",
       "      <td>1.783378</td>\n",
       "      <td>1.294057</td>\n",
       "    </tr>\n",
       "    <tr>\n",
       "      <th>2174</th>\n",
       "      <td>0.870223</td>\n",
       "      <td>0.882191</td>\n",
       "      <td>0.896412</td>\n",
       "      <td>0.150578</td>\n",
       "      <td>0.103240</td>\n",
       "      <td>0.808278</td>\n",
       "      <td>1.0</td>\n",
       "      <td>0.0</td>\n",
       "      <td>0.088569</td>\n",
       "      <td>0.000000</td>\n",
       "      <td>...</td>\n",
       "      <td>1.833130</td>\n",
       "      <td>1.759367</td>\n",
       "      <td>0.846754</td>\n",
       "      <td>0.545515</td>\n",
       "      <td>0.582132</td>\n",
       "      <td>1.465130</td>\n",
       "      <td>1.833130</td>\n",
       "      <td>1.246672</td>\n",
       "      <td>1.509289</td>\n",
       "      <td>1.576004</td>\n",
       "    </tr>\n",
       "    <tr>\n",
       "      <th>2463</th>\n",
       "      <td>0.726547</td>\n",
       "      <td>0.796411</td>\n",
       "      <td>0.573171</td>\n",
       "      <td>0.891818</td>\n",
       "      <td>0.789295</td>\n",
       "      <td>0.807773</td>\n",
       "      <td>1.0</td>\n",
       "      <td>0.0</td>\n",
       "      <td>0.134213</td>\n",
       "      <td>0.000000</td>\n",
       "      <td>...</td>\n",
       "      <td>2.358313</td>\n",
       "      <td>2.438598</td>\n",
       "      <td>1.684746</td>\n",
       "      <td>0.424032</td>\n",
       "      <td>0.450314</td>\n",
       "      <td>2.103621</td>\n",
       "      <td>2.358313</td>\n",
       "      <td>1.955604</td>\n",
       "      <td>1.219339</td>\n",
       "      <td>2.216667</td>\n",
       "    </tr>\n",
       "    <tr>\n",
       "      <th>...</th>\n",
       "      <td>...</td>\n",
       "      <td>...</td>\n",
       "      <td>...</td>\n",
       "      <td>...</td>\n",
       "      <td>...</td>\n",
       "      <td>...</td>\n",
       "      <td>...</td>\n",
       "      <td>...</td>\n",
       "      <td>...</td>\n",
       "      <td>...</td>\n",
       "      <td>...</td>\n",
       "      <td>...</td>\n",
       "      <td>...</td>\n",
       "      <td>...</td>\n",
       "      <td>...</td>\n",
       "      <td>...</td>\n",
       "      <td>...</td>\n",
       "      <td>...</td>\n",
       "      <td>...</td>\n",
       "      <td>...</td>\n",
       "      <td>...</td>\n",
       "    </tr>\n",
       "    <tr>\n",
       "      <th>1096</th>\n",
       "      <td>0.769901</td>\n",
       "      <td>0.875304</td>\n",
       "      <td>0.799597</td>\n",
       "      <td>0.798292</td>\n",
       "      <td>0.789364</td>\n",
       "      <td>0.747973</td>\n",
       "      <td>1.0</td>\n",
       "      <td>0.0</td>\n",
       "      <td>0.081495</td>\n",
       "      <td>0.000000</td>\n",
       "      <td>...</td>\n",
       "      <td>1.286370</td>\n",
       "      <td>1.165222</td>\n",
       "      <td>-0.097552</td>\n",
       "      <td>0.777381</td>\n",
       "      <td>0.764686</td>\n",
       "      <td>0.970271</td>\n",
       "      <td>1.286370</td>\n",
       "      <td>0.358278</td>\n",
       "      <td>2.086548</td>\n",
       "      <td>0.984702</td>\n",
       "    </tr>\n",
       "    <tr>\n",
       "      <th>1131</th>\n",
       "      <td>0.302569</td>\n",
       "      <td>0.871901</td>\n",
       "      <td>0.809953</td>\n",
       "      <td>0.813135</td>\n",
       "      <td>0.783934</td>\n",
       "      <td>0.760402</td>\n",
       "      <td>1.0</td>\n",
       "      <td>0.0</td>\n",
       "      <td>0.084725</td>\n",
       "      <td>0.000000</td>\n",
       "      <td>...</td>\n",
       "      <td>1.492227</td>\n",
       "      <td>1.829933</td>\n",
       "      <td>0.833705</td>\n",
       "      <td>0.670139</td>\n",
       "      <td>0.623869</td>\n",
       "      <td>1.114645</td>\n",
       "      <td>1.492227</td>\n",
       "      <td>1.136507</td>\n",
       "      <td>1.770520</td>\n",
       "      <td>1.306526</td>\n",
       "    </tr>\n",
       "    <tr>\n",
       "      <th>1295</th>\n",
       "      <td>0.763233</td>\n",
       "      <td>0.872587</td>\n",
       "      <td>0.789499</td>\n",
       "      <td>0.710703</td>\n",
       "      <td>0.784400</td>\n",
       "      <td>0.809104</td>\n",
       "      <td>1.0</td>\n",
       "      <td>0.0</td>\n",
       "      <td>0.083957</td>\n",
       "      <td>0.000000</td>\n",
       "      <td>...</td>\n",
       "      <td>1.258587</td>\n",
       "      <td>1.073204</td>\n",
       "      <td>-0.214251</td>\n",
       "      <td>0.794542</td>\n",
       "      <td>0.795138</td>\n",
       "      <td>0.931794</td>\n",
       "      <td>1.258587</td>\n",
       "      <td>0.194015</td>\n",
       "      <td>2.203252</td>\n",
       "      <td>0.902780</td>\n",
       "    </tr>\n",
       "    <tr>\n",
       "      <th>861</th>\n",
       "      <td>0.760429</td>\n",
       "      <td>0.893315</td>\n",
       "      <td>0.796000</td>\n",
       "      <td>0.808195</td>\n",
       "      <td>0.767364</td>\n",
       "      <td>0.782121</td>\n",
       "      <td>1.0</td>\n",
       "      <td>0.0</td>\n",
       "      <td>0.202528</td>\n",
       "      <td>0.000000</td>\n",
       "      <td>...</td>\n",
       "      <td>1.539754</td>\n",
       "      <td>1.484467</td>\n",
       "      <td>0.435363</td>\n",
       "      <td>0.649454</td>\n",
       "      <td>0.662828</td>\n",
       "      <td>1.165589</td>\n",
       "      <td>1.539754</td>\n",
       "      <td>0.824649</td>\n",
       "      <td>1.785515</td>\n",
       "      <td>1.302611</td>\n",
       "    </tr>\n",
       "    <tr>\n",
       "      <th>3180</th>\n",
       "      <td>0.797483</td>\n",
       "      <td>0.853114</td>\n",
       "      <td>0.899355</td>\n",
       "      <td>0.913981</td>\n",
       "      <td>0.789753</td>\n",
       "      <td>0.809238</td>\n",
       "      <td>0.0</td>\n",
       "      <td>1.0</td>\n",
       "      <td>0.000000</td>\n",
       "      <td>0.237334</td>\n",
       "      <td>...</td>\n",
       "      <td>1.563597</td>\n",
       "      <td>1.333910</td>\n",
       "      <td>0.248005</td>\n",
       "      <td>0.639551</td>\n",
       "      <td>0.657858</td>\n",
       "      <td>1.039038</td>\n",
       "      <td>1.563597</td>\n",
       "      <td>0.707658</td>\n",
       "      <td>1.775382</td>\n",
       "      <td>1.197196</td>\n",
       "    </tr>\n",
       "  </tbody>\n",
       "</table>\n",
       "<p>2728 rows × 35 columns</p>\n",
       "</div>"
      ],
      "text/plain": [
       "            0         1         2         3         4         5    6    7   \\\n",
       "2588  0.816888  0.876044  0.698050  0.921756  0.765392  0.783251  1.0  0.0   \n",
       "2031  0.728777  0.822335  0.754233  0.753358  0.733012  0.754451  1.0  0.0   \n",
       "2081  0.724026  0.828609  0.750112  0.754885  0.729147  0.746786  1.0  0.0   \n",
       "2174  0.870223  0.882191  0.896412  0.150578  0.103240  0.808278  1.0  0.0   \n",
       "2463  0.726547  0.796411  0.573171  0.891818  0.789295  0.807773  1.0  0.0   \n",
       "...        ...       ...       ...       ...       ...       ...  ...  ...   \n",
       "1096  0.769901  0.875304  0.799597  0.798292  0.789364  0.747973  1.0  0.0   \n",
       "1131  0.302569  0.871901  0.809953  0.813135  0.783934  0.760402  1.0  0.0   \n",
       "1295  0.763233  0.872587  0.789499  0.710703  0.784400  0.809104  1.0  0.0   \n",
       "861   0.760429  0.893315  0.796000  0.808195  0.767364  0.782121  1.0  0.0   \n",
       "3180  0.797483  0.853114  0.899355  0.913981  0.789753  0.809238  0.0  1.0   \n",
       "\n",
       "            8         9   ...        25        26        27        28  \\\n",
       "2588  0.083395  0.000000  ...  1.614151  1.508643  0.484027  0.619521   \n",
       "2031  0.087533  0.000000  ...  1.922084  2.060005  1.188777  0.520269   \n",
       "2081  0.087937  0.000000  ...  1.550249  1.587638  0.594590  0.645058   \n",
       "2174  0.088569  0.000000  ...  1.833130  1.759367  0.846754  0.545515   \n",
       "2463  0.134213  0.000000  ...  2.358313  2.438598  1.684746  0.424032   \n",
       "...        ...       ...  ...       ...       ...       ...       ...   \n",
       "1096  0.081495  0.000000  ...  1.286370  1.165222 -0.097552  0.777381   \n",
       "1131  0.084725  0.000000  ...  1.492227  1.829933  0.833705  0.670139   \n",
       "1295  0.083957  0.000000  ...  1.258587  1.073204 -0.214251  0.794542   \n",
       "861   0.202528  0.000000  ...  1.539754  1.484467  0.435363  0.649454   \n",
       "3180  0.000000  0.237334  ...  1.563597  1.333910  0.248005  0.639551   \n",
       "\n",
       "            29        30        31        32        33        34  \n",
       "2588  0.640764  1.223728  1.614151  0.895820  1.709162  1.358143  \n",
       "2031  0.540892  1.650309  1.922084  1.432067  1.457345  1.776348  \n",
       "2081  0.664874  1.195243  1.550249  0.902331  1.783378  1.294057  \n",
       "2174  0.582132  1.465130  1.833130  1.246672  1.509289  1.576004  \n",
       "2463  0.450314  2.103621  2.358313  1.955604  1.219339  2.216667  \n",
       "...        ...       ...       ...       ...       ...       ...  \n",
       "1096  0.764686  0.970271  1.286370  0.358278  2.086548  0.984702  \n",
       "1131  0.623869  1.114645  1.492227  1.136507  1.770520  1.306526  \n",
       "1295  0.795138  0.931794  1.258587  0.194015  2.203252  0.902780  \n",
       "861   0.662828  1.165589  1.539754  0.824649  1.785515  1.302611  \n",
       "3180  0.657858  1.039038  1.563597  0.707658  1.775382  1.197196  \n",
       "\n",
       "[2728 rows x 35 columns]"
      ]
     },
     "execution_count": 45,
     "metadata": {},
     "output_type": "execute_result"
    }
   ],
   "source": [
    "gp_featuresXSVMN_train = gp.transform(XSVMN_train)\n",
    "new_XSVMN_train = np.hstack((XSVMN_train, gp_featuresXSVMN_train))\n",
    "\n",
    "new_XSVMN_train = pd.DataFrame(new_XSVMN_train, index = XSVMN_train.index)\n",
    "\n",
    "new_XSVMN_train"
   ]
  },
  {
   "cell_type": "code",
   "execution_count": 46,
   "id": "19b2010c",
   "metadata": {
    "id": "19b2010c",
    "outputId": "394eebab-1f05-41a9-f354-6c011992dd71"
   },
   "outputs": [
    {
     "data": {
      "text/html": [
       "<div>\n",
       "<style scoped>\n",
       "    .dataframe tbody tr th:only-of-type {\n",
       "        vertical-align: middle;\n",
       "    }\n",
       "\n",
       "    .dataframe tbody tr th {\n",
       "        vertical-align: top;\n",
       "    }\n",
       "\n",
       "    .dataframe thead th {\n",
       "        text-align: right;\n",
       "    }\n",
       "</style>\n",
       "<table border=\"1\" class=\"dataframe\">\n",
       "  <thead>\n",
       "    <tr style=\"text-align: right;\">\n",
       "      <th></th>\n",
       "      <th>0</th>\n",
       "      <th>1</th>\n",
       "      <th>2</th>\n",
       "      <th>3</th>\n",
       "      <th>4</th>\n",
       "      <th>5</th>\n",
       "      <th>6</th>\n",
       "      <th>7</th>\n",
       "      <th>8</th>\n",
       "      <th>9</th>\n",
       "      <th>...</th>\n",
       "      <th>25</th>\n",
       "      <th>26</th>\n",
       "      <th>27</th>\n",
       "      <th>28</th>\n",
       "      <th>29</th>\n",
       "      <th>30</th>\n",
       "      <th>31</th>\n",
       "      <th>32</th>\n",
       "      <th>33</th>\n",
       "      <th>34</th>\n",
       "    </tr>\n",
       "  </thead>\n",
       "  <tbody>\n",
       "    <tr>\n",
       "      <th>3140</th>\n",
       "      <td>0.724068</td>\n",
       "      <td>0.829047</td>\n",
       "      <td>0.834406</td>\n",
       "      <td>0.805513</td>\n",
       "      <td>0.808871</td>\n",
       "      <td>0.802234</td>\n",
       "      <td>0.0</td>\n",
       "      <td>1.0</td>\n",
       "      <td>0.000000</td>\n",
       "      <td>0.226303</td>\n",
       "      <td>...</td>\n",
       "      <td>1.471452</td>\n",
       "      <td>1.453600</td>\n",
       "      <td>0.417823</td>\n",
       "      <td>0.679601</td>\n",
       "      <td>0.700478</td>\n",
       "      <td>1.098427</td>\n",
       "      <td>1.471452</td>\n",
       "      <td>0.704395</td>\n",
       "      <td>1.900381</td>\n",
       "      <td>1.182105</td>\n",
       "    </tr>\n",
       "    <tr>\n",
       "      <th>1790</th>\n",
       "      <td>0.797680</td>\n",
       "      <td>0.881601</td>\n",
       "      <td>0.887069</td>\n",
       "      <td>0.888599</td>\n",
       "      <td>0.802135</td>\n",
       "      <td>0.797004</td>\n",
       "      <td>1.0</td>\n",
       "      <td>0.0</td>\n",
       "      <td>0.257337</td>\n",
       "      <td>0.000000</td>\n",
       "      <td>...</td>\n",
       "      <td>1.246356</td>\n",
       "      <td>1.009606</td>\n",
       "      <td>-0.338999</td>\n",
       "      <td>0.802339</td>\n",
       "      <td>0.821145</td>\n",
       "      <td>0.945093</td>\n",
       "      <td>1.246356</td>\n",
       "      <td>0.020498</td>\n",
       "      <td>2.327195</td>\n",
       "      <td>0.815657</td>\n",
       "    </tr>\n",
       "    <tr>\n",
       "      <th>170</th>\n",
       "      <td>0.158775</td>\n",
       "      <td>0.971311</td>\n",
       "      <td>0.829685</td>\n",
       "      <td>0.825992</td>\n",
       "      <td>0.782583</td>\n",
       "      <td>0.800202</td>\n",
       "      <td>0.0</td>\n",
       "      <td>1.0</td>\n",
       "      <td>0.000000</td>\n",
       "      <td>0.281003</td>\n",
       "      <td>...</td>\n",
       "      <td>1.276160</td>\n",
       "      <td>1.473244</td>\n",
       "      <td>0.439960</td>\n",
       "      <td>0.783601</td>\n",
       "      <td>0.691808</td>\n",
       "      <td>1.084940</td>\n",
       "      <td>1.276160</td>\n",
       "      <td>0.472704</td>\n",
       "      <td>1.974040</td>\n",
       "      <td>1.157099</td>\n",
       "    </tr>\n",
       "    <tr>\n",
       "      <th>681</th>\n",
       "      <td>0.784408</td>\n",
       "      <td>0.891476</td>\n",
       "      <td>0.828759</td>\n",
       "      <td>0.796357</td>\n",
       "      <td>0.796785</td>\n",
       "      <td>0.801667</td>\n",
       "      <td>1.0</td>\n",
       "      <td>0.0</td>\n",
       "      <td>0.451563</td>\n",
       "      <td>0.000000</td>\n",
       "      <td>...</td>\n",
       "      <td>1.299071</td>\n",
       "      <td>1.131492</td>\n",
       "      <td>-0.084516</td>\n",
       "      <td>0.769781</td>\n",
       "      <td>0.781927</td>\n",
       "      <td>0.936896</td>\n",
       "      <td>0.755442</td>\n",
       "      <td>0.257652</td>\n",
       "      <td>2.159235</td>\n",
       "      <td>0.938754</td>\n",
       "    </tr>\n",
       "    <tr>\n",
       "      <th>2806</th>\n",
       "      <td>0.902546</td>\n",
       "      <td>0.914895</td>\n",
       "      <td>0.808586</td>\n",
       "      <td>0.902220</td>\n",
       "      <td>0.806101</td>\n",
       "      <td>0.684141</td>\n",
       "      <td>0.0</td>\n",
       "      <td>1.0</td>\n",
       "      <td>0.000000</td>\n",
       "      <td>0.285428</td>\n",
       "      <td>...</td>\n",
       "      <td>1.349758</td>\n",
       "      <td>1.081108</td>\n",
       "      <td>-0.139310</td>\n",
       "      <td>0.740874</td>\n",
       "      <td>0.770925</td>\n",
       "      <td>0.937457</td>\n",
       "      <td>1.349758</td>\n",
       "      <td>0.240275</td>\n",
       "      <td>2.125977</td>\n",
       "      <td>0.926261</td>\n",
       "    </tr>\n",
       "    <tr>\n",
       "      <th>...</th>\n",
       "      <td>...</td>\n",
       "      <td>...</td>\n",
       "      <td>...</td>\n",
       "      <td>...</td>\n",
       "      <td>...</td>\n",
       "      <td>...</td>\n",
       "      <td>...</td>\n",
       "      <td>...</td>\n",
       "      <td>...</td>\n",
       "      <td>...</td>\n",
       "      <td>...</td>\n",
       "      <td>...</td>\n",
       "      <td>...</td>\n",
       "      <td>...</td>\n",
       "      <td>...</td>\n",
       "      <td>...</td>\n",
       "      <td>...</td>\n",
       "      <td>...</td>\n",
       "      <td>...</td>\n",
       "      <td>...</td>\n",
       "      <td>...</td>\n",
       "    </tr>\n",
       "    <tr>\n",
       "      <th>1911</th>\n",
       "      <td>0.742463</td>\n",
       "      <td>0.848866</td>\n",
       "      <td>0.936187</td>\n",
       "      <td>0.907486</td>\n",
       "      <td>0.793727</td>\n",
       "      <td>0.809617</td>\n",
       "      <td>1.0</td>\n",
       "      <td>0.0</td>\n",
       "      <td>0.589871</td>\n",
       "      <td>0.000000</td>\n",
       "      <td>...</td>\n",
       "      <td>1.385511</td>\n",
       "      <td>1.245333</td>\n",
       "      <td>0.112391</td>\n",
       "      <td>0.721755</td>\n",
       "      <td>0.741534</td>\n",
       "      <td>0.962744</td>\n",
       "      <td>1.385511</td>\n",
       "      <td>0.419481</td>\n",
       "      <td>2.054096</td>\n",
       "      <td>1.054806</td>\n",
       "    </tr>\n",
       "    <tr>\n",
       "      <th>1221</th>\n",
       "      <td>0.824173</td>\n",
       "      <td>0.918278</td>\n",
       "      <td>0.315734</td>\n",
       "      <td>0.875098</td>\n",
       "      <td>0.806498</td>\n",
       "      <td>0.104242</td>\n",
       "      <td>1.0</td>\n",
       "      <td>0.0</td>\n",
       "      <td>0.253137</td>\n",
       "      <td>0.000000</td>\n",
       "      <td>...</td>\n",
       "      <td>1.316565</td>\n",
       "      <td>1.265883</td>\n",
       "      <td>0.090740</td>\n",
       "      <td>0.759552</td>\n",
       "      <td>0.759207</td>\n",
       "      <td>1.130999</td>\n",
       "      <td>1.316565</td>\n",
       "      <td>0.475909</td>\n",
       "      <td>2.024100</td>\n",
       "      <td>1.018121</td>\n",
       "    </tr>\n",
       "    <tr>\n",
       "      <th>573</th>\n",
       "      <td>0.581214</td>\n",
       "      <td>0.905059</td>\n",
       "      <td>0.782680</td>\n",
       "      <td>0.776502</td>\n",
       "      <td>0.794309</td>\n",
       "      <td>0.806058</td>\n",
       "      <td>0.0</td>\n",
       "      <td>1.0</td>\n",
       "      <td>0.000000</td>\n",
       "      <td>0.241154</td>\n",
       "      <td>...</td>\n",
       "      <td>1.277247</td>\n",
       "      <td>1.354927</td>\n",
       "      <td>0.157743</td>\n",
       "      <td>0.782934</td>\n",
       "      <td>0.738477</td>\n",
       "      <td>1.107347</td>\n",
       "      <td>1.277247</td>\n",
       "      <td>0.566214</td>\n",
       "      <td>2.016549</td>\n",
       "      <td>1.076958</td>\n",
       "    </tr>\n",
       "    <tr>\n",
       "      <th>1546</th>\n",
       "      <td>0.860378</td>\n",
       "      <td>0.892732</td>\n",
       "      <td>0.905838</td>\n",
       "      <td>0.913802</td>\n",
       "      <td>0.794286</td>\n",
       "      <td>0.804620</td>\n",
       "      <td>1.0</td>\n",
       "      <td>0.0</td>\n",
       "      <td>0.366539</td>\n",
       "      <td>0.000000</td>\n",
       "      <td>...</td>\n",
       "      <td>0.903809</td>\n",
       "      <td>0.882717</td>\n",
       "      <td>-0.864159</td>\n",
       "      <td>0.869423</td>\n",
       "      <td>0.789293</td>\n",
       "      <td>0.912414</td>\n",
       "      <td>0.903809</td>\n",
       "      <td>-0.283079</td>\n",
       "      <td>2.632656</td>\n",
       "      <td>0.671991</td>\n",
       "    </tr>\n",
       "    <tr>\n",
       "      <th>1323</th>\n",
       "      <td>0.845275</td>\n",
       "      <td>0.900877</td>\n",
       "      <td>0.897260</td>\n",
       "      <td>0.000000</td>\n",
       "      <td>0.818053</td>\n",
       "      <td>0.761184</td>\n",
       "      <td>1.0</td>\n",
       "      <td>0.0</td>\n",
       "      <td>0.246414</td>\n",
       "      <td>0.000000</td>\n",
       "      <td>...</td>\n",
       "      <td>1.434711</td>\n",
       "      <td>1.402767</td>\n",
       "      <td>0.317597</td>\n",
       "      <td>0.697004</td>\n",
       "      <td>0.715440</td>\n",
       "      <td>1.215139</td>\n",
       "      <td>1.434711</td>\n",
       "      <td>0.670442</td>\n",
       "      <td>1.903633</td>\n",
       "      <td>1.151942</td>\n",
       "    </tr>\n",
       "  </tbody>\n",
       "</table>\n",
       "<p>682 rows × 35 columns</p>\n",
       "</div>"
      ],
      "text/plain": [
       "            0         1         2         3         4         5    6    7   \\\n",
       "3140  0.724068  0.829047  0.834406  0.805513  0.808871  0.802234  0.0  1.0   \n",
       "1790  0.797680  0.881601  0.887069  0.888599  0.802135  0.797004  1.0  0.0   \n",
       "170   0.158775  0.971311  0.829685  0.825992  0.782583  0.800202  0.0  1.0   \n",
       "681   0.784408  0.891476  0.828759  0.796357  0.796785  0.801667  1.0  0.0   \n",
       "2806  0.902546  0.914895  0.808586  0.902220  0.806101  0.684141  0.0  1.0   \n",
       "...        ...       ...       ...       ...       ...       ...  ...  ...   \n",
       "1911  0.742463  0.848866  0.936187  0.907486  0.793727  0.809617  1.0  0.0   \n",
       "1221  0.824173  0.918278  0.315734  0.875098  0.806498  0.104242  1.0  0.0   \n",
       "573   0.581214  0.905059  0.782680  0.776502  0.794309  0.806058  0.0  1.0   \n",
       "1546  0.860378  0.892732  0.905838  0.913802  0.794286  0.804620  1.0  0.0   \n",
       "1323  0.845275  0.900877  0.897260  0.000000  0.818053  0.761184  1.0  0.0   \n",
       "\n",
       "            8         9   ...        25        26        27        28  \\\n",
       "3140  0.000000  0.226303  ...  1.471452  1.453600  0.417823  0.679601   \n",
       "1790  0.257337  0.000000  ...  1.246356  1.009606 -0.338999  0.802339   \n",
       "170   0.000000  0.281003  ...  1.276160  1.473244  0.439960  0.783601   \n",
       "681   0.451563  0.000000  ...  1.299071  1.131492 -0.084516  0.769781   \n",
       "2806  0.000000  0.285428  ...  1.349758  1.081108 -0.139310  0.740874   \n",
       "...        ...       ...  ...       ...       ...       ...       ...   \n",
       "1911  0.589871  0.000000  ...  1.385511  1.245333  0.112391  0.721755   \n",
       "1221  0.253137  0.000000  ...  1.316565  1.265883  0.090740  0.759552   \n",
       "573   0.000000  0.241154  ...  1.277247  1.354927  0.157743  0.782934   \n",
       "1546  0.366539  0.000000  ...  0.903809  0.882717 -0.864159  0.869423   \n",
       "1323  0.246414  0.000000  ...  1.434711  1.402767  0.317597  0.697004   \n",
       "\n",
       "            29        30        31        32        33        34  \n",
       "3140  0.700478  1.098427  1.471452  0.704395  1.900381  1.182105  \n",
       "1790  0.821145  0.945093  1.246356  0.020498  2.327195  0.815657  \n",
       "170   0.691808  1.084940  1.276160  0.472704  1.974040  1.157099  \n",
       "681   0.781927  0.936896  0.755442  0.257652  2.159235  0.938754  \n",
       "2806  0.770925  0.937457  1.349758  0.240275  2.125977  0.926261  \n",
       "...        ...       ...       ...       ...       ...       ...  \n",
       "1911  0.741534  0.962744  1.385511  0.419481  2.054096  1.054806  \n",
       "1221  0.759207  1.130999  1.316565  0.475909  2.024100  1.018121  \n",
       "573   0.738477  1.107347  1.277247  0.566214  2.016549  1.076958  \n",
       "1546  0.789293  0.912414  0.903809 -0.283079  2.632656  0.671991  \n",
       "1323  0.715440  1.215139  1.434711  0.670442  1.903633  1.151942  \n",
       "\n",
       "[682 rows x 35 columns]"
      ]
     },
     "execution_count": 46,
     "metadata": {},
     "output_type": "execute_result"
    }
   ],
   "source": [
    "gp_featuresXSVMN_test = gp.transform(XSVMN_test)\n",
    "new_XSVMN_test = np.hstack((XSVMN_test, gp_featuresXSVMN_test))\n",
    "\n",
    "new_XSVMN_test = pd.DataFrame(new_XSVMN_test, index = XSVMN_test.index)\n",
    "\n",
    "new_XSVMN_test"
   ]
  },
  {
   "cell_type": "markdown",
   "id": "_EGNdjcdYOaC",
   "metadata": {
    "id": "_EGNdjcdYOaC"
   },
   "source": [
    "Corremos el SVM."
   ]
  },
  {
   "cell_type": "code",
   "execution_count": 47,
   "id": "ed9fa9d4",
   "metadata": {
    "id": "ed9fa9d4",
    "outputId": "d693faf7-63e2-4216-8e50-87d17baec721"
   },
   "outputs": [
    {
     "data": {
      "text/plain": [
       "SVR()"
      ]
     },
     "execution_count": 47,
     "metadata": {},
     "output_type": "execute_result"
    }
   ],
   "source": [
    "SVMgp = svm.SVR(kernel='rbf')\n",
    "#Entrenamos el modelo\n",
    "SVMgp.fit(new_XSVMN_train, ySVMN_train)"
   ]
  },
  {
   "cell_type": "markdown",
   "id": "emotional-benchmark",
   "metadata": {},
   "source": [
    "Usamos el modelo para predecir:"
   ]
  },
  {
   "cell_type": "code",
   "execution_count": 48,
   "id": "6246beb2",
   "metadata": {
    "id": "6246beb2"
   },
   "outputs": [],
   "source": [
    "new_ySVMN_predict = SVMgp.predict(new_XSVMN_test)"
   ]
  },
  {
   "cell_type": "markdown",
   "id": "beautiful-crime",
   "metadata": {},
   "source": [
    "Regresamos los datos al rango de operación:"
   ]
  },
  {
   "cell_type": "code",
   "execution_count": 49,
   "id": "proprietary-hearing",
   "metadata": {},
   "outputs": [
    {
     "data": {
      "text/plain": [
       "array([10.9935133 , 11.46841621, 10.62658251, 12.91479844, 11.00296241,\n",
       "       11.35980766, 11.40305456, 11.66374689, 11.0172968 , 12.26738917,\n",
       "       11.03125719, 10.48172377, 11.55915761, 11.26078893, 12.3343835 ,\n",
       "       11.20299288, 11.39324559, 11.61880523, 11.93984822, 11.53602391,\n",
       "       11.67174149, 11.08624726, 13.02356339, 12.53266417, 12.69400771,\n",
       "       12.4168704 , 12.20384062, 12.10595011, 12.07063658, 11.72813231,\n",
       "       11.86567976, 10.96415944, 10.65492697, 11.02540581, 10.66456527,\n",
       "       11.76529664, 11.20022863, 10.64009608, 11.79407925, 11.39365914,\n",
       "       12.31403921, 10.77033104, 11.73029015, 11.80826271, 11.8312983 ,\n",
       "       11.25291644, 11.29891274, 11.70429066, 10.90743565, 11.79829551,\n",
       "       12.09275112, 12.20033577, 11.20965648, 12.62994126, 12.2642193 ,\n",
       "       11.27945352, 12.49671785, 12.23359407, 11.75578333, 11.79480065,\n",
       "       11.71690334, 11.71330652, 10.43590989, 11.70098568, 10.85956625,\n",
       "       11.45804242, 11.9518328 , 11.60121823, 11.10276085, 11.0936063 ,\n",
       "       11.07546898, 11.09581186, 12.24731874, 11.14517652, 11.59353311,\n",
       "       11.36354335, 11.64409078, 10.49149487, 10.87599858, 12.25433515,\n",
       "       10.08146918, 12.22916611, 10.82537864, 12.12398159, 11.74817258,\n",
       "       11.14593292, 11.39115618, 11.78773199, 11.38896016, 12.15720742,\n",
       "       11.54677034, 11.50079833, 10.92154066, 11.43740921, 12.41825439,\n",
       "       12.45201416, 11.58496293, 11.77690674, 11.65838022, 10.93139795,\n",
       "       11.8669336 , 11.74213738, 11.11189474, 11.34291358, 11.14981192,\n",
       "       10.85699146, 11.88970094, 12.35384376, 11.4044626 , 11.56686277,\n",
       "       10.22680277, 11.06771759, 13.22754433, 11.19124745, 11.47440355,\n",
       "       11.00287578, 12.03893472, 11.90750811, 10.91292711, 11.01308423,\n",
       "       11.2528376 , 11.02401906, 11.78397619, 10.53561802, 13.20117195,\n",
       "       11.80226165, 11.72781933, 12.17262223, 12.0560838 , 10.96822804,\n",
       "       11.33822755, 11.95412054, 10.0106727 , 11.7533225 , 12.17027944,\n",
       "       11.51145436, 11.82809245, 11.33693049, 11.66085614, 10.82966928,\n",
       "       11.59477576, 11.95638972, 11.80702941, 12.25506342, 11.58097795,\n",
       "       11.55634546, 12.35203036, 11.18120253, 11.38509619, 11.54282103,\n",
       "       11.74880529, 11.82830544, 11.7567192 , 12.79425864, 10.8150656 ,\n",
       "       10.68489967, 11.64300485, 10.74392147, 11.16643833, 12.39635302,\n",
       "       11.78961271, 11.5748417 ,  9.4774286 , 12.18073787, 11.24454519,\n",
       "       11.8174287 , 11.92193753, 11.33330054,  8.26137169, 11.84367191,\n",
       "       12.96638292, 11.29882389, 10.99238698, 10.87366892, 12.24228379,\n",
       "       10.28630571, 10.99943938, 11.49231632, 11.90390128, 12.13590441,\n",
       "       12.61954339, 12.20669103, 11.19978529, 11.76413161, 11.08018004,\n",
       "       11.72415409, 11.88825206, 11.7489405 , 11.66425683, 10.97268447,\n",
       "       12.71683416, 12.16228954, 11.81473885, 11.7286083 , 10.72808467,\n",
       "       12.45803571, 10.89851687, 11.37716209, 10.67485834, 11.88121727,\n",
       "       12.63077637, 11.97676656, 10.52360474, 10.65283098, 12.37698936,\n",
       "       10.62993724, 11.90571885, 11.96127713, 10.98419967, 11.03940965,\n",
       "       11.0391689 , 10.99669332, 11.81107395, 11.53837272, 12.08816885,\n",
       "       12.9388979 , 12.16330397, 10.96540655, 11.42271768, 11.00263028,\n",
       "       11.42979115, 11.94688099, 12.7218464 , 11.79354974, 10.96070419,\n",
       "       11.80378662, 11.74622787, 11.82792292, 11.12468475, 12.84593458,\n",
       "       10.98148159, 11.03413206, 11.92709   , 11.20853932, 12.02954505,\n",
       "       12.29705422, 12.21961456, 11.45852659, 11.98783954, 11.54175853,\n",
       "       12.04364755, 12.03489254, 11.32039347, 11.00848304, 11.59842025,\n",
       "       11.3581379 , 11.15508737, 13.06417216, 12.22925205, 11.68486045,\n",
       "       11.69007364, 11.5734977 , 11.78929974, 11.24588785, 11.85681759,\n",
       "       11.59706984, 12.25205805, 10.73499555, 11.69317566, 11.08906479,\n",
       "       11.30112386, 12.07199743, 12.50734955, 12.25375747, 10.85269838,\n",
       "       11.95025553, 11.26880014, 12.26346578, 11.79984167, 12.04067929,\n",
       "       12.11912272, 11.88861266, 10.51429639, 11.92708852, 12.49058578,\n",
       "       10.39233969, 11.78456082, 11.72793131, 11.09957548, 11.58350692,\n",
       "       11.6006128 , 12.04924329, 12.18443231, 11.45996434, 12.50967906,\n",
       "       11.30817442, 10.11298716, 10.88135889, 10.99324223, 11.92231288,\n",
       "       11.79502393, 11.88582297, 11.25160581, 10.91554402, 10.41766132,\n",
       "       11.0013231 , 11.1881125 , 11.48794677, 11.28879693, 10.48182247,\n",
       "       11.32190463, 12.08459727, 11.17773913, 11.32675291, 11.19588404,\n",
       "       11.77735336, 12.26300105, 12.04758827, 10.67412903, 11.75742714,\n",
       "       11.12173991, 10.36911812, 10.38673376, 10.94946157, 11.85052427,\n",
       "       11.56830319, 11.70203214, 11.62009315, 12.25074737, 11.60295892,\n",
       "       10.63965294, 11.18853404, 11.84182853, 11.38878024, 11.78955973,\n",
       "       12.40930674, 12.19530141, 12.07167736, 11.83462769, 11.68867573,\n",
       "       11.33024484, 11.29040071, 12.32434066, 11.8123285 , 11.4078128 ,\n",
       "       12.50445571, 11.18145971, 11.60669664, 12.44474079, 11.19508724,\n",
       "       11.94340452, 11.58827077, 11.70419483, 11.16949514, 11.11646218,\n",
       "       12.18259696, 12.23884498, 12.30353827, 11.71909639, 11.2015846 ,\n",
       "       12.74727259, 10.85874021, 11.30993759, 11.9869957 , 11.34991772,\n",
       "       11.10740585, 12.03473897, 11.12431596, 10.84208681, 10.90726356,\n",
       "       12.45820644, 10.76840855, 12.16689124, 11.98408506, 10.54745088,\n",
       "       10.2220851 , 11.10006467, 12.00597827, 11.66605124, 11.61528371,\n",
       "       11.12118691, 11.77640479, 11.23219246, 11.52189865, 11.28687878,\n",
       "       11.31413236, 12.22910202, 11.93446538, 11.05012244, 12.14709917,\n",
       "       11.58974361, 11.65271109, 11.83017539, 11.19070086, 12.14139615,\n",
       "       11.67540347, 11.61561733, 11.7058426 , 12.08664846, 11.16942007,\n",
       "       11.64909228, 12.95627094, 12.28382196, 12.2131614 , 11.81390893,\n",
       "       11.11453263, 10.50717126, 12.09232376, 11.342221  , 11.70245394,\n",
       "       11.83621152, 12.50005159, 11.60368899, 11.40675981, 11.16969242,\n",
       "       11.31009203, 11.61260694, 11.59750089, 11.43933457, 11.31273382,\n",
       "       11.91763266, 10.72394253, 12.26241985, 10.95855358, 11.35719627,\n",
       "       10.9143731 , 11.07089341, 11.42420527, 12.76360227, 10.99155099,\n",
       "       11.88331209, 12.05644312, 11.53873666, 11.8385739 , 12.21827956,\n",
       "       11.73375892, 11.1013026 , 12.14063044, 10.89714809, 10.44445425,\n",
       "       12.08751308, 11.9427093 , 12.10847217, 12.40044903, 11.30338396,\n",
       "       11.17169291, 11.22962997, 11.38562865, 11.51708304, 11.26212037,\n",
       "       10.92474343, 11.95208497, 11.98326625, 11.65210056, 10.41526027,\n",
       "       10.68097712, 12.67537836, 11.52201543, 12.45635922, 10.84589773,\n",
       "       11.95649334, 10.92303519, 12.11532354, 11.95242333, 12.08807891,\n",
       "       12.98900404, 11.18858519, 11.79478676, 11.39020466, 11.95228446,\n",
       "       12.40027737, 11.42193391, 10.84690211, 11.60673623, 10.83069953,\n",
       "       11.09994821, 11.31381844, 10.99072931, 11.17174041, 10.86733979,\n",
       "       12.21993486, 11.35885517, 11.40148167, 11.8762756 , 11.63056899,\n",
       "       11.66701246, 11.08791371, 11.70578287, 11.9566115 , 11.01579588,\n",
       "       11.07994021, 11.71241065, 11.67730067, 12.00919057, 11.96268981,\n",
       "       12.62786816, 10.64035691, 11.32803314, 11.31994896, 10.44775096,\n",
       "       11.0124774 , 11.43746036, 11.84177995, 10.54849538, 11.52153485,\n",
       "       12.27515327, 11.76805412, 12.06588585, 12.07369426, 11.79874751,\n",
       "       11.8328246 , 11.63989684, 11.88350879, 11.3095488 , 10.75930981,\n",
       "       11.13249776, 11.87970222, 11.73995096, 11.36009099, 12.33535759,\n",
       "       11.76504806, 11.24173551, 11.37666875, 11.33869838, 11.59187228,\n",
       "       11.39253473, 11.88868482, 12.61694485, 12.10137779, 11.38490284,\n",
       "       11.81924529, 12.26622092, 11.09081846, 11.55442162, 10.5488418 ,\n",
       "       11.80610955, 11.09297263, 11.41118496, 11.32592288, 11.9064278 ,\n",
       "       12.33970626, 12.55192577, 11.29822194, 11.26337282, 12.20892634,\n",
       "       12.28094732, 11.4108836 , 12.09550025, 11.28923803, 11.50811851,\n",
       "       10.93239577, 11.36326682, 11.42576335, 12.573873  , 11.76746901,\n",
       "       11.73587693, 11.04325342, 11.55220783, 11.74626952, 10.92637809,\n",
       "       12.09604517, 12.08514987, 11.73757278, 10.47674832, 11.58568543,\n",
       "       12.1064984 , 11.43849909, 10.70363289, 11.43778147, 11.53857124,\n",
       "       11.62777335, 11.84330537, 11.65852108, 12.51543582, 10.97439591,\n",
       "       11.30423709, 11.08242206, 11.27466979, 10.61425882, 12.67431906,\n",
       "       12.37277699, 12.68652168, 11.07687278, 11.23258574, 11.50619127,\n",
       "       11.01150061, 12.16749014, 11.18334647, 12.50857625, 11.11289008,\n",
       "       10.61912948, 11.91315727, 10.74478817, 12.41505439, 11.51175264,\n",
       "       11.98193401, 13.00297301, 12.52377552, 11.56108291, 10.97014838,\n",
       "       11.52057409, 14.27023478, 12.26004867, 12.11215057, 12.5808077 ,\n",
       "       12.28010319, 11.55343215, 11.91563199, 11.73815298, 11.23133715,\n",
       "       11.62288469, 10.96758602, 11.62153873, 11.9520784 , 11.54336211,\n",
       "       11.43524449, 10.52032535, 11.16098949, 11.41760318, 11.55747296,\n",
       "       12.0977967 , 10.13975908, 11.07167407, 12.99047419, 11.47025993,\n",
       "       11.4488774 , 11.59202335, 10.99228072, 12.36570983, 12.09915732,\n",
       "       11.8603425 , 12.25681828, 10.67161772, 12.10248828, 11.27235952,\n",
       "       11.8589643 , 11.32659717, 12.3106182 , 11.9516679 , 11.68336391,\n",
       "       10.79488722, 12.70868979, 12.09073469, 11.03283874, 11.41479277,\n",
       "       11.77253978, 11.18660428, 10.95307076, 11.48396898, 11.069397  ,\n",
       "       11.1380211 , 11.71706499, 10.95316584, 11.71760484, 11.60812413,\n",
       "       12.053029  , 11.77918497, 11.19263768, 11.07928029, 10.54901303,\n",
       "       11.64883566, 11.94965982, 13.60288421, 11.35650853, 11.86784809,\n",
       "       11.04532491, 11.62628613, 10.52670183, 11.20688991, 11.38964267,\n",
       "       12.01972005,  9.63922437, 12.06819721, 12.39232899, 11.92007195,\n",
       "       11.93089471, 12.11232531, 11.61997931, 11.64843316, 11.75891693,\n",
       "       11.682272  , 11.66369857, 11.83365504, 11.04609897, 11.94165738,\n",
       "       11.2275805 , 11.15842416, 11.9078004 , 11.77436078, 11.26117166,\n",
       "       12.06875633, 11.76979165])"
      ]
     },
     "execution_count": 49,
     "metadata": {},
     "output_type": "execute_result"
    }
   ],
   "source": [
    "#Regresando las predicciones al rango de operación\n",
    "new_ySVMN_pr = (new_ySVMN_predict*(max(ySVM_test) - min(ySVM_test))) + min(ySVM_test)\n",
    "new_ySVMN_pr"
   ]
  },
  {
   "cell_type": "markdown",
   "id": "t_sY2Xj-Ynl4",
   "metadata": {
    "id": "t_sY2Xj-Ynl4"
   },
   "source": [
    "Comparamos el modelo a traves del error cuadratico medio:"
   ]
  },
  {
   "cell_type": "code",
   "execution_count": 50,
   "id": "dffcbb20",
   "metadata": {
    "id": "dffcbb20",
    "outputId": "7a822e96-235a-45ac-9b6d-3a505503389a"
   },
   "outputs": [
    {
     "data": {
      "text/plain": [
       "5.499504206617626"
      ]
     },
     "execution_count": 50,
     "metadata": {},
     "output_type": "execute_result"
    }
   ],
   "source": [
    "mean_squared_error(ySVM_test, new_ySVMN_pr)"
   ]
  },
  {
   "cell_type": "code",
   "execution_count": 51,
   "id": "f68aa57d",
   "metadata": {
    "id": "f68aa57d",
    "outputId": "dd952481-ecd0-4e7f-f96f-14a3c41a5c10"
   },
   "outputs": [
    {
     "name": "stdout",
     "output_type": "stream",
     "text": [
      "Accuracy: 78.65 %.\n"
     ]
    }
   ],
   "source": [
    "# Calculate mean absolute percentage error (MAPE)\n",
    "mapeSVMgp = 100 * (abs(new_ySVMN_pr - ySVM_test.values) / ySVM_test.values)\n",
    "# Calculate and display accuracy\n",
    "accSVMgp = 100 - np.mean(mapeSVMgp)\n",
    "print('Accuracy:', round(accSVMgp, 2), '%.')"
   ]
  },
  {
   "cell_type": "code",
   "execution_count": 53,
   "id": "3ce63052",
   "metadata": {
    "id": "3ce63052",
    "outputId": "5a16fcf2-2ad9-4742-da6f-4a72f16c928c"
   },
   "outputs": [
    {
     "data": {
      "text/plain": [
       "Text(0.5, 1.0, 'Valores medidos vs. predicciones')"
      ]
     },
     "execution_count": 53,
     "metadata": {},
     "output_type": "execute_result"
    },
    {
     "data": {
      "image/png": "[encoded data removed]",
      "text/plain": [
       "<Figure size 1152x360 with 1 Axes>"
      ]
     },
     "metadata": {},
     "output_type": "display_data"
    }
   ],
   "source": [
    "# Dataframe with predictions and dates\n",
    "predictions_dataN = XSVM_test.join(dataSVM['Timestamp']).assign(y_predict = new_ySVMN_pr)\n",
    "# Plot the actual values\n",
    "plt.style.use('fivethirtyeight')\n",
    "plt.figure(figsize=(16,5))\n",
    "plt.plot(dataSVM['Timestamp'], dataSVM['Humedad'], 'b-', label = 'actual')\n",
    "# Plot the predicted values\n",
    "plt.plot(predictions_dataN['Timestamp'], predictions_dataN['y_predict'], 'ro', label = 'prediction')\n",
    "plt.xticks(rotation = '60')\n",
    "plt.legend()\n",
    "# Graph labels\n",
    "plt.xlabel('Fecha'); plt.ylabel('Humedad (%)'); plt.title('Valores medidos vs. predicciones')"
   ]
  },
  {
   "cell_type": "code",
   "execution_count": null,
   "id": "58505e1c",
   "metadata": {
    "id": "58505e1c"
   },
   "outputs": [],
   "source": []
  }
 ],
 "metadata": {
  "colab": {
   "name": "Copia de SVM_Secador_Gluten.ipynb",
   "provenance": [
    {
     "file_id": "1CeBtjep8XIJt5RG8XGS-cRNjRQ3rVM5r",
     "timestamp": 1638758573120
    }
   ]
  },
  "kernelspec": {
   "display_name": "Python 3",
   "language": "python",
   "name": "python3"
  },
  "language_info": {
   "codemirror_mode": {
    "name": "ipython",
    "version": 3
   },
   "file_extension": ".py",
   "mimetype": "text/x-python",
   "name": "python",
   "nbconvert_exporter": "python",
   "pygments_lexer": "ipython3",
   "version": "3.8.8"
  }
 },
 "nbformat": 4,
 "nbformat_minor": 5
}
